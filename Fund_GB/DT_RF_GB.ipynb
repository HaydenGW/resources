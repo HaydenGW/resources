{
 "cells": [
  {
   "cell_type": "markdown",
   "metadata": {},
   "source": [
    "# Gradient Boosting Course\n",
    "## Course 2: Fundamentals of Gradient Boosting\n"
   ]
  },
  {
   "cell_type": "markdown",
   "metadata": {},
   "source": [
    "## Outline\n",
    "- Decision Trees\n",
    "- Forests of Decision Trees\n",
    "- Gradient Boosted Trees"
   ]
  },
  {
   "cell_type": "markdown",
   "metadata": {},
   "source": [
    "## Decision Trees\n",
    "\n",
    "- \"Similarity Principle\" - two values of x that are \"similar\" should have similar predictions about y.\n",
    "- For numeric predictors, similarity means that $|x_1 - x_2|$ is small\n",
    "- For categorical predictors, less clear how to define similarity (more about this later)\n",
    "\n",
    "\n",
    "### Example: Linear Regression\n",
    "- Consider linear regression on a single variable.\n",
    "- Model: $y = \\alpha + \\beta x$\n",
    "- Similarity comes from the fact that the function is continuous\n",
    "- Lines give an easily specified set of reasonable functions, that are governed by few (two) parameters\n",
    "\n",
    "- Q: What is another class of functions that can be specified with few parameters?\n",
    "- A: There are many, but in particular: step functions!\n",
    "    - $f(x) = a \\mbox{ if } x\\leq c$\n",
    "    - $f(x) = b \\mbox{ if } x> c$"
   ]
  },
  {
   "cell_type": "markdown",
   "metadata": {},
   "source": [
    "### Fitting a step function\n",
    "- In linear regression, there is matrix algebra that lets you find the best $\\alpha, \\beta$ to minimze the mean squared error on a data set.\n",
    "- For a step function, you just try every possible \"split\" $c$ and then choose $a$ and $b$ to be the means of the points on each side of the split respectively"
   ]
  },
  {
   "cell_type": "code",
   "execution_count": 1,
   "metadata": {},
   "outputs": [],
   "source": [
    "import pandas as pd\n",
    "import numpy as np\n",
    "import matplotlib.pyplot as plt\n"
   ]
  },
  {
   "cell_type": "code",
   "execution_count": 2,
   "metadata": {},
   "outputs": [],
   "source": [
    "# Create some data - step change at x = 7\n",
    "np.random.seed(0)\n",
    "npts=25\n",
    "xvec = np.round(np.random.uniform(0,10, size=25), decimals = 2)\n",
    "yvec = 2*(xvec<=7) + 6*(xvec>7) + np.round(np.random.normal(0,1,size=25), decimals=2)"
   ]
  },
  {
   "cell_type": "code",
   "execution_count": 3,
   "metadata": {},
   "outputs": [
    {
     "data": {
      "image/png": "[encoded data removed]",
      "text/plain": [
       "<Figure size 432x288 with 1 Axes>"
      ]
     },
     "metadata": {
      "needs_background": "light"
     },
     "output_type": "display_data"
    }
   ],
   "source": [
    "plt.scatter(xvec, yvec);"
   ]
  },
  {
   "cell_type": "code",
   "execution_count": 4,
   "metadata": {
    "scrolled": true,
    "tags": []
   },
   "outputs": [
    {
     "name": "stdout",
     "output_type": "stream",
     "text": [
      "splt mn_l mn_r mse\n",
      "0.2 3.79 3.898 4.675\n",
      "0.71 2.355 4.028 4.469\n",
      "0.87 2.703 4.056 4.482\n",
      "1.18 2.778 4.107 4.438\n",
      "3.83 2.632 4.21 4.277\n",
      "4.24 2.267 4.408 3.839\n",
      "4.38 2.194 4.555 3.552\n",
      "4.61 2.121 4.728 3.196\n",
      "5.29 2.279 4.802 3.208\n",
      "5.45 2.319 4.944 3.022\n",
      "5.49 2.203 5.223 2.428\n",
      "5.68 2.233 5.427 2.13\n",
      "6.03 2.218 5.71 1.631\n",
      "6.46 2.161 6.099 0.855\n",
      "7.15 2.443 6.071 1.516\n",
      "7.78 2.676 6.059 2.039\n",
      "7.81 2.826 6.164 2.251\n",
      "7.92 3.083 5.979 2.985\n",
      "7.99 3.271 5.868 3.444\n",
      "8.33 3.379 5.956 3.612\n",
      "8.7 3.481 6.06 3.782\n",
      "8.92 3.665 5.577 4.289\n",
      "9.26 3.773 5.29 4.506\n",
      "9.64 3.852 4.91 4.632\n"
     ]
    }
   ],
   "source": [
    "# Quick loop to try all split values\n",
    "# Fit the mean on the left and mean on the right\n",
    "# calculate the total mean-squared error\n",
    "\n",
    "print('splt', 'mn_l','mn_r', 'mse') \n",
    "\n",
    "for split_val in np.unique(xvec)[:-1]:\n",
    "    a_val = np.mean(yvec[xvec<=split_val])\n",
    "    b_val = np.mean(yvec[xvec>split_val])\n",
    "    error_1 = (yvec[xvec<=split_val] - a_val)**2\n",
    "    error_2 = (yvec[xvec>split_val] - b_val)**2\n",
    "    error = np.mean(np.concatenate((error_1, error_2)))\n",
    "    print(split_val, np.round(a_val,decimals=3), \n",
    "          np.round(b_val, decimals=3), np.round(error,decimals=3))"
   ]
  },
  {
   "cell_type": "code",
   "execution_count": 5,
   "metadata": {},
   "outputs": [
    {
     "data": {
      "text/plain": [
       "<matplotlib.collections.LineCollection at 0x12963ab80>"
      ]
     },
     "execution_count": 5,
     "metadata": {},
     "output_type": "execute_result"
    },
    {
     "data": {
      "image/png": "[encoded data removed]",
      "text/plain": [
       "<Figure size 432x288 with 1 Axes>"
      ]
     },
     "metadata": {
      "needs_background": "light"
     },
     "output_type": "display_data"
    }
   ],
   "source": [
    "# Plot best split found (and another lesser split as dotted line)\n",
    "plt.scatter(xvec, yvec)\n",
    "plt.hlines(y=2.16, xmin=0, xmax=7.15)\n",
    "plt.hlines(y=6.09, xmin=7.15, xmax=10)\n",
    "plt.hlines(y=2.319, xmin=0, xmax=5.45, linestyles='dotted')\n",
    "plt.hlines(y=4.944, xmin=5.45, xmax=10, linestyles='dotted')"
   ]
  },
  {
   "cell_type": "markdown",
   "metadata": {},
   "source": [
    "### Question 1: What about when I want multiple steps?\n",
    "- Let $m$ be number of different x values\n",
    "- To check every division into two steps takes $m$ evaluations\n",
    "- To check every division into three steps takes $m^2$ evaluations\n",
    "- etc....\n",
    "\n",
    "### Question: What about when I have multiple variables?\n",
    "- Again, to find the best step function with (for example) 8 leaves and 4 variables would be very difficult\n",
    "\n",
    "### Solution: Use a *greedy* approach\n",
    "- Find the best split across all variables\n",
    "- Repeat process on each side of split separately (using only data on that side of split)\n",
    "- Stop according to some rules\n",
    "- Note: This does not find the best possible tree!  For example, it may be that you get the best tree by choosing a \"not-so-good\" split first, but it enables better splits below.\n",
    "\n"
   ]
  },
  {
   "cell_type": "code",
   "execution_count": null,
   "metadata": {},
   "outputs": [],
   "source": []
  },
  {
   "cell_type": "code",
   "execution_count": 6,
   "metadata": {},
   "outputs": [],
   "source": [
    "# Create new data - jumps at x=2,4,6, step heights are 3,2,4,9\n",
    "np.random.seed(0)\n",
    "npts=100\n",
    "xvec = np.round(np.random.uniform(0,10, size=npts), decimals = 2)\n",
    "yvec = 3- 1*(xvec>2) + 2* (xvec>4) + 5* (xvec>6) + np.round(np.random.normal(0,.5,size=npts), decimals=2)"
   ]
  },
  {
   "cell_type": "code",
   "execution_count": 7,
   "metadata": {},
   "outputs": [
    {
     "data": {
      "text/plain": [
       "<matplotlib.collections.LineCollection at 0x1296b99a0>"
      ]
     },
     "execution_count": 7,
     "metadata": {},
     "output_type": "execute_result"
    },
    {
     "data": {
      "image/png": "[encoded data removed]",
      "text/plain": [
       "<Figure size 432x288 with 1 Axes>"
      ]
     },
     "metadata": {
      "needs_background": "light"
     },
     "output_type": "display_data"
    }
   ],
   "source": [
    "plt.scatter(xvec, yvec)\n",
    "plt.hlines(y=3, xmin=0, xmax=2, color='black')\n",
    "plt.hlines(y=2, xmin=2, xmax=4, color='black')\n",
    "plt.hlines(y=4, xmin=4, xmax=6, color='black')\n",
    "plt.hlines(y=9, xmin=6, xmax=10, color='black')\n",
    "plt.vlines(x=6, ymin=0, ymax=10, color='red', linestyle='dotted')"
   ]
  },
  {
   "cell_type": "code",
   "execution_count": 8,
   "metadata": {
    "scrolled": true,
    "tags": []
   },
   "outputs": [
    {
     "name": "stdout",
     "output_type": "stream",
     "text": [
      "splt mn_l mn_r mse\n",
      "0.05 3.01 5.45 8.792\n",
      "0.19 2.94 5.477 8.725\n",
      "0.2 2.887 5.532 8.583\n",
      "0.39 2.844 5.562 8.5\n",
      "0.6 2.98 5.582 8.469\n",
      "0.64 3.05 5.605 8.426\n",
      "0.71 3.066 5.631 8.367\n",
      "0.87 3.098 5.656 8.315\n",
      "0.94 3.011 5.694 8.203\n",
      "0.96 2.989 5.727 8.117\n",
      "0.97 3.037 5.752 8.073\n",
      "1.02 3.035 5.783 7.997\n",
      "1.1 3.049 5.813 7.931\n",
      "1.18 3.006 5.853 7.818\n",
      "1.19 2.992 5.889 7.723\n",
      "1.2 2.961 5.931 7.606\n",
      "1.29 3.014 5.955 7.574\n",
      "1.32 3.036 5.986 7.511\n",
      "1.38 3.05 6.02 7.44\n",
      "1.43 3.038 6.061 7.335\n",
      "1.59 3.002 6.109 7.194\n",
      "1.61 3.017 6.145 7.117\n",
      "1.83 3.03 6.182 7.039\n",
      "1.97 3.076 6.209 7.011\n",
      "2.09 3.023 6.27 6.822\n",
      "2.1 2.977 6.332 6.633\n",
      "2.44 2.922 6.399 6.413\n",
      "2.53 2.887 6.463 6.218\n",
      "2.65 2.873 6.573 5.924\n",
      "2.83 2.863 6.632 5.761\n",
      "2.89 2.822 6.709 5.511\n",
      "2.96 2.781 6.788 5.246\n",
      "3.15 2.768 6.857 5.047\n",
      "3.18 2.74 6.937 4.793\n",
      "3.19 2.732 7.008 4.59\n",
      "3.6 2.718 7.085 4.357\n",
      "3.64 2.705 7.166 4.117\n",
      "3.69 2.699 7.244 3.893\n",
      "3.83 2.695 7.324 3.668\n",
      "4.14 2.749 7.364 3.661\n",
      "4.15 2.795 7.411 3.629\n",
      "4.24 2.839 7.458 3.594\n",
      "4.37 2.853 7.531 3.434\n",
      "4.38 2.89 7.586 3.375\n",
      "4.39 2.92 7.648 3.282\n",
      "4.56 2.933 7.727 3.117\n",
      "4.61 2.942 7.812 2.924\n",
      "4.66 2.967 7.884 2.806\n",
      "4.69 3.004 7.946 2.748\n",
      "5.22 3.042 8.008 2.695\n",
      "5.23 3.051 8.104 2.489\n",
      "5.29 3.079 8.18 2.388\n",
      "5.45 3.082 8.29 2.138\n",
      "5.49 3.088 8.401 1.897\n",
      "5.67 3.094 8.517 1.64\n",
      "5.68 3.142 8.712 1.347\n",
      "5.7 3.15 8.839 1.083\n",
      "5.76 3.174 8.948 0.919\n",
      "5.87 3.181 9.089 0.627\n",
      "6.03 3.277 9.085 0.987\n",
      "6.05 3.36 9.099 1.262\n",
      "6.12 3.454 9.088 1.628\n",
      "6.17 3.537 9.093 1.922\n",
      "6.18 3.624 9.084 2.26\n",
      "6.4 3.717 9.056 2.649\n",
      "6.46 3.808 9.027 3.023\n",
      "6.53 3.886 9.019 3.319\n",
      "6.56 3.959 9.017 3.585\n",
      "6.67 4.095 9.025 4.06\n",
      "6.71 4.16 9.028 4.291\n",
      "6.82 4.231 9.011 4.566\n",
      "6.92 4.294 9.01 4.794\n",
      "6.98 4.357 9.004 5.027\n",
      "7.15 4.422 8.984 5.281\n",
      "7.16 4.476 8.999 5.458\n",
      "7.39 4.532 9.001 5.656\n",
      "7.74 4.593 8.977 5.892\n",
      "7.78 4.647 8.973 6.089\n",
      "7.81 4.705 8.943 6.317\n",
      "7.92 4.754 8.952 6.483\n",
      "7.99 4.796 8.993 6.605\n",
      "8.21 4.84 9.026 6.741\n",
      "8.29 4.885 9.045 6.893\n",
      "8.33 4.942 8.975 7.133\n",
      "8.38 4.98 9.033 7.243\n",
      "8.7 5.027 9.016 7.419\n",
      "8.92 5.07 9.028 7.568\n",
      "9.26 5.118 8.97 7.759\n",
      "9.29 5.161 8.943 7.92\n",
      "9.44 5.205 8.882 8.089\n",
      "9.45 5.241 8.932 8.204\n",
      "9.64 5.275 9.05 8.304\n",
      "9.76 5.313 9.077 8.439\n",
      "9.77 5.347 9.3 8.545\n",
      "9.79 5.393 8.66 8.745\n"
     ]
    }
   ],
   "source": [
    "# Quick loop to try all split values\n",
    "# Fit the mean on the left and mean on the right\n",
    "# calculate the total mean-squared error\n",
    "\n",
    "print('splt', 'mn_l','mn_r', 'mse') \n",
    "\n",
    "for split_val in np.unique(xvec)[:-1]:\n",
    "    a_val = np.mean(yvec[xvec<=split_val])\n",
    "    b_val = np.mean(yvec[xvec>split_val])\n",
    "    error_1 = (yvec[xvec<=split_val] - a_val)**2\n",
    "    error_2 = (yvec[xvec>split_val] - b_val)**2\n",
    "    error = np.mean(np.concatenate((error_1, error_2)))\n",
    "    print(split_val, np.round(a_val,decimals=3), \n",
    "          np.round(b_val, decimals=3), np.round(error,decimals=3))"
   ]
  },
  {
   "cell_type": "markdown",
   "metadata": {},
   "source": [
    "### Parameters for decision tree algorithm\n",
    "(I put the sklearn names below, other packages may vary in their naming)\n",
    "- `max_depth`: don't split further when you've reached a certain depth\n",
    "- `min_samples_split`: don't split if you have few data points at the node\n",
    "- `min_samples_leaf`: don't split if it creates a node with few data points\n",
    "- `criterion`: how to evaluate how \"good\" a split is.  Typically use mean_squared_error for regression and entropy for classification (though \"gini\" is also used as a quicker approximation to entropy).  In practice, the distinction between entropy and gini is usually not that important.\n",
    "\n",
    "### Implementation details:\n",
    "- What about missing values?\n",
    "- What about categorical variables?"
   ]
  },
  {
   "cell_type": "markdown",
   "metadata": {
    "jupyter": {
     "outputs_hidden": false
    }
   },
   "source": [
    "<br>\n",
    "<br>\n",
    "<br>\n",
    "<br>\n",
    "<br>\n",
    "<br>\n",
    "<br>\n",
    "<br>\n",
    "<br>\n",
    "<br>\n",
    "<br>\n"
   ]
  },
  {
   "cell_type": "markdown",
   "metadata": {
    "jupyter": {
     "outputs_hidden": false
    }
   },
   "source": [
    "## Forests of Decision Trees (Random Forests): Motivating thought experiment\n",
    "- In practice, it is rare to use a single decision tree as your model (though it does happen!)\n",
    "- Imagine you build a decision tree, and at the root it is very close between two different variables as to which is the best to split on.\n",
    "- The \"best\" tree $T_1$ gives a reasonable model. However, you also check what tree you would have built if you used the second-best split (at the root) (call it $T_2$).\n",
    "- Then you average the predictions of $T_1$ and $T_2$ and find it does better than either tree alone\n",
    "- You would like to expand this idea and build 1000 trees that are all \"pretty good\" and also different from one another.\n",
    "- IDEA: inject some randomness into tree building process...\n",
    "\n",
    "<br>\n",
    "<br>\n",
    "<br>\n",
    "<br>\n",
    "<br>\n",
    "<br>\n",
    "<br>\n",
    "<br>\n",
    "<br>\n",
    "\n",
    "### Injecting Randomness\n",
    "When building a forest, one builds many decision trees independently.  Since the decision tree algorithm is deterministic, if you run it over and over again on the same dataset, you will just get the same tree over and over.\n",
    "\n",
    "<br>\n",
    "<br>\n",
    "<br>\n",
    "<br>\n",
    "<br>\n",
    "\n",
    "#### Randomness 1\n",
    "Use different datasets each time.  Specifically, take a random sample of your data (how big? with or without replacement?).  This is called \"bagging\".  This means you can get different trees because the data looks different.\n",
    "- This helps, but the trees end up still being pretty similar most of the time\n",
    "\n",
    "<br>\n",
    "<br>\n",
    "<br>\n",
    "<br>\n",
    "<br>\n",
    "<br>\n",
    "\n",
    "#### Randomness 2\n",
    "Only evaluate a subset of the predictors at each node.  For example, if you have 10 predictors, randomly choose 3 and only consider those.  This means the root splits (and subsequent splits) will be quite different from tree to tree.\n",
    "\n",
    "Since each tree is a completely independent trial of this process, it is straightforward to parallelize."
   ]
  },
  {
   "cell_type": "markdown",
   "metadata": {
    "jupyter": {
     "outputs_hidden": false
    }
   },
   "source": [
    "### Parameters for Random Forest (in addition to Decision Tree)\n",
    "- all the tree-specific parameters above\n",
    "- `n_estimators`: Number of trees to fit\n",
    "- `max_features`: How many (or what percentage) of the features to try at each node."
   ]
  },
  {
   "cell_type": "code",
   "execution_count": null,
   "metadata": {},
   "outputs": [],
   "source": []
  },
  {
   "cell_type": "markdown",
   "metadata": {},
   "source": [
    "## Random Forest / Decision Trees in Action"
   ]
  },
  {
   "cell_type": "code",
   "execution_count": 9,
   "metadata": {},
   "outputs": [],
   "source": [
    "from sklearn.model_selection import train_test_split\n",
    "from sklearn.model_selection import train_test_split\n",
    "from sklearn.ensemble import RandomForestRegressor\n",
    "from sklearn.metrics import mean_squared_error, mean_absolute_error, log_loss, r2_score"
   ]
  },
  {
   "cell_type": "code",
   "execution_count": 10,
   "metadata": {
    "scrolled": true,
    "tags": []
   },
   "outputs": [
    {
     "name": "stdout",
     "output_type": "stream",
     "text": [
      "<class 'pandas.core.frame.DataFrame'>\n",
      "Int64Index: 2925 entries, 0 to 2929\n",
      "Data columns (total 82 columns):\n",
      " #   Column           Non-Null Count  Dtype  \n",
      "---  ------           --------------  -----  \n",
      " 0   Order            2925 non-null   int64  \n",
      " 1   PID              2925 non-null   int64  \n",
      " 2   MS SubClass      2925 non-null   int64  \n",
      " 3   MS Zoning        2925 non-null   object \n",
      " 4   Lot Frontage     2435 non-null   float64\n",
      " 5   Lot Area         2925 non-null   int64  \n",
      " 6   Street           2925 non-null   object \n",
      " 7   Alley            198 non-null    object \n",
      " 8   Lot Shape        2925 non-null   object \n",
      " 9   Land Contour     2925 non-null   object \n",
      " 10  Utilities        2925 non-null   object \n",
      " 11  Lot Config       2925 non-null   object \n",
      " 12  Land Slope       2925 non-null   object \n",
      " 13  Neighborhood     2925 non-null   object \n",
      " 14  Condition 1      2925 non-null   object \n",
      " 15  Condition 2      2925 non-null   object \n",
      " 16  Bldg Type        2925 non-null   object \n",
      " 17  House Style      2925 non-null   object \n",
      " 18  Overall Qual     2925 non-null   int64  \n",
      " 19  Overall Cond     2925 non-null   int64  \n",
      " 20  Year Built       2925 non-null   int64  \n",
      " 21  Year Remod/Add   2925 non-null   int64  \n",
      " 22  Roof Style       2925 non-null   object \n",
      " 23  Roof Matl        2925 non-null   object \n",
      " 24  Exterior 1st     2925 non-null   object \n",
      " 25  Exterior 2nd     2925 non-null   object \n",
      " 26  Mas Vnr Type     2902 non-null   object \n",
      " 27  Mas Vnr Area     2902 non-null   float64\n",
      " 28  Exter Qual       2925 non-null   object \n",
      " 29  Exter Cond       2925 non-null   object \n",
      " 30  Foundation       2925 non-null   object \n",
      " 31  Bsmt Qual        2845 non-null   object \n",
      " 32  Bsmt Cond        2845 non-null   object \n",
      " 33  Bsmt Exposure    2842 non-null   object \n",
      " 34  BsmtFin Type 1   2845 non-null   object \n",
      " 35  BsmtFin SF 1     2924 non-null   float64\n",
      " 36  BsmtFin Type 2   2844 non-null   object \n",
      " 37  BsmtFin SF 2     2924 non-null   float64\n",
      " 38  Bsmt Unf SF      2924 non-null   float64\n",
      " 39  Total Bsmt SF    2924 non-null   float64\n",
      " 40  Heating          2925 non-null   object \n",
      " 41  Heating QC       2925 non-null   object \n",
      " 42  Central Air      2925 non-null   object \n",
      " 43  Electrical       2924 non-null   object \n",
      " 44  1st Flr SF       2925 non-null   int64  \n",
      " 45  2nd Flr SF       2925 non-null   int64  \n",
      " 46  Low Qual Fin SF  2925 non-null   int64  \n",
      " 47  Gr Liv Area      2925 non-null   int64  \n",
      " 48  Bsmt Full Bath   2923 non-null   float64\n",
      " 49  Bsmt Half Bath   2923 non-null   float64\n",
      " 50  Full Bath        2925 non-null   int64  \n",
      " 51  Half Bath        2925 non-null   int64  \n",
      " 52  Bedroom AbvGr    2925 non-null   int64  \n",
      " 53  Kitchen AbvGr    2925 non-null   int64  \n",
      " 54  Kitchen Qual     2925 non-null   object \n",
      " 55  TotRms AbvGrd    2925 non-null   int64  \n",
      " 56  Functional       2925 non-null   object \n",
      " 57  Fireplaces       2925 non-null   int64  \n",
      " 58  Fireplace Qu     1503 non-null   object \n",
      " 59  Garage Type      2768 non-null   object \n",
      " 60  Garage Yr Blt    2766 non-null   float64\n",
      " 61  Garage Finish    2766 non-null   object \n",
      " 62  Garage Cars      2924 non-null   float64\n",
      " 63  Garage Area      2925 non-null   float64\n",
      " 64  Garage Qual      2766 non-null   object \n",
      " 65  Garage Cond      2766 non-null   object \n",
      " 66  Paved Drive      2925 non-null   object \n",
      " 67  Wood Deck SF     2925 non-null   int64  \n",
      " 68  Open Porch SF    2925 non-null   int64  \n",
      " 69  Enclosed Porch   2925 non-null   int64  \n",
      " 70  3Ssn Porch       2925 non-null   int64  \n",
      " 71  Screen Porch     2925 non-null   int64  \n",
      " 72  Pool Area        2925 non-null   int64  \n",
      " 73  Pool QC          11 non-null     object \n",
      " 74  Fence            571 non-null    object \n",
      " 75  Misc Feature     105 non-null    object \n",
      " 76  Misc Val         2925 non-null   int64  \n",
      " 77  Mo Sold          2925 non-null   int64  \n",
      " 78  Yr Sold          2925 non-null   int64  \n",
      " 79  Sale Type        2925 non-null   object \n",
      " 80  Sale Condition   2925 non-null   object \n",
      " 81  SalePrice        2925 non-null   int64  \n",
      "dtypes: float64(11), int64(28), object(43)\n",
      "memory usage: 1.9+ MB\n"
     ]
    }
   ],
   "source": [
    "df_house = pd.read_csv('../GBIP/data/Ames_Housing_Data.tsv', delimiter='\\t')\n",
    "df_house = df_house.loc[df_house['Gr Liv Area']<=4000,:]\n",
    "df_house['Garage Area'].fillna(0, inplace=True)\n",
    "df_house.info()"
   ]
  },
  {
   "cell_type": "code",
   "execution_count": null,
   "metadata": {},
   "outputs": [],
   "source": []
  },
  {
   "cell_type": "code",
   "execution_count": 11,
   "metadata": {},
   "outputs": [],
   "source": [
    "# Choose a few features\n",
    "features = [\n",
    " 'Year Built',\n",
    " 'Gr Liv Area',\n",
    " 'Bedroom AbvGr', \n",
    "    'Lot Area']"
   ]
  },
  {
   "cell_type": "code",
   "execution_count": 12,
   "metadata": {},
   "outputs": [],
   "source": [
    "# Set up our dataframes\n",
    "X = df_house.iloc[:,:-1]  # everything except Sale Price\n",
    "y = df_house.SalePrice \n",
    "\n",
    "X_train_full, X_test, y_train, y_test = train_test_split(X,y,test_size = 400, random_state=0)\n",
    "\n",
    "# create data sets of just the smaller subset of features\n",
    "X_train_0 = X_train_full.loc[:, features]\n",
    "X_test_0 = X_test.loc[:, features]"
   ]
  },
  {
   "cell_type": "code",
   "execution_count": 13,
   "metadata": {},
   "outputs": [
    {
     "data": {
      "text/html": [
       "<style>#sk-container-id-1 {color: black;background-color: white;}#sk-container-id-1 pre{padding: 0;}#sk-container-id-1 div.sk-toggleable {background-color: white;}#sk-container-id-1 label.sk-toggleable__label {cursor: pointer;display: block;width: 100%;margin-bottom: 0;padding: 0.3em;box-sizing: border-box;text-align: center;}#sk-container-id-1 label.sk-toggleable__label-arrow:before {content: \"▸\";float: left;margin-right: 0.25em;color: #696969;}#sk-container-id-1 label.sk-toggleable__label-arrow:hover:before {color: black;}#sk-container-id-1 div.sk-estimator:hover label.sk-toggleable__label-arrow:before {color: black;}#sk-container-id-1 div.sk-toggleable__content {max-height: 0;max-width: 0;overflow: hidden;text-align: left;background-color: #f0f8ff;}#sk-container-id-1 div.sk-toggleable__content pre {margin: 0.2em;color: black;border-radius: 0.25em;background-color: #f0f8ff;}#sk-container-id-1 input.sk-toggleable__control:checked~div.sk-toggleable__content {max-height: 200px;max-width: 100%;overflow: auto;}#sk-container-id-1 input.sk-toggleable__control:checked~label.sk-toggleable__label-arrow:before {content: \"▾\";}#sk-container-id-1 div.sk-estimator input.sk-toggleable__control:checked~label.sk-toggleable__label {background-color: #d4ebff;}#sk-container-id-1 div.sk-label input.sk-toggleable__control:checked~label.sk-toggleable__label {background-color: #d4ebff;}#sk-container-id-1 input.sk-hidden--visually {border: 0;clip: rect(1px 1px 1px 1px);clip: rect(1px, 1px, 1px, 1px);height: 1px;margin: -1px;overflow: hidden;padding: 0;position: absolute;width: 1px;}#sk-container-id-1 div.sk-estimator {font-family: monospace;background-color: #f0f8ff;border: 1px dotted black;border-radius: 0.25em;box-sizing: border-box;margin-bottom: 0.5em;}#sk-container-id-1 div.sk-estimator:hover {background-color: #d4ebff;}#sk-container-id-1 div.sk-parallel-item::after {content: \"\";width: 100%;border-bottom: 1px solid gray;flex-grow: 1;}#sk-container-id-1 div.sk-label:hover label.sk-toggleable__label {background-color: #d4ebff;}#sk-container-id-1 div.sk-serial::before {content: \"\";position: absolute;border-left: 1px solid gray;box-sizing: border-box;top: 0;bottom: 0;left: 50%;z-index: 0;}#sk-container-id-1 div.sk-serial {display: flex;flex-direction: column;align-items: center;background-color: white;padding-right: 0.2em;padding-left: 0.2em;position: relative;}#sk-container-id-1 div.sk-item {position: relative;z-index: 1;}#sk-container-id-1 div.sk-parallel {display: flex;align-items: stretch;justify-content: center;background-color: white;position: relative;}#sk-container-id-1 div.sk-item::before, #sk-container-id-1 div.sk-parallel-item::before {content: \"\";position: absolute;border-left: 1px solid gray;box-sizing: border-box;top: 0;bottom: 0;left: 50%;z-index: -1;}#sk-container-id-1 div.sk-parallel-item {display: flex;flex-direction: column;z-index: 1;position: relative;background-color: white;}#sk-container-id-1 div.sk-parallel-item:first-child::after {align-self: flex-end;width: 50%;}#sk-container-id-1 div.sk-parallel-item:last-child::after {align-self: flex-start;width: 50%;}#sk-container-id-1 div.sk-parallel-item:only-child::after {width: 0;}#sk-container-id-1 div.sk-dashed-wrapped {border: 1px dashed gray;margin: 0 0.4em 0.5em 0.4em;box-sizing: border-box;padding-bottom: 0.4em;background-color: white;}#sk-container-id-1 div.sk-label label {font-family: monospace;font-weight: bold;display: inline-block;line-height: 1.2em;}#sk-container-id-1 div.sk-label-container {text-align: center;}#sk-container-id-1 div.sk-container {/* jupyter's `normalize.less` sets `[hidden] { display: none; }` but bootstrap.min.css set `[hidden] { display: none !important; }` so we also need the `!important` here to be able to override the default hidden behavior on the sphinx rendered scikit-learn.org. See: https://github.com/scikit-learn/scikit-learn/issues/21755 */display: inline-block !important;position: relative;}#sk-container-id-1 div.sk-text-repr-fallback {display: none;}</style><div id=\"sk-container-id-1\" class=\"sk-top-container\"><div class=\"sk-text-repr-fallback\"><pre>RandomForestRegressor(max_depth=2, max_features=2, n_jobs=-1)</pre><b>In a Jupyter environment, please rerun this cell to show the HTML representation or trust the notebook. <br />On GitHub, the HTML representation is unable to render, please try loading this page with nbviewer.org.</b></div><div class=\"sk-container\" hidden><div class=\"sk-item\"><div class=\"sk-estimator sk-toggleable\"><input class=\"sk-toggleable__control sk-hidden--visually\" id=\"sk-estimator-id-1\" type=\"checkbox\" checked><label for=\"sk-estimator-id-1\" class=\"sk-toggleable__label sk-toggleable__label-arrow\">RandomForestRegressor</label><div class=\"sk-toggleable__content\"><pre>RandomForestRegressor(max_depth=2, max_features=2, n_jobs=-1)</pre></div></div></div></div></div>"
      ],
      "text/plain": [
       "RandomForestRegressor(max_depth=2, max_features=2, n_jobs=-1)"
      ]
     },
     "execution_count": 13,
     "metadata": {},
     "output_type": "execute_result"
    }
   ],
   "source": [
    "# Create / train Random Forest\n",
    "rf0 = RandomForestRegressor(n_estimators=100, n_jobs=-1, max_depth=2, max_features=2)\n",
    "rf0.fit(X_train_0, y_train)"
   ]
  },
  {
   "cell_type": "code",
   "execution_count": null,
   "metadata": {},
   "outputs": [],
   "source": []
  },
  {
   "cell_type": "code",
   "execution_count": 14,
   "metadata": {},
   "outputs": [
    {
     "data": {
      "text/plain": [
       "(array([ 1,  2, -1, -1,  5, -1, -1], dtype=int64),\n",
       " array([ 4,  3, -1, -1,  6, -1, -1], dtype=int64),\n",
       " array([181418.28633663, 144147.82512953, 133991.08080808, 195010.58754864,\n",
       "        240078.42099898, 213743.62169312, 328563.34666667]),\n",
       " array([1606,  975,  812,  163,  631,  488,  143], dtype=int64),\n",
       " array([ 0,  3, -2, -2,  1, -2, -2], dtype=int64),\n",
       " array([ 1.98450e+03,  1.23795e+04, -2.00000e+00, -2.00000e+00,\n",
       "         1.96900e+03, -2.00000e+00, -2.00000e+00]))"
      ]
     },
     "execution_count": 14,
     "metadata": {},
     "output_type": "execute_result"
    }
   ],
   "source": [
    "(rf0.estimators_[0].tree_.children_left,\n",
    "rf0.estimators_[0].tree_.children_right,\n",
    "rf0.estimators_[0].tree_.value.reshape(-1),\n",
    "rf0.estimators_[0].tree_.n_node_samples,\n",
    "rf0.estimators_[0].tree_.feature,\n",
    "rf0.estimators_[0].tree_.threshold\n",
    ")"
   ]
  },
  {
   "cell_type": "code",
   "execution_count": 15,
   "metadata": {},
   "outputs": [
    {
     "name": "stdout",
     "output_type": "stream",
     "text": [
      "node number: 0\n",
      "feature used: Year Built\n",
      "threshold: 1984.5\n",
      "left child: 1\n",
      "right child: 4\n",
      "num data pts: 1606\n",
      "value at node: 181418.28633663367\n",
      "\n",
      "\n",
      "node number: 1\n",
      "feature used: Lot Area\n",
      "threshold: 12379.5\n",
      "left child: 2\n",
      "right child: 3\n",
      "num data pts: 975\n",
      "value at node: 144147.82512953368\n",
      "\n",
      "\n",
      "node number: 2\n",
      "feature used: Bedroom AbvGr\n",
      "threshold: -2.0\n",
      "left child: -1\n",
      "right child: -1\n",
      "num data pts: 812\n",
      "value at node: 133991.08080808082\n",
      "\n",
      "\n",
      "node number: 3\n",
      "feature used: Bedroom AbvGr\n",
      "threshold: -2.0\n",
      "left child: -1\n",
      "right child: -1\n",
      "num data pts: 163\n",
      "value at node: 195010.58754863814\n",
      "\n",
      "\n",
      "node number: 4\n",
      "feature used: Gr Liv Area\n",
      "threshold: 1969.0\n",
      "left child: 5\n",
      "right child: 6\n",
      "num data pts: 631\n",
      "value at node: 240078.42099898064\n",
      "\n",
      "\n",
      "node number: 5\n",
      "feature used: Bedroom AbvGr\n",
      "threshold: -2.0\n",
      "left child: -1\n",
      "right child: -1\n",
      "num data pts: 488\n",
      "value at node: 213743.6216931217\n",
      "\n",
      "\n",
      "node number: 6\n",
      "feature used: Bedroom AbvGr\n",
      "threshold: -2.0\n",
      "left child: -1\n",
      "right child: -1\n",
      "num data pts: 143\n",
      "value at node: 328563.3466666667\n",
      "\n",
      "\n"
     ]
    }
   ],
   "source": [
    "tr = rf0.estimators_[0].tree_\n",
    "for i in range(7):\n",
    "    print(f\"node number: {i}\")\n",
    "    print(f\"feature used: {features[tr.feature[i]]}\")\n",
    "    print(f\"threshold: {tr.threshold[i]}\")\n",
    "    print(f\"left child: {tr.children_left[i]}\")\n",
    "    print(f\"right child: {tr.children_right[i]}\")\n",
    "    print(f\"num data pts: {tr.n_node_samples[i]}\")\n",
    "    print(f\"value at node: {tr.value[i][0][0]}\")\n",
    "    print(\"\\n\")"
   ]
  },
  {
   "cell_type": "code",
   "execution_count": 16,
   "metadata": {
    "tags": []
   },
   "outputs": [
    {
     "name": "stdout",
     "output_type": "stream",
     "text": [
      "node number: 0\n",
      "feature used: Gr Liv Area\n",
      "threshold: 1664.5\n",
      "left child: 1\n",
      "right child: 4\n",
      "num data pts: 1589\n",
      "value at node: 179074.81188118813\n",
      "\n",
      "\n",
      "node number: 1\n",
      "feature used: Gr Liv Area\n",
      "threshold: 1323.0\n",
      "left child: 2\n",
      "right child: 3\n",
      "num data pts: 1104\n",
      "value at node: 147996.02919290212\n",
      "\n",
      "\n",
      "node number: 2\n",
      "feature used: Bedroom AbvGr\n",
      "threshold: -2.0\n",
      "left child: -1\n",
      "right child: -1\n",
      "num data pts: 633\n",
      "value at node: 126546.20645792564\n",
      "\n",
      "\n",
      "node number: 3\n",
      "feature used: Bedroom AbvGr\n",
      "threshold: -2.0\n",
      "left child: -1\n",
      "right child: -1\n",
      "num data pts: 471\n",
      "value at node: 178232.8827586207\n",
      "\n",
      "\n",
      "node number: 4\n",
      "feature used: Year Built\n",
      "threshold: 1980.5\n",
      "left child: 5\n",
      "right child: 6\n",
      "num data pts: 485\n",
      "value at node: 248862.2583547558\n",
      "\n",
      "\n",
      "node number: 5\n",
      "feature used: Bedroom AbvGr\n",
      "threshold: -2.0\n",
      "left child: -1\n",
      "right child: -1\n",
      "num data pts: 190\n",
      "value at node: 188829.038585209\n",
      "\n",
      "\n",
      "node number: 6\n",
      "feature used: Bedroom AbvGr\n",
      "threshold: -2.0\n",
      "left child: -1\n",
      "right child: -1\n",
      "num data pts: 295\n",
      "value at node: 288841.55460385437\n",
      "\n",
      "\n"
     ]
    }
   ],
   "source": [
    "tr = rf0.estimators_[5].tree_\n",
    "for i in range(7):\n",
    "    print(f\"node number: {i}\")\n",
    "    print(f\"feature used: {features[tr.feature[i]]}\")\n",
    "    print(f\"threshold: {tr.threshold[i]}\")\n",
    "    print(f\"left child: {tr.children_left[i]}\")\n",
    "    print(f\"right child: {tr.children_right[i]}\")\n",
    "    print(f\"num data pts: {tr.n_node_samples[i]}\")\n",
    "    print(f\"value at node: {tr.value[i][0][0]}\")\n",
    "    print(\"\\n\")"
   ]
  },
  {
   "cell_type": "code",
   "execution_count": null,
   "metadata": {},
   "outputs": [],
   "source": []
  },
  {
   "cell_type": "code",
   "execution_count": null,
   "metadata": {},
   "outputs": [],
   "source": []
  },
  {
   "cell_type": "markdown",
   "metadata": {},
   "source": [
    "## Gradient Boosting: History and Terminology\n",
    "\n",
    "- Generally, when people refer to \"Gradient Boosting\" what they really mean is \"Gradient Boosted Decision Trees\"\n",
    "- \"Boosting\" in general, originally referred to a process where you fit a model, and then gave more weight to the examples in the training data that it got wrong, refit the model, and then added the new model to the previous one.  \n",
    "- AdaBoost (Freund and Schapire) was an early example of this, and using trees as the base learner was shown to be quite effective\n",
    "\n",
    "- Later, it was shown that AdaBoost was equivalent to fitting the base learner to the *gradient* of a particular loss function (exponential). \n",
    "\n",
    "- The idea was then generalized to any particular loss function, and referred to as *gradient boosting*.  Additionally, other loss functions were shown to be better in practice than the exponential loss.\n",
    "\n",
    "- Though the idea can apply to any base learner, decision trees have been most effective.  So, what we are learning about today is *gradient boosting with decision trees as the base learner* or *gradient boosted decision trees* (but usually just called *gradient boosting*)"
   ]
  },
  {
   "cell_type": "markdown",
   "metadata": {},
   "source": [
    "### Gradient boosting: rough pass\n",
    "- Consider a regression problem.  Suppose you have a model $M_1$ that already performs reasonably well.  But you would like to improve it if possible.\n",
    "- You use your model to make predictions on the training data and measure the *residuals*: i.e. the difference between the true answer and the prediction.\n",
    "- Next, you build a decision tree to try and predict the *residuals* given your predictors.  For example you want to find a tree that can distinguish between the cases where your previous model underpredicted vs overpredicted (and also distinguish between a small under/overprediction and a large under/overprediction)\n",
    "    \n",
    "- In theory, if your new tree does a great job at predicting the residuals, you can add the result of the tree to the previous model, and voila, you will have a better model.\n",
    "- In reality we need to be concerned with overfitting: Suppose the residuals are truly random noise.  With enough predictors, you may find an incidental pattern that works on your training data, but is worthless on new cases.\n",
    "- Therefore, we do a few things to try to prevent this from happening (i.e. to help *regularize*)\n",
    "- Most importantly, rather than directly add the new model to the old model, we first multiply it by a small fraction (say .1 or even .01 or .001).  We will do this process many times, so it doesn't (generally) hurt to take small steps.\n",
    "- It also doesn't matter whether we start with a \"pretty good\" model.  We can start with a \"nothing\" model (predict 0 for everything) and still iterate through this process."
   ]
  },
  {
   "cell_type": "markdown",
   "metadata": {},
   "source": [
    "## Wait! This makes sense, but I still don't get a few things...\n",
    "- Where does the loss function come in?\n",
    "- Where does the gradient come in?\n",
    "- What if I am doing a classification problem?"
   ]
  },
  {
   "cell_type": "markdown",
   "metadata": {},
   "source": [
    "## Good questions!\n",
    "- What I just described was specific to regression.\n",
    "- In fact, it was specific to regression with a mean squared error loss function\n",
    "- When using mean squared error, the derivative of the loss function is the residual (distance from the true answer) (times a constant of 2)\n",
    "- $\\frac{\\partial}{\\partial y} (y -y_t)^2 = 2(y-y_t)$\n",
    "- So fitting a model to the residuals is *equivalent* to fitting a model to the *gradient of the loss function*\n",
    "- So the notion of predicting small/large under/overpredictions can be thought of as predicting where my loss is increasing/decreasing by a small/large amount.\n",
    "- The latter notion will even generalize to cases where the loss function has a weirder form.\n"
   ]
  },
  {
   "cell_type": "markdown",
   "metadata": {},
   "source": [
    "## Reiteration of Gradient Boosting\n",
    "- In general, (for classification, regression with any loss function) we take the current model, use it to make predictions on the training data, and then find the *derivative of the loss function* for each point *at its current predicted value*.\n",
    "- For most loss functions, the gradient is \"steeper\" the further you are from the right answer, so the idea of predicting the \"degree\" of over/underprediction is still the right one."
   ]
  },
  {
   "cell_type": "markdown",
   "metadata": {},
   "source": [
    "### Example of a regression loss function"
   ]
  },
  {
   "cell_type": "code",
   "execution_count": 17,
   "metadata": {
    "tags": []
   },
   "outputs": [
    {
     "data": {
      "image/png": "[encoded data removed]",
      "text/plain": [
       "<Figure size 576x288 with 2 Axes>"
      ]
     },
     "metadata": {
      "needs_background": "light"
     },
     "output_type": "display_data"
    }
   ],
   "source": [
    "import pandas as pd\n",
    "import numpy as np\n",
    "import matplotlib.pyplot as plt\n",
    "tvec1 = np.linspace(-20,20,201)\n",
    "plt.figure(figsize=(8,4))\n",
    "plt.subplot(1,2,1)\n",
    "plt.plot(tvec1, (tvec1-2)**2)\n",
    "plt.title('Loss fn when true value = 2')\n",
    "\n",
    "plt.subplot(1,2,2)\n",
    "plt.plot(tvec1, (tvec1-(-7))**2)\n",
    "plt.title('Loss fn when true value = -7');"
   ]
  },
  {
   "cell_type": "markdown",
   "metadata": {},
   "source": [
    "### Example of classification (cross-entropy) loss function"
   ]
  },
  {
   "cell_type": "code",
   "execution_count": 18,
   "metadata": {
    "tags": []
   },
   "outputs": [
    {
     "data": {
      "image/png": "[encoded data removed]",
      "text/plain": [
       "<Figure size 576x288 with 2 Axes>"
      ]
     },
     "metadata": {
      "needs_background": "light"
     },
     "output_type": "display_data"
    }
   ],
   "source": [
    "tvec = np.linspace(.01,.99,99)\n",
    "plt.figure(figsize=(8,4))\n",
    "plt.subplot(1,2,1)\n",
    "plt.plot(tvec, np.log(1/tvec))\n",
    "plt.title('Loss fn when true value = 1')\n",
    "\n",
    "plt.subplot(1,2,2)\n",
    "plt.plot(tvec, np.log(1/(1-tvec)))\n",
    "plt.title('Loss fn when true value = 0');\n"
   ]
  },
  {
   "cell_type": "markdown",
   "metadata": {},
   "source": [
    "## Detailed steps\n",
    "- Let $M_0$ be the current model\n",
    "- Let $y_0$ be the current model's predictions on the training set\n",
    "    - These will be point estimates for regression\n",
    "    - These will be predicted probabilities for classification\n",
    "- Let $y_t$ be the true answers (numbers for regression, 0/1 for classification)\n",
    "- Let $L(y_{true}, y_{pred})$ be the loss function.\n",
    "- Let $L^{\\prime}_{y_{true}}(y_{pred}) = \\frac{\\partial}{\\partial y_{pred}}(L(y_{true}, y_{pred}))$\n",
    "- Let $z = L^{\\prime}_{y_t}(y_0)$ -- i.e. the derivative of the loss function (with respect to the prediction) evaluated at each pair of (true, predicted) values.\n",
    "- Finally, fit a decision tree that tries to predict $z$ using your predictors $X$.\n",
    "    - Call the resulting tree $T_1$.\n",
    "- Let $M_1 = M_0 + \\epsilon T_1$ (epsilon is the \"learning rate\")\n",
    "- Repeat with $M_1$ as the current model to build $T_2$  (etc. etc.)\n",
    "\n",
    "\n",
    "### Alternate interpretation: \n",
    "- We are doing \"gradient descent\" by building trees"
   ]
  },
  {
   "cell_type": "code",
   "execution_count": null,
   "metadata": {},
   "outputs": [],
   "source": []
  },
  {
   "cell_type": "code",
   "execution_count": null,
   "metadata": {},
   "outputs": [],
   "source": []
  },
  {
   "cell_type": "markdown",
   "metadata": {},
   "source": [
    "## Hyperparameters for Gradient Boosting\n",
    "\n",
    "There are many, many, hyperparameters for the gradient boosting algorithm. However, most of them will have a relatively small impact on performance.  To begin, we will focus on the three most important parameters."
   ]
  },
  {
   "cell_type": "markdown",
   "metadata": {},
   "source": [
    "### Three key parameters\n",
    "- `max_depth` - This determines how deep to build the individual decision trees.  Higher values can capture more complicated relationships but are more likely to overfit.  Smaller values may underfit.\n",
    "\n",
    "- `learning_rate` - The \"step size\" as you add new trees to the model.  Taking larger steps means fewer trees are required but may lead to instability.  Smaller steps may require more trees and result in unnecessarily large models.\n",
    "\n",
    "- `n_estimators` - The number of trees to use to build the model.  Too few trees will underfit the model, whereas too many will overfit.\n",
    "\n",
    "In addition to being very important, these three parameters are also highly *interactive*, meaning that the best value for one of them is highly dependent on the values chosen for the other two.\n",
    "\n",
    "Later on, we will discuss how to use *early stopping* to deal with the `learning_rate` and `n_estimators` parameters."
   ]
  },
  {
   "cell_type": "markdown",
   "metadata": {},
   "source": [
    "### Other boosting parameters\n",
    "However, there are other parameters that can yield improvements if tuned appropriately.  These parameters fall into several groups, and different packages handle them (and name them) differently.  We will use the XGBoost names below.\n",
    "\n",
    "\n",
    "#### Data (row) sampling parameters\n",
    "How to choose the data for each tree.  Unlike Random Forest, \"Standard\" boosting just uses the whole data set for each tree.  However, you can choose to sample the data (with or without replacement) to add regularization.\n",
    "- subsample: the percentage of data points to use for each tree\n",
    "- replacement:  Whether to choose the sample with or without replacement\n",
    "\n",
    "#### Feature sampling parameters\n",
    "The default in gradient boosting is to check every feature at every node.  Since boosting is not relying on having uncorrelated trees, it can still give good results without this randomization.  However, randomly sampling features can help regularize, in addition to speeding up training (it is faster to train if you don't check every column every time). Some packages permit subsampling features per tree, level, *and* node.\n",
    "- colsample_bynode (_bylevel, _bytree): what fraction of the features to sample at each node (level / tree)\n",
    "\n",
    "Note: these parameters will be multiplicative.  In other words, if you have 80 features, and set `colsample_bytree` to .5 and `colsample_bynode` to .4, you will effectively be choosing from 16 possible features at each node (80*.5*.4)\n",
    "\n",
    "#### Split penalty regularization parameters:\n",
    "When choosing the value on which to split (or whether to split at all), you may use loss functions that take into account model size, or coefficient size.  These parameters govern the tradeoff between fit and model / coefficient size.\n",
    "- `gamma`: minimum \"improvement\" required to make a split\n",
    "- `reg_lambda`, `reg_alpha`: \"Shrinkage\" of the leaf values of the trees (as in LASSO / Ridge regression)\n"
   ]
  },
  {
   "cell_type": "code",
   "execution_count": null,
   "metadata": {},
   "outputs": [],
   "source": []
  },
  {
   "cell_type": "code",
   "execution_count": null,
   "metadata": {},
   "outputs": [],
   "source": []
  }
 ],
 "metadata": {
  "anaconda-cloud": {},
  "kernelspec": {
   "display_name": "Python 3 (ipykernel)",
   "language": "python",
   "name": "python3"
  },
  "language_info": {
   "codemirror_mode": {
    "name": "ipython",
    "version": 3
   },
   "file_extension": ".py",
   "mimetype": "text/x-python",
   "name": "python",
   "nbconvert_exporter": "python",
   "pygments_lexer": "ipython3",
   "version": "3.9.13"
  }
 },
 "nbformat": 4,
 "nbformat_minor": 4
}
