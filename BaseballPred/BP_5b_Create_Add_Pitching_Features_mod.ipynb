{
 "cells": [
  {
   "cell_type": "markdown",
   "id": "cc8fb8b8-81f5-45a4-8247-28fda47174b3",
   "metadata": {},
   "source": [
    "## Baseball Prediction: 5b - Adding Starting Pitching Features\n",
    "Now that we have raw game-level data for each pitcher, we can derive features based on the starting pitchers to help our prediction model for individual games."
   ]
  },
  {
   "cell_type": "code",
   "execution_count": null,
   "id": "fcb2d6e7-1f60-4e3a-af79-d60b5474253e",
   "metadata": {},
   "outputs": [],
   "source": [
    "import numpy as np\n",
    "import pandas as pd\n",
    "import matplotlib.pyplot as plt\n",
    "%matplotlib inline\n",
    "\n",
    "pd.set_option('display.max_columns',1000)\n",
    "pd.set_option('display.max_rows',1000)\n",
    "\n"
   ]
  },
  {
   "cell_type": "markdown",
   "id": "4b59da62-de91-4f4e-967f-f3c84258b4bd",
   "metadata": {},
   "source": [
    "## Overall Plan of Attack\n",
    "- For each starting pitcher we will load their raw data, create features for each game based on their previous performance, and then save the dataframe in a dictionary structure for easy lookup\n",
    "- Then we can iterate through our game-level dataframe, add in the features for each starting pitcher, and use those to improve our model\n"
   ]
  },
  {
   "cell_type": "code",
   "execution_count": null,
   "id": "0a6f069b-227c-44f1-a080-ece3e798ecdc",
   "metadata": {},
   "outputs": [],
   "source": [
    "df_gooden = pd.read_csv('data/pitcher_data/pitching_data_goodd001.csv')"
   ]
  },
  {
   "cell_type": "code",
   "execution_count": null,
   "id": "c37bbe4c-5d23-4263-ae5c-4d3464414117",
   "metadata": {},
   "outputs": [],
   "source": [
    "df_gooden.info()"
   ]
  },
  {
   "cell_type": "code",
   "execution_count": null,
   "id": "32a785c5-e0ad-4810-a320-7aa493bcbf2e",
   "metadata": {},
   "outputs": [],
   "source": [
    "df_gooden.head(20)"
   ]
  },
  {
   "cell_type": "code",
   "execution_count": null,
   "id": "b9ded564-a077-4624-a69d-767443f4c030",
   "metadata": {},
   "outputs": [],
   "source": [
    "df_gooden['IP_real'] = df_gooden['IP_real'] = (df_gooden.IP - (df_gooden.IP % 1)) + (df_gooden.IP % 1) * (10/3)\n",
    "df_gooden.head(10)"
   ]
  },
  {
   "cell_type": "code",
   "execution_count": null,
   "id": "ba53b515-8f09-4afc-b24a-55c994d84712",
   "metadata": {},
   "outputs": [],
   "source": [
    "df_gooden.columns"
   ]
  },
  {
   "cell_type": "markdown",
   "id": "ab3b9a20-2445-4b3e-adc9-881849e596a0",
   "metadata": {},
   "source": []
  },
  {
   "cell_type": "markdown",
   "id": "d0626059-81fc-41d9-a7e7-2c818d9dbaba",
   "metadata": {},
   "source": [
    "### Generating Features for a Starting Pitcher\n",
    "- Want to creature features based on a lookback across $n$ games for each pitcher\n",
    "- Need to aggregate statistics like innings pitched (IP), runs or earned runs given up, hits and walks given up, strikeouts, and so on\n",
    "- We will also need to decide how to handle pitchers early in their career when they have relatively few games on which to base their performance."
   ]
  },
  {
   "cell_type": "code",
   "execution_count": null,
   "id": "30f5abf8-8e4d-4c96-8776-dc0d69ee8f42",
   "metadata": {},
   "outputs": [],
   "source": []
  },
  {
   "cell_type": "code",
   "execution_count": null,
   "id": "98aed30c-df04-49ce-b572-0700f571c532",
   "metadata": {},
   "outputs": [],
   "source": [
    "def roll_column(df, col, winsize):\n",
    "    # do the standard Pandas rolling calc\n",
    "    t_col = df[col].rolling(winsize, closed='left').sum().to_numpy()\n",
    "    \n",
    "    # for the early columns, just do a rolling sum from the beginning\n",
    "    t_col[:winsize] = np.concatenate(([0],df[col].iloc[:(winsize)].cumsum().to_numpy()[:-1]))\n",
    "\n",
    "    return(t_col)"
   ]
  },
  {
   "cell_type": "code",
   "execution_count": null,
   "id": "5fba43d7-5629-4452-aa4a-37caa68a70db",
   "metadata": {},
   "outputs": [],
   "source": [
    "def load_and_process_pitch_df(p_id, filepath=''):\n",
    "    fname = filepath+'pitching_data_'+p_id+'.csv'\n",
    "    pitch_df = pd.read_csv(fname)\n",
    "    \n",
    "    # Convert date, fix dblhead_num to be 0,1,2\n",
    "    pitch_df['Date'] = (pd.to_datetime(pitch_df.Date).astype(str).str.replace('-','')).astype(int)\n",
    "    pitch_df.dblhead_num.fillna(0, inplace=True)\n",
    "    pitch_df['dblhead_num'] = pitch_df['dblhead_num'].astype(int)\n",
    "    \n",
    "    # Convert IP to proper mathematical format\n",
    "    pitch_df['IP_real'] = (pitch_df.IP - (pitch_df.IP % 1)) + (pitch_df.IP % 1) * (10/3)\n",
    "    \n",
    "    cols_to_agg = ['IP_real', 'H','BFP', 'HR', 'R', 'ER', 'BB', 'IB', 'SO', 'SH', 'SF', 'WP', 'HBP', 'BK',\n",
    "       '2B', '3B']\n",
    "    winsizes = [10,35,75]\n",
    "    for winsize in winsizes:\n",
    "        for raw_col in cols_to_agg:\n",
    "            new_colname = 'rollsum_'+raw_col+'_'+str(winsize)        \n",
    "            pitch_df[new_colname] = roll_column(pitch_df, raw_col, winsize)\n",
    "\n",
    "    \n",
    "    er_per_ip_def = (5/9)\n",
    "    h_bb_per_ip_def = 1.5\n",
    "    h_bb_per_bf_def = .37\n",
    "    so_per_bf_def = .2\n",
    "    ip_per_game_def = 3\n",
    "    bf_per_game_def = 12\n",
    "    tb_bb_perc_def = .45\n",
    "    fip_numer_per_ip_def = .124*13 + 1.5*3 - 2*.8\n",
    "    fip_numer_per_bf_def = .03*13 + .37*3 - 2*.2\n",
    "    for winsize in winsizes:\n",
    "        hit_col = 'rollsum_H_'+str(winsize)\n",
    "        bb_col = 'rollsum_BB_'+str(winsize)\n",
    "        h_bb_col = 'H_BB_roll_'+str(winsize)\n",
    "        double_col = 'rollsum_2B_'+str(winsize)\n",
    "        triple_col = 'rollsum_3B_'+str(winsize)\n",
    "        hr_col = 'rollsum_HR_'+str(winsize)\n",
    "        xb_col = 'XB_roll_'+str(winsize)\n",
    "        tb_col = 'TB_roll_'+str(winsize)\n",
    "        so_col = 'rollsum_SO_'+str(winsize)\n",
    "        so_mod_col = 'SO_mod_'+str(winsize)\n",
    "        ip_col = 'rollsum_IP_real_'+str(winsize)\n",
    "        ip_mod_col = 'IP_mod_'+str(winsize)\n",
    "        er_col = 'rollsum_ER_'+str(winsize)\n",
    "        er_mod_col = 'ER_mod_'+str(winsize)\n",
    "        bf_col = 'rollsum_BFP_'+str(winsize)\n",
    "        bf_mod_col = 'BF_mod_'+str(winsize)\n",
    "        era_col = 'ERA_'+str(winsize)\n",
    "        fip_col = 'FIP_'+str(winsize)\n",
    "        fip_perc_col = 'FIP_perc_'+str(winsize)\n",
    "        fip_numer_col = 'FIP_numer_'+str(winsize)\n",
    "        fip_numer_mod_col = 'FIP_numer_mod_'+str(winsize)\n",
    "        fip_numer_mod2_col = 'FIP_numer_mod2_'+str(winsize)\n",
    "        whip_col = 'WHIP_'+str(winsize)\n",
    "        so_perc_col = 'SO_perc_'+str(winsize)\n",
    "        h_bb_perc_col = 'H_BB_perc_'+str(winsize)\n",
    "        h_bb_mod_col = 'H_BB_mod_'+str(winsize)\n",
    "        h_bb_mod2_col = 'H_BB_mod2_'+str(winsize)\n",
    "        tb_bb_mod_col = 'TB_BB_mod_'+str(winsize)\n",
    "        tb_bb_perc_col = 'TB_BB_perc_'+str(winsize)\n",
    "        pitch_df[h_bb_col] = pitch_df[hit_col]+pitch_df[bb_col]\n",
    "        pitch_df[xb_col] = pitch_df[double_col]+2*pitch_df[triple_col]+3*pitch_df[hr_col]\n",
    "        pitch_df[tb_col] = pitch_df[hit_col]+pitch_df[xb_col]\n",
    "        pitch_df[ip_mod_col] = np.maximum(pitch_df[ip_col], winsize*ip_per_game_def)\n",
    "        pitch_df[bf_mod_col] = np.maximum(pitch_df[bf_col], winsize*bf_per_game_def)\n",
    "        pitch_df[er_mod_col] = pitch_df[er_col] + er_per_ip_def*(pitch_df[ip_mod_col]-pitch_df[ip_col])\n",
    "        pitch_df[fip_numer_col] = 13*pitch_df[hr_col] + 3*pitch_df[h_bb_col] -2*pitch_df[so_col]\n",
    "        pitch_df[fip_numer_mod_col] = pitch_df[fip_numer_col] + fip_numer_per_ip_def*(pitch_df[ip_mod_col]-pitch_df[ip_col])\n",
    "        pitch_df[fip_numer_mod2_col] = pitch_df[fip_numer_col] + fip_numer_per_bf_def*(pitch_df[bf_mod_col]-pitch_df[bf_col])\n",
    "        pitch_df[h_bb_mod_col] = pitch_df[h_bb_col] + h_bb_per_ip_def*(pitch_df[ip_mod_col]-pitch_df[ip_col])\n",
    "        pitch_df[h_bb_mod2_col] = pitch_df[h_bb_col] + h_bb_per_bf_def*(pitch_df[bf_mod_col]-pitch_df[bf_col])\n",
    "        pitch_df[so_mod_col] = pitch_df[so_col] + so_per_bf_def*(pitch_df[bf_mod_col]-pitch_df[bf_col])\n",
    "        pitch_df[tb_bb_mod_col] = (pitch_df[tb_col] + pitch_df[bb_col])+ tb_bb_perc_def*(pitch_df[bf_mod_col]-pitch_df[bf_col])\n",
    "        pitch_df[era_col] = (pitch_df[er_mod_col]/pitch_df[ip_mod_col])*9\n",
    "        pitch_df[fip_col] = (pitch_df[fip_numer_mod_col]/pitch_df[ip_mod_col])\n",
    "        pitch_df[fip_perc_col] = (pitch_df[fip_numer_mod_col]/pitch_df[bf_mod_col])\n",
    "        pitch_df[whip_col] = pitch_df[h_bb_mod_col]/pitch_df[ip_mod_col]\n",
    "        pitch_df[so_perc_col] = pitch_df[so_mod_col]/pitch_df[bf_mod_col]\n",
    "        pitch_df[tb_bb_perc_col] = pitch_df[tb_bb_mod_col]/pitch_df[bf_mod_col]\n",
    "        pitch_df[h_bb_perc_col] = pitch_df[h_bb_mod2_col]/pitch_df[bf_mod_col]\n",
    "    pitch_df['date_dblhead'] = (pitch_df['Date'].astype(str) + pitch_df['dblhead_num'].astype(str)).astype(int)\n",
    "    pitch_df.set_index('date_dblhead', inplace=True)\n",
    "    return(pitch_df)"
   ]
  },
  {
   "cell_type": "code",
   "execution_count": null,
   "id": "e697068b-57a9-41f4-88cd-cd2eb93b94da",
   "metadata": {
    "scrolled": true,
    "tags": []
   },
   "outputs": [],
   "source": [
    "df_good = load_and_process_pitch_df('goodd001','data/pitcher_data/')"
   ]
  },
  {
   "cell_type": "code",
   "execution_count": null,
   "id": "80405240-e08a-4d4c-bc06-be5d1127e33d",
   "metadata": {},
   "outputs": [],
   "source": [
    "df_good.head(50)"
   ]
  },
  {
   "cell_type": "code",
   "execution_count": null,
   "id": "58c0b394-d2a4-41dd-8aef-9a7df5163964",
   "metadata": {
    "scrolled": true,
    "tags": []
   },
   "outputs": [],
   "source": []
  },
  {
   "cell_type": "markdown",
   "id": "73f7bbca-98ce-4480-930f-7a0946eb3abf",
   "metadata": {
    "tags": []
   },
   "source": [
    "## Load in our game level data"
   ]
  },
  {
   "cell_type": "code",
   "execution_count": null,
   "id": "bcd777e1-1c98-4ca0-bf17-8ae87b8e7ae6",
   "metadata": {},
   "outputs": [],
   "source": [
    "df=pd.read_csv('df_bp3.csv')"
   ]
  },
  {
   "cell_type": "code",
   "execution_count": null,
   "id": "08200690-16b7-408c-bedd-2e9c2c478da3",
   "metadata": {},
   "outputs": [],
   "source": []
  },
  {
   "cell_type": "code",
   "execution_count": null,
   "id": "5062d9e7-1bc8-46bf-b3cb-ae1521a52f1f",
   "metadata": {},
   "outputs": [],
   "source": [
    "start_pitchers_h = df.pitcher_start_id_h.unique()\n",
    "start_pitchers_v = df.pitcher_start_id_v.unique()\n",
    "start_pitchers_all = np.union1d(start_pitchers_h, start_pitchers_v)\n"
   ]
  },
  {
   "cell_type": "code",
   "execution_count": null,
   "id": "f489e95f-aca3-43f8-9bf4-0295b54448e3",
   "metadata": {
    "scrolled": true,
    "tags": []
   },
   "outputs": [],
   "source": [
    "pitcher_data_dict = {}\n",
    "for i, p_id in enumerate(start_pitchers_all):\n",
    "    if i%100==0:\n",
    "        print(i)\n",
    "    pitcher_data_dict[p_id] = load_and_process_pitch_df(p_id,'data/pitcher_data/')"
   ]
  },
  {
   "cell_type": "code",
   "execution_count": null,
   "id": "e2c4b87d-564a-44b6-bef4-528b87da54ba",
   "metadata": {},
   "outputs": [],
   "source": [
    "np.array(pitcher_data_dict['goodd001'].columns)"
   ]
  },
  {
   "cell_type": "code",
   "execution_count": null,
   "id": "2e434f83-0b33-47e8-bfff-90a8d861a5aa",
   "metadata": {
    "scrolled": true,
    "tags": []
   },
   "outputs": [],
   "source": [
    "raw_cols_to_add = ['GS',  'IP',\n",
    "       'H', 'BFP', 'HR', 'R', 'ER', 'BB', 'IB', 'SO', 'SH', 'SF', 'WP',\n",
    "       'HBP', 'BK', '2B', '3B', 'IP_real', 'rollsum_IP_real_10', 'rollsum_H_10',\n",
    "       'rollsum_BFP_10', 'rollsum_HR_10', 'rollsum_R_10', 'rollsum_ER_10',\n",
    "       'rollsum_BB_10', 'rollsum_IB_10', 'rollsum_SO_10', 'rollsum_SH_10',\n",
    "       'rollsum_SF_10', 'rollsum_WP_10', 'rollsum_HBP_10',\n",
    "       'rollsum_BK_10', 'rollsum_2B_10', 'rollsum_3B_10',\n",
    "       'rollsum_IP_real_35', 'rollsum_H_35', 'rollsum_BFP_35',\n",
    "       'rollsum_HR_35', 'rollsum_R_35', 'rollsum_ER_35', 'rollsum_BB_35',\n",
    "       'rollsum_IB_35', 'rollsum_SO_35', 'rollsum_SH_35', 'rollsum_SF_35',\n",
    "       'rollsum_WP_35', 'rollsum_HBP_35', 'rollsum_BK_35',\n",
    "       'rollsum_2B_35', 'rollsum_3B_35', 'rollsum_IP_real_75',\n",
    "       'rollsum_H_75', 'rollsum_BFP_75', 'rollsum_HR_75', 'rollsum_R_75',\n",
    "       'rollsum_ER_75', 'rollsum_BB_75', 'rollsum_IB_75', 'rollsum_SO_75',\n",
    "       'rollsum_SH_75', 'rollsum_SF_75', 'rollsum_WP_75',\n",
    "       'rollsum_HBP_75', 'rollsum_BK_75', 'rollsum_2B_75',\n",
    "       'rollsum_3B_75', 'H_BB_roll_10', 'XB_roll_10', 'TB_roll_10',\n",
    "       'IP_mod_10', 'BF_mod_10', 'ER_mod_10', 'FIP_numer_10',\n",
    "       'FIP_numer_mod_10', 'FIP_numer_mod2_10', 'H_BB_mod_10',\n",
    "       'H_BB_mod2_10', 'SO_mod_10', 'TB_BB_mod_10', 'ERA_10', 'FIP_10',\n",
    "       'FIP_perc_10', 'WHIP_10', 'SO_perc_10', 'TB_BB_perc_10',\n",
    "       'H_BB_perc_10', 'H_BB_roll_35', 'XB_roll_35', 'TB_roll_35',\n",
    "       'IP_mod_35', 'BF_mod_35', 'ER_mod_35', 'FIP_numer_35',\n",
    "       'FIP_numer_mod_35', 'FIP_numer_mod2_35', 'H_BB_mod_35',\n",
    "       'H_BB_mod2_35', 'SO_mod_35', 'TB_BB_mod_35', 'ERA_35', 'FIP_35',\n",
    "       'FIP_perc_35', 'WHIP_35', 'SO_perc_35', 'TB_BB_perc_35',\n",
    "       'H_BB_perc_35', 'H_BB_roll_75', 'XB_roll_75', 'TB_roll_75',\n",
    "       'IP_mod_75', 'BF_mod_75', 'ER_mod_75', 'FIP_numer_75',\n",
    "       'FIP_numer_mod_75', 'FIP_numer_mod2_75', 'H_BB_mod_75',\n",
    "       'H_BB_mod2_75', 'SO_mod_75', 'TB_BB_mod_75', 'ERA_75', 'FIP_75',\n",
    "       'FIP_perc_75', 'WHIP_75', 'SO_perc_75', 'TB_BB_perc_75',\n",
    "       'H_BB_perc_75']\n",
    "cols_to_add = ['Strt_'+col+suff for col in raw_cols_to_add for suff in ['_h','_v']]\n",
    "\n",
    "col_add_dict = {col:np.zeros(df.shape[0]) for col in cols_to_add}"
   ]
  },
  {
   "cell_type": "code",
   "execution_count": null,
   "id": "200e85a5-9004-4ad2-a5bc-ec48fd68eb9e",
   "metadata": {},
   "outputs": [],
   "source": []
  },
  {
   "cell_type": "code",
   "execution_count": null,
   "id": "6f30e744-fb9b-4df9-b88c-f5ba960e2701",
   "metadata": {
    "scrolled": true,
    "tags": []
   },
   "outputs": [],
   "source": [
    "for i in range(df.shape[0]):\n",
    "    row = df.iloc[i,:]\n",
    "    if i%1000==0:\n",
    "        print(i)\n",
    "    sp_id_v = row['pitcher_start_id_v']\n",
    "    sp_id_h = row['pitcher_start_id_h']\n",
    "    date_dblhead = row['date_dblhead']\n",
    "    if sp_id_v in pitcher_data_dict.keys():\n",
    "        curr_df = pitcher_data_dict[sp_id_v]\n",
    "        if date_dblhead in curr_df.index:\n",
    "            for col in raw_cols_to_add:\n",
    "                col_add_dict['Strt_'+col+'_v'][i] = curr_df.loc[date_dblhead,col]\n",
    "        else:\n",
    "            print(f'no match for {sp_id_v} date {date_dblhead}')\n",
    "    if sp_id_h in pitcher_data_dict.keys():\n",
    "        curr_df = pitcher_data_dict[sp_id_h]\n",
    "        if date_dblhead in curr_df.index:\n",
    "            for col in raw_cols_to_add:\n",
    "                col_add_dict['Strt_'+col+'_h'][i] = curr_df.loc[date_dblhead,col]\n",
    "        else:\n",
    "            print(f'no match for {sp_id_h} date {date_dblhead}')"
   ]
  },
  {
   "cell_type": "code",
   "execution_count": null,
   "id": "b281c277-d0a2-47a4-8b93-45430e0c36ad",
   "metadata": {
    "scrolled": true,
    "tags": []
   },
   "outputs": [],
   "source": [
    "for col in cols_to_add:\n",
    "    df[col] = col_add_dict[col]"
   ]
  },
  {
   "cell_type": "code",
   "execution_count": null,
   "id": "3093d335-9bdc-4fce-87c7-ed886433c64d",
   "metadata": {},
   "outputs": [],
   "source": []
  },
  {
   "cell_type": "code",
   "execution_count": null,
   "id": "f8638224-40ea-400b-a2b8-151944ed709d",
   "metadata": {},
   "outputs": [],
   "source": []
  },
  {
   "cell_type": "code",
   "execution_count": null,
   "id": "b54484e4-aded-4ee0-bf3e-568a7e7fc6a9",
   "metadata": {},
   "outputs": [],
   "source": [
    "df.sample(5)"
   ]
  },
  {
   "cell_type": "code",
   "execution_count": null,
   "id": "5b828ccd-c6b2-4582-9c18-8063c14bc48e",
   "metadata": {},
   "outputs": [],
   "source": [
    "df.shape"
   ]
  },
  {
   "cell_type": "code",
   "execution_count": null,
   "id": "ef0e9dac-c120-4947-b6e1-7b2156d020bd",
   "metadata": {},
   "outputs": [],
   "source": [
    "(df.Strt_IP_mod_10_h==0).sum()"
   ]
  },
  {
   "cell_type": "code",
   "execution_count": null,
   "id": "4a5b12b8-7035-478b-b7d1-c1dd2ac58cb8",
   "metadata": {},
   "outputs": [],
   "source": [
    "(df.Strt_IP_mod_10_v==0).sum()"
   ]
  },
  {
   "cell_type": "code",
   "execution_count": null,
   "id": "6775000d-9595-4225-af89-4b8c113b431b",
   "metadata": {},
   "outputs": [],
   "source": [
    "df.loc[df.Strt_IP_mod_10_v==0]"
   ]
  },
  {
   "cell_type": "code",
   "execution_count": null,
   "id": "920b94f0-0d68-463e-9e70-e723ffee5fe6",
   "metadata": {},
   "outputs": [],
   "source": [
    "df.loc[df.Strt_IP_mod_10_h==0]"
   ]
  },
  {
   "cell_type": "code",
   "execution_count": null,
   "id": "74b57143-11d1-4a47-93fd-f772b77caaf5",
   "metadata": {},
   "outputs": [],
   "source": [
    "df.drop(df.index[df.Strt_IP_mod_10_v==0],inplace=True)\n",
    "df.drop(df.index[df.Strt_IP_mod_10_h==0],inplace=True)\n",
    "df.shape"
   ]
  },
  {
   "cell_type": "code",
   "execution_count": null,
   "id": "ec952412-8e44-4e3c-b70b-fef98780e4c9",
   "metadata": {},
   "outputs": [],
   "source": [
    "df.reset_index(drop=True, inplace=True)"
   ]
  },
  {
   "cell_type": "code",
   "execution_count": null,
   "id": "c48dc183-ce26-4f64-b7d0-a3df006831b8",
   "metadata": {},
   "outputs": [],
   "source": []
  },
  {
   "cell_type": "code",
   "execution_count": null,
   "id": "8e9378c7-475d-46eb-a3a1-403e765bc696",
   "metadata": {},
   "outputs": [],
   "source": [
    "df.to_csv('df_bp5.csv', index=False)"
   ]
  },
  {
   "cell_type": "code",
   "execution_count": null,
   "id": "ab2b59af-9cfb-466d-8b2e-0f91d60cce87",
   "metadata": {},
   "outputs": [],
   "source": []
  },
  {
   "cell_type": "code",
   "execution_count": null,
   "id": "813d762e-37ba-4fc5-be6a-a0c34850b04e",
   "metadata": {},
   "outputs": [],
   "source": []
  }
 ],
 "metadata": {
  "kernelspec": {
   "display_name": "Python 3 (ipykernel)",
   "language": "python",
   "name": "python3"
  },
  "language_info": {
   "codemirror_mode": {
    "name": "ipython",
    "version": 3
   },
   "file_extension": ".py",
   "mimetype": "text/x-python",
   "name": "python",
   "nbconvert_exporter": "python",
   "pygments_lexer": "ipython3",
   "version": "3.9.13"
  }
 },
 "nbformat": 4,
 "nbformat_minor": 5
}
