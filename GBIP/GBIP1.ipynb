{
 "cells": [
  {
   "cell_type": "markdown",
   "metadata": {},
   "source": [
    "## Gradient Boosting for Prediction and Inference\n",
    "\n",
    "### Lesson 1\n",
    "In this notebook we will walk through Decision Trees and Random Forests.  These methods serve as the foundations to Gradient Boosted Trees, and understanding them deeply is key to developing intuition around the use of Gradient Boosting."
   ]
  },
  {
   "cell_type": "code",
   "execution_count": 1,
   "metadata": {},
   "outputs": [],
   "source": [
    "import pandas as pd\n",
    "import numpy as np\n",
    "import matplotlib.pyplot as plt\n"
   ]
  },
  {
   "cell_type": "markdown",
   "metadata": {},
   "source": [
    "## Decision Trees\n",
    "\n",
    "- \"Similarity Principle\" - two values of x that are \"similar\" should have similar predictions about y.\n",
    "- For numeric predictors, similarity means that $|x_1 - x_2|$ is small\n",
    "- For categorical predictors, less clear how to define similarity (more about this later)\n",
    "\n",
    "\n",
    "### Example: Linear Regression\n",
    "- Consider linear regression on a single variable.\n",
    "- Model: $y = \\alpha + \\beta x$\n",
    "- Similarity comes from the fact that the function is continuous\n",
    "- Lines give an easily specified set of reasonable functions, that are governed by few (two) parameters\n",
    "\n",
    "- Q: What is another class of functions that can be specified with few parameters?\n",
    "- A: There are many, but in particular: step functions!\n",
    "    - $f(x) = a \\mbox{ if } x\\leq c$\n",
    "    - $f(x) = b \\mbox{ if } x> c$"
   ]
  },
  {
   "cell_type": "markdown",
   "metadata": {},
   "source": [
    "### Fitting a step function\n",
    "- In linear regression, there is matrix algebra that lets you find the best $\\alpha, \\beta$ to minimze the mean squared error on a data set.\n",
    "- For a step function, you just try every possible \"split\" $c$ and then choose $a$ and $b$ to be the means of the points on each side of the split respectively"
   ]
  },
  {
   "cell_type": "code",
   "execution_count": 2,
   "metadata": {},
   "outputs": [],
   "source": [
    "np.random.seed(0)\n",
    "npts=25\n",
    "xvec = np.round(np.random.uniform(0,10, size=25), decimals = 2)\n",
    "yvec = 2*(xvec<=7) + 6*(xvec>7) + np.round(np.random.normal(0,1,size=25), decimals=2)"
   ]
  },
  {
   "cell_type": "code",
   "execution_count": 3,
   "metadata": {},
   "outputs": [
    {
     "data": {
      "text/plain": [
       "<matplotlib.collections.PathCollection at 0x1587727f0>"
      ]
     },
     "execution_count": 3,
     "metadata": {},
     "output_type": "execute_result"
    },
    {
     "data": {
      "image/png": "[encoded data removed]",
      "text/plain": [
       "<Figure size 432x288 with 1 Axes>"
      ]
     },
     "metadata": {
      "needs_background": "light"
     },
     "output_type": "display_data"
    }
   ],
   "source": [
    "plt.scatter(xvec, yvec)"
   ]
  },
  {
   "cell_type": "code",
   "execution_count": 4,
   "metadata": {},
   "outputs": [
    {
     "name": "stdout",
     "output_type": "stream",
     "text": [
      "0.2 3.79 3.898 4.675\n",
      "0.71 2.355 4.028 4.469\n",
      "0.87 2.703 4.056 4.482\n",
      "1.18 2.778 4.107 4.438\n",
      "3.83 2.632 4.21 4.277\n",
      "4.24 2.267 4.408 3.839\n",
      "4.38 2.194 4.555 3.552\n",
      "4.61 2.121 4.728 3.196\n",
      "5.29 2.279 4.802 3.208\n",
      "5.45 2.319 4.944 3.022\n",
      "5.49 2.203 5.223 2.428\n",
      "5.68 2.233 5.427 2.13\n",
      "6.03 2.218 5.71 1.631\n",
      "6.46 2.161 6.099 0.855\n",
      "7.15 2.443 6.071 1.516\n",
      "7.78 2.676 6.059 2.039\n",
      "7.81 2.826 6.164 2.251\n",
      "7.92 3.083 5.979 2.985\n",
      "7.99 3.271 5.868 3.444\n",
      "8.33 3.379 5.956 3.612\n",
      "8.7 3.481 6.06 3.782\n",
      "8.92 3.665 5.577 4.289\n",
      "9.26 3.773 5.29 4.506\n",
      "9.64 3.852 4.91 4.632\n"
     ]
    }
   ],
   "source": [
    "# Quick loop to try all split values\n",
    "\n",
    "for split_val in np.unique(xvec)[:-1]:\n",
    "    a_val = np.mean(yvec[xvec<=split_val])\n",
    "    b_val = np.mean(yvec[xvec>split_val])\n",
    "    error_1 = (yvec[xvec<=split_val] - a_val)**2\n",
    "    error_2 = (yvec[xvec>split_val] - b_val)**2\n",
    "    error = np.mean(np.concatenate((error_1, error_2)))\n",
    "    print(split_val, np.round(a_val,decimals=3), \n",
    "          np.round(b_val, decimals=3), np.round(error,decimals=3))"
   ]
  },
  {
   "cell_type": "code",
   "execution_count": 5,
   "metadata": {},
   "outputs": [
    {
     "data": {
      "text/plain": [
       "<matplotlib.collections.LineCollection at 0x1588ac898>"
      ]
     },
     "execution_count": 5,
     "metadata": {},
     "output_type": "execute_result"
    },
    {
     "data": {
      "image/png": "[encoded data removed]",
      "text/plain": [
       "<Figure size 432x288 with 1 Axes>"
      ]
     },
     "metadata": {
      "needs_background": "light"
     },
     "output_type": "display_data"
    }
   ],
   "source": [
    "# Plot best split \n",
    "plt.scatter(xvec, yvec)\n",
    "plt.hlines(y=2.16, xmin=0, xmax=7.15)\n",
    "plt.hlines(y=6.09, xmin=7.15, xmax=10)\n",
    "plt.hlines(y=2.319, xmin=0, xmax=5.45, linestyles='dotted')\n",
    "plt.hlines(y=4.944, xmin=5.45, xmax=10, linestyles='dotted')"
   ]
  },
  {
   "cell_type": "markdown",
   "metadata": {},
   "source": [
    "### Question 1: What about when I want multiple steps?\n",
    "- Let $m$ be number of different x values\n",
    "- To check every division into two steps takes $m$ evaluations\n",
    "- To check every division into three steps takes $m^2$ evaluations\n",
    "- etc....\n",
    "\n",
    "### Question: What about when I have multiple variables?\n",
    "- Again, to find the best step function with (for example) 8 leaves and 4 variables would be very difficult\n",
    "\n",
    "### Solution: Use a *greedy* approach\n",
    "- Find the best split across all variables\n",
    "- Repeat process on each side of split separately (using only data on that side of split)\n",
    "- Stop according to some rules\n",
    "- Note: This does not find the best possible tree!  For example, it may be that you get the best tree by choosing a \"not-so-good\" split first, but it enables better splits below.\n",
    "\n",
    "### Question: What happens as I keep splitting more and more?"
   ]
  },
  {
   "cell_type": "markdown",
   "metadata": {},
   "source": [
    "### Parameters for decision tree algorithm\n",
    "(I put the sklearn names below, other packages may vary in their naming)\n",
    "- `max_depth`: don't split further when you've reached a certain depth\n",
    "- `min_samples_split`: don't split if you have few data points at the node\n",
    "- `min_samples_leaf`: don't split if it creates a node with few data points\n",
    "- `criterion`: how to evaluate how \"good\" a split is.  Typically use mean_squared_error for regression and entropy for classification (though \"gini\" is also used as a quicker approximation to entropy).  In practice, the distinction between entropy and gini is usually not that important.\n",
    "\n",
    "### Implementation details:\n",
    "- Where should I put the split_value if there are no x values between 1.18 and 3.83 (but that is the best split)?\n",
    "- In other words, for future values between 1.18 and 3.83, should they go \"left\" or \"right\"\n",
    "- What about missing values?\n",
    "- What about categorical variables?"
   ]
  },
  {
   "cell_type": "markdown",
   "metadata": {
    "jupyter": {
     "outputs_hidden": false
    }
   },
   "source": [
    "## Random Forests: Motivating thought experiment\n",
    "- In practice, it is rare to use a single decision tree as your model (though it does happen!)\n",
    "- Imagine you build a decision tree, and at the root it is very close between two different variables as to which is the best to split on.\n",
    "- The \"best\" tree $T_1$ gives a reasonable model. However, you also check what tree you would have built if you used the second-best split (at the root) (call it $T_2$).\n",
    "- Then you average the predictions of $T_1$ and $T_2$ and find it does better than either tree alone\n",
    "- You would like to expand this idea and build 1000 trees that are all \"pretty good\" and also different from one another.\n",
    "- IDEA: inject some randomness into tree building process...\n",
    "\n",
    "### Injecting Randomness\n",
    "The random forest builds many decision trees independently.  Since the decision tree algorithm is deterministic, if you run it over and over again on the same dataset, you will just get the same tree over and over.\n",
    "\n",
    "#### Randomness 1\n",
    "Use different datasets each time.  Specifically, take a random sample of your data (how big? with or without replacement?).  This is called \"bagging\".  This means you can get different trees because the data looks different.\n",
    "- This helps, but the trees end up still being pretty similar most of the time\n",
    "\n",
    "#### Randomness 2\n",
    "Only evaluate a subset of the predictors at each node.  For example, if you have 10 predictors, randomly choose 3 and only consider those.  This means the root splits (and subsequent splits) will be quite different from tree to tree.\n",
    "\n",
    "Since each tree is a completely independent trial of this process, it is straightforward to parallelize."
   ]
  },
  {
   "cell_type": "markdown",
   "metadata": {
    "jupyter": {
     "outputs_hidden": false
    }
   },
   "source": [
    "### Parameters for Random Forest (in addition to Decision Tree)\n",
    "- all the tree-specific parameters above\n",
    "- `n_estimators`: Number of trees to fit\n",
    "- `max_features`: How many (or what percentage) of the features to try at each node."
   ]
  },
  {
   "cell_type": "markdown",
   "metadata": {},
   "source": [
    "## Let's play with some data\n",
    "\n",
    "Our first data set will contain games from the NBA.  We will play around with trying to predict the winner of the game from some team statistics."
   ]
  },
  {
   "cell_type": "code",
   "execution_count": 6,
   "metadata": {},
   "outputs": [],
   "source": [
    "from sklearn.ensemble import RandomForestRegressor, RandomForestClassifier\n",
    "from sklearn.metrics import log_loss, roc_auc_score, accuracy_score\n",
    "from sklearn.model_selection import train_test_split"
   ]
  },
  {
   "cell_type": "code",
   "execution_count": 7,
   "metadata": {},
   "outputs": [
    {
     "data": {
      "text/plain": [
       "(23096, 21)"
      ]
     },
     "execution_count": 7,
     "metadata": {},
     "output_type": "execute_result"
    }
   ],
   "source": [
    "df_nba = pd.read_csv('data/games.csv')\n",
    "df_nba.dropna(inplace=True)\n",
    "df_nba.shape"
   ]
  },
  {
   "cell_type": "code",
   "execution_count": 8,
   "metadata": {},
   "outputs": [
    {
     "data": {
      "text/html": [
       "<div>\n",
       "<style scoped>\n",
       "    .dataframe tbody tr th:only-of-type {\n",
       "        vertical-align: middle;\n",
       "    }\n",
       "\n",
       "    .dataframe tbody tr th {\n",
       "        vertical-align: top;\n",
       "    }\n",
       "\n",
       "    .dataframe thead th {\n",
       "        text-align: right;\n",
       "    }\n",
       "</style>\n",
       "<table border=\"1\" class=\"dataframe\">\n",
       "  <thead>\n",
       "    <tr style=\"text-align: right;\">\n",
       "      <th></th>\n",
       "      <th>GAME_DATE_EST</th>\n",
       "      <th>GAME_ID</th>\n",
       "      <th>GAME_STATUS_TEXT</th>\n",
       "      <th>HOME_TEAM_ID</th>\n",
       "      <th>VISITOR_TEAM_ID</th>\n",
       "      <th>SEASON</th>\n",
       "      <th>TEAM_ID_home</th>\n",
       "      <th>PTS_home</th>\n",
       "      <th>FG_PCT_home</th>\n",
       "      <th>FT_PCT_home</th>\n",
       "      <th>...</th>\n",
       "      <th>AST_home</th>\n",
       "      <th>REB_home</th>\n",
       "      <th>TEAM_ID_away</th>\n",
       "      <th>PTS_away</th>\n",
       "      <th>FG_PCT_away</th>\n",
       "      <th>FT_PCT_away</th>\n",
       "      <th>FG3_PCT_away</th>\n",
       "      <th>AST_away</th>\n",
       "      <th>REB_away</th>\n",
       "      <th>HOME_TEAM_WINS</th>\n",
       "    </tr>\n",
       "  </thead>\n",
       "  <tbody>\n",
       "    <tr>\n",
       "      <th>308</th>\n",
       "      <td>2020-01-13</td>\n",
       "      <td>21900596</td>\n",
       "      <td>Final</td>\n",
       "      <td>1610612758</td>\n",
       "      <td>1610612753</td>\n",
       "      <td>2019</td>\n",
       "      <td>1610612758</td>\n",
       "      <td>112.0</td>\n",
       "      <td>0.517</td>\n",
       "      <td>0.909</td>\n",
       "      <td>...</td>\n",
       "      <td>25.0</td>\n",
       "      <td>44.0</td>\n",
       "      <td>1610612753</td>\n",
       "      <td>114.0</td>\n",
       "      <td>0.435</td>\n",
       "      <td>0.833</td>\n",
       "      <td>0.310</td>\n",
       "      <td>17.0</td>\n",
       "      <td>46.0</td>\n",
       "      <td>0</td>\n",
       "    </tr>\n",
       "    <tr>\n",
       "      <th>11476</th>\n",
       "      <td>2006-11-08</td>\n",
       "      <td>20600058</td>\n",
       "      <td>Final</td>\n",
       "      <td>1610612761</td>\n",
       "      <td>1610612755</td>\n",
       "      <td>2006</td>\n",
       "      <td>1610612761</td>\n",
       "      <td>106.0</td>\n",
       "      <td>0.409</td>\n",
       "      <td>0.793</td>\n",
       "      <td>...</td>\n",
       "      <td>19.0</td>\n",
       "      <td>45.0</td>\n",
       "      <td>1610612755</td>\n",
       "      <td>104.0</td>\n",
       "      <td>0.494</td>\n",
       "      <td>0.750</td>\n",
       "      <td>0.250</td>\n",
       "      <td>22.0</td>\n",
       "      <td>53.0</td>\n",
       "      <td>1</td>\n",
       "    </tr>\n",
       "    <tr>\n",
       "      <th>14004</th>\n",
       "      <td>2004-12-27</td>\n",
       "      <td>20400399</td>\n",
       "      <td>Final</td>\n",
       "      <td>1610612757</td>\n",
       "      <td>1610612755</td>\n",
       "      <td>2004</td>\n",
       "      <td>1610612757</td>\n",
       "      <td>104.0</td>\n",
       "      <td>0.482</td>\n",
       "      <td>0.731</td>\n",
       "      <td>...</td>\n",
       "      <td>27.0</td>\n",
       "      <td>48.0</td>\n",
       "      <td>1610612755</td>\n",
       "      <td>111.0</td>\n",
       "      <td>0.446</td>\n",
       "      <td>0.731</td>\n",
       "      <td>0.435</td>\n",
       "      <td>28.0</td>\n",
       "      <td>41.0</td>\n",
       "      <td>0</td>\n",
       "    </tr>\n",
       "    <tr>\n",
       "      <th>7765</th>\n",
       "      <td>2009-03-10</td>\n",
       "      <td>20800954</td>\n",
       "      <td>Final</td>\n",
       "      <td>1610612746</td>\n",
       "      <td>1610612739</td>\n",
       "      <td>2008</td>\n",
       "      <td>1610612746</td>\n",
       "      <td>83.0</td>\n",
       "      <td>0.390</td>\n",
       "      <td>0.800</td>\n",
       "      <td>...</td>\n",
       "      <td>20.0</td>\n",
       "      <td>41.0</td>\n",
       "      <td>1610612739</td>\n",
       "      <td>87.0</td>\n",
       "      <td>0.390</td>\n",
       "      <td>0.800</td>\n",
       "      <td>0.150</td>\n",
       "      <td>16.0</td>\n",
       "      <td>46.0</td>\n",
       "      <td>0</td>\n",
       "    </tr>\n",
       "    <tr>\n",
       "      <th>13620</th>\n",
       "      <td>2005-02-17</td>\n",
       "      <td>20400781</td>\n",
       "      <td>Final</td>\n",
       "      <td>1610612756</td>\n",
       "      <td>1610612742</td>\n",
       "      <td>2004</td>\n",
       "      <td>1610612756</td>\n",
       "      <td>113.0</td>\n",
       "      <td>0.453</td>\n",
       "      <td>0.818</td>\n",
       "      <td>...</td>\n",
       "      <td>22.0</td>\n",
       "      <td>41.0</td>\n",
       "      <td>1610612742</td>\n",
       "      <td>119.0</td>\n",
       "      <td>0.536</td>\n",
       "      <td>0.913</td>\n",
       "      <td>0.533</td>\n",
       "      <td>19.0</td>\n",
       "      <td>44.0</td>\n",
       "      <td>0</td>\n",
       "    </tr>\n",
       "  </tbody>\n",
       "</table>\n",
       "<p>5 rows × 21 columns</p>\n",
       "</div>"
      ],
      "text/plain": [
       "      GAME_DATE_EST   GAME_ID GAME_STATUS_TEXT  HOME_TEAM_ID  VISITOR_TEAM_ID  \\\n",
       "308      2020-01-13  21900596            Final    1610612758       1610612753   \n",
       "11476    2006-11-08  20600058            Final    1610612761       1610612755   \n",
       "14004    2004-12-27  20400399            Final    1610612757       1610612755   \n",
       "7765     2009-03-10  20800954            Final    1610612746       1610612739   \n",
       "13620    2005-02-17  20400781            Final    1610612756       1610612742   \n",
       "\n",
       "       SEASON  TEAM_ID_home  PTS_home  FG_PCT_home  FT_PCT_home  ...  \\\n",
       "308      2019    1610612758     112.0        0.517        0.909  ...   \n",
       "11476    2006    1610612761     106.0        0.409        0.793  ...   \n",
       "14004    2004    1610612757     104.0        0.482        0.731  ...   \n",
       "7765     2008    1610612746      83.0        0.390        0.800  ...   \n",
       "13620    2004    1610612756     113.0        0.453        0.818  ...   \n",
       "\n",
       "       AST_home  REB_home  TEAM_ID_away  PTS_away  FG_PCT_away  FT_PCT_away  \\\n",
       "308        25.0      44.0    1610612753     114.0        0.435        0.833   \n",
       "11476      19.0      45.0    1610612755     104.0        0.494        0.750   \n",
       "14004      27.0      48.0    1610612755     111.0        0.446        0.731   \n",
       "7765       20.0      41.0    1610612739      87.0        0.390        0.800   \n",
       "13620      22.0      41.0    1610612742     119.0        0.536        0.913   \n",
       "\n",
       "       FG3_PCT_away  AST_away  REB_away  HOME_TEAM_WINS  \n",
       "308           0.310      17.0      46.0               0  \n",
       "11476         0.250      22.0      53.0               1  \n",
       "14004         0.435      28.0      41.0               0  \n",
       "7765          0.150      16.0      46.0               0  \n",
       "13620         0.533      19.0      44.0               0  \n",
       "\n",
       "[5 rows x 21 columns]"
      ]
     },
     "execution_count": 8,
     "metadata": {},
     "output_type": "execute_result"
    }
   ],
   "source": [
    "df_nba.sample(5)"
   ]
  },
  {
   "cell_type": "code",
   "execution_count": 9,
   "metadata": {},
   "outputs": [
    {
     "data": {
      "text/plain": [
       "Index(['GAME_DATE_EST', 'GAME_ID', 'GAME_STATUS_TEXT', 'HOME_TEAM_ID',\n",
       "       'VISITOR_TEAM_ID', 'SEASON', 'TEAM_ID_home', 'PTS_home', 'FG_PCT_home',\n",
       "       'FT_PCT_home', 'FG3_PCT_home', 'AST_home', 'REB_home', 'TEAM_ID_away',\n",
       "       'PTS_away', 'FG_PCT_away', 'FT_PCT_away', 'FG3_PCT_away', 'AST_away',\n",
       "       'REB_away', 'HOME_TEAM_WINS'],\n",
       "      dtype='object')"
      ]
     },
     "execution_count": 9,
     "metadata": {},
     "output_type": "execute_result"
    }
   ],
   "source": [
    "df_nba.columns"
   ]
  },
  {
   "cell_type": "code",
   "execution_count": 10,
   "metadata": {},
   "outputs": [],
   "source": [
    "feat_1 = ['FG_PCT_home','FT_PCT_home', 'FG_PCT_away', 'FT_PCT_away']\n",
    "feat_2 = ['FG_PCT_home','FT_PCT_home', 'FG3_PCT_home', 'AST_home', 'REB_home', \n",
    "        'FG_PCT_away', 'FT_PCT_away', 'FG3_PCT_away', 'AST_away', 'REB_away']\n"
   ]
  },
  {
   "cell_type": "code",
   "execution_count": 11,
   "metadata": {},
   "outputs": [],
   "source": [
    "X = df_nba.iloc[:,:-1]  # everything except winner\n",
    "y = df_nba.HOME_TEAM_WINS "
   ]
  },
  {
   "cell_type": "code",
   "execution_count": 12,
   "metadata": {},
   "outputs": [],
   "source": [
    "X_train_full, X_test, y_train_full, y_test = train_test_split(X,y,test_size = 2000, random_state=0)"
   ]
  },
  {
   "cell_type": "code",
   "execution_count": 13,
   "metadata": {},
   "outputs": [
    {
     "data": {
      "text/plain": [
       "Index(['GAME_DATE_EST', 'GAME_ID', 'GAME_STATUS_TEXT', 'HOME_TEAM_ID',\n",
       "       'VISITOR_TEAM_ID', 'SEASON', 'TEAM_ID_home', 'PTS_home', 'FG_PCT_home',\n",
       "       'FT_PCT_home', 'FG3_PCT_home', 'AST_home', 'REB_home', 'TEAM_ID_away',\n",
       "       'PTS_away', 'FG_PCT_away', 'FT_PCT_away', 'FG3_PCT_away', 'AST_away',\n",
       "       'REB_away'],\n",
       "      dtype='object')"
      ]
     },
     "execution_count": 13,
     "metadata": {},
     "output_type": "execute_result"
    }
   ],
   "source": [
    "X_train_full.columns"
   ]
  },
  {
   "cell_type": "code",
   "execution_count": 14,
   "metadata": {},
   "outputs": [],
   "source": [
    "n_train_pts = 2000\n",
    "X_train_1 = X_train_full.iloc[:n_train_pts].loc[:, feat_1]\n",
    "y_train_1 = y_train_full.iloc[:n_train_pts]\n",
    "X_test_1 = X_test.loc[:, feat_1]"
   ]
  },
  {
   "cell_type": "code",
   "execution_count": 15,
   "metadata": {},
   "outputs": [
    {
     "data": {
      "text/plain": [
       "RandomForestClassifier(n_estimators=1000)"
      ]
     },
     "execution_count": 15,
     "metadata": {},
     "output_type": "execute_result"
    }
   ],
   "source": [
    "rf1 = RandomForestClassifier(n_estimators=1000)\n",
    "rf1"
   ]
  },
  {
   "cell_type": "code",
   "execution_count": 16,
   "metadata": {},
   "outputs": [
    {
     "data": {
      "text/plain": [
       "RandomForestClassifier(n_estimators=1000)"
      ]
     },
     "execution_count": 16,
     "metadata": {},
     "output_type": "execute_result"
    }
   ],
   "source": [
    "rf1.fit(X_train_1, y_train_1)"
   ]
  },
  {
   "cell_type": "code",
   "execution_count": 17,
   "metadata": {},
   "outputs": [],
   "source": [
    "prob_preds_1 = rf1.predict_proba(X_test_1)[:,1]"
   ]
  },
  {
   "cell_type": "code",
   "execution_count": 18,
   "metadata": {},
   "outputs": [
    {
     "data": {
      "text/plain": [
       "(0.4449462833646558, 0.8687129991972706)"
      ]
     },
     "execution_count": 18,
     "metadata": {},
     "output_type": "execute_result"
    }
   ],
   "source": [
    "log_loss(y_test, prob_preds_1), roc_auc_score(y_test, prob_preds_1)"
   ]
  },
  {
   "cell_type": "code",
   "execution_count": 19,
   "metadata": {},
   "outputs": [],
   "source": [
    "hard_preds_1 = (prob_preds_1 > .5).astype(int)"
   ]
  },
  {
   "cell_type": "code",
   "execution_count": 20,
   "metadata": {},
   "outputs": [
    {
     "data": {
      "text/plain": [
       "0.794"
      ]
     },
     "execution_count": 20,
     "metadata": {},
     "output_type": "execute_result"
    }
   ],
   "source": [
    "accuracy_score(y_test, hard_preds_1)"
   ]
  },
  {
   "cell_type": "markdown",
   "metadata": {},
   "source": [
    "#### Now let's repeat with the bigger feature set"
   ]
  },
  {
   "cell_type": "code",
   "execution_count": 21,
   "metadata": {},
   "outputs": [],
   "source": [
    "X_train_2 = X_train_full.iloc[:n_train_pts].loc[:, feat_2]\n",
    "y_train_2 = y_train_full.iloc[:n_train_pts]\n",
    "X_test_2 = X_test.loc[:, feat_2]"
   ]
  },
  {
   "cell_type": "code",
   "execution_count": 22,
   "metadata": {},
   "outputs": [
    {
     "data": {
      "text/plain": [
       "RandomForestClassifier(n_estimators=1000)"
      ]
     },
     "execution_count": 22,
     "metadata": {},
     "output_type": "execute_result"
    }
   ],
   "source": [
    "rf2 = RandomForestClassifier(n_estimators=1000)\n",
    "rf2.fit(X_train_2, y_train_2)"
   ]
  },
  {
   "cell_type": "code",
   "execution_count": 23,
   "metadata": {},
   "outputs": [],
   "source": [
    "prob_preds_2 = rf2.predict_proba(X_test_2)[:,1]"
   ]
  },
  {
   "cell_type": "code",
   "execution_count": 24,
   "metadata": {},
   "outputs": [
    {
     "data": {
      "text/plain": [
       "(0.37299959595259247, 0.9146185572613552)"
      ]
     },
     "execution_count": 24,
     "metadata": {},
     "output_type": "execute_result"
    }
   ],
   "source": [
    "log_loss(y_test, prob_preds_2), roc_auc_score(y_test, prob_preds_2)"
   ]
  },
  {
   "cell_type": "code",
   "execution_count": 25,
   "metadata": {},
   "outputs": [],
   "source": [
    "hard_preds_2 = (prob_preds_2>.5).astype(int)"
   ]
  },
  {
   "cell_type": "code",
   "execution_count": 26,
   "metadata": {},
   "outputs": [
    {
     "data": {
      "text/plain": [
       "0.838"
      ]
     },
     "execution_count": 26,
     "metadata": {},
     "output_type": "execute_result"
    }
   ],
   "source": [
    "accuracy_score(y_test, hard_preds_2)"
   ]
  },
  {
   "cell_type": "code",
   "execution_count": null,
   "metadata": {},
   "outputs": [],
   "source": []
  },
  {
   "cell_type": "markdown",
   "metadata": {},
   "source": [
    "## Exercise:\n",
    "1. Train, Predict and Evaluate Random Forest models using feature sets 3 and 4 below.  Note that 'PTS_home' and 'PTS_away' represent the number of points scored by each team.\n",
    "2. Which model does better?  Why?\n",
    "3. What does this demonstrate about the limitations of the greedy tree-building process?\n",
    "4. What does this demonstrate about the importance of feature engineering?  What feature could be created that would make the RF perform flawlessly?  Why couldn't the RF \"figure it out\" without that feature being made explicit?"
   ]
  },
  {
   "cell_type": "code",
   "execution_count": 27,
   "metadata": {},
   "outputs": [],
   "source": [
    "feat_3 = ['FG_PCT_home','FT_PCT_home', 'FG3_PCT_home', 'AST_home', 'REB_home', \n",
    "        'FG_PCT_away', 'FT_PCT_away', 'FG3_PCT_away', 'AST_away', 'REB_away',\n",
    "         'PTS_home', 'PTS_away']\n",
    "feat_4 = ['PTS_home', 'PTS_away']"
   ]
  },
  {
   "cell_type": "code",
   "execution_count": null,
   "metadata": {},
   "outputs": [],
   "source": []
  },
  {
   "cell_type": "code",
   "execution_count": 28,
   "metadata": {},
   "outputs": [],
   "source": [
    "X_train_3 = X_train_full.iloc[:n_train_pts].loc[:, feat_3]\n",
    "y_train_3 = y_train_full.iloc[:n_train_pts]\n",
    "X_test_3 = X_test.loc[:, feat_3]"
   ]
  },
  {
   "cell_type": "code",
   "execution_count": 29,
   "metadata": {},
   "outputs": [],
   "source": [
    "# ..."
   ]
  },
  {
   "cell_type": "code",
   "execution_count": null,
   "metadata": {},
   "outputs": [],
   "source": []
  },
  {
   "cell_type": "code",
   "execution_count": null,
   "metadata": {},
   "outputs": [],
   "source": []
  },
  {
   "cell_type": "code",
   "execution_count": null,
   "metadata": {},
   "outputs": [],
   "source": []
  },
  {
   "cell_type": "code",
   "execution_count": null,
   "metadata": {},
   "outputs": [],
   "source": []
  },
  {
   "cell_type": "code",
   "execution_count": null,
   "metadata": {},
   "outputs": [],
   "source": []
  },
  {
   "cell_type": "code",
   "execution_count": 30,
   "metadata": {},
   "outputs": [],
   "source": [
    "X_train_4 = X_train_full.iloc[:n_train_pts].loc[:, feat_4]\n",
    "y_train_4 = y_train_full.iloc[:n_train_pts]\n",
    "X_test_4 = X_test.loc[:, feat_4]"
   ]
  },
  {
   "cell_type": "code",
   "execution_count": 31,
   "metadata": {},
   "outputs": [],
   "source": [
    "#..."
   ]
  },
  {
   "cell_type": "code",
   "execution_count": null,
   "metadata": {},
   "outputs": [],
   "source": []
  },
  {
   "cell_type": "code",
   "execution_count": null,
   "metadata": {},
   "outputs": [],
   "source": []
  },
  {
   "cell_type": "code",
   "execution_count": null,
   "metadata": {},
   "outputs": [],
   "source": []
  },
  {
   "cell_type": "code",
   "execution_count": null,
   "metadata": {},
   "outputs": [],
   "source": []
  },
  {
   "cell_type": "code",
   "execution_count": null,
   "metadata": {},
   "outputs": [],
   "source": []
  }
 ],
 "metadata": {
  "anaconda-cloud": {},
  "kernelspec": {
   "display_name": "Python 3",
   "language": "python",
   "name": "python3"
  },
  "language_info": {
   "codemirror_mode": {
    "name": "ipython",
    "version": 3
   },
   "file_extension": ".py",
   "mimetype": "text/x-python",
   "name": "python",
   "nbconvert_exporter": "python",
   "pygments_lexer": "ipython3",
   "version": "3.7.3"
  }
 },
 "nbformat": 4,
 "nbformat_minor": 4
}
