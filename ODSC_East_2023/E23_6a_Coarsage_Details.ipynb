{
 "cells": [
  {
   "cell_type": "markdown",
   "id": "a51308b3-1e87-4561-8546-a12a3942c035",
   "metadata": {},
   "source": [
    "##  Coarsage for Probabilistic Regression - Some Extra Details\n",
    "## (Conditional Density Estimation)\n"
   ]
  },
  {
   "cell_type": "markdown",
   "id": "081de879-0014-4559-9502-059006a950f6",
   "metadata": {},
   "source": [
    "Here we will go through a couple of additional examples to demonstrate some other parameters of Coarsage and when they are applicable."
   ]
  },
  {
   "cell_type": "markdown",
   "id": "a493d15c-aca7-4c3d-a7e8-6568bee3e0e1",
   "metadata": {},
   "source": [
    "## Imports"
   ]
  },
  {
   "cell_type": "code",
   "execution_count": 1,
   "id": "338cdb4d-ec38-4d41-99ab-230688a71217",
   "metadata": {},
   "outputs": [],
   "source": [
    "import numpy as np\n",
    "import pandas as pd\n",
    "import matplotlib.pyplot as plt\n",
    "%matplotlib inline\n",
    "\n",
    "import structureboost as stb\n",
    "import ml_insights as mli\n",
    "from sklearn.model_selection import train_test_split\n",
    "\n"
   ]
  },
  {
   "cell_type": "markdown",
   "id": "458dde4b-a68b-4e2d-9ec0-44770da2a6dc",
   "metadata": {},
   "source": [
    "## Baseball Runs Scored\n",
    "Here we load in a data set of MLB games.  Each row gives some statistics of the hitting team, the opposing pitchers, and the number of runs that were scored.  We will demonstrate how to predict the distribution of the number of runs scored."
   ]
  },
  {
   "cell_type": "code",
   "execution_count": null,
   "id": "101232c1-1146-4d44-a378-8be0308e85c6",
   "metadata": {},
   "outputs": [],
   "source": []
  },
  {
   "cell_type": "code",
   "execution_count": 2,
   "id": "83e289d9-7132-408a-b391-1ca960230724",
   "metadata": {},
   "outputs": [],
   "source": [
    "df_runs = pd.read_csv('bball_runs_sm.csv')"
   ]
  },
  {
   "cell_type": "code",
   "execution_count": 3,
   "id": "fcd3ecdf-a928-4970-9b08-8727113fc092",
   "metadata": {},
   "outputs": [
    {
     "name": "stdout",
     "output_type": "stream",
     "text": [
      "(24284, 13)\n"
     ]
    }
   ],
   "source": [
    "print(df_runs.shape)"
   ]
  },
  {
   "cell_type": "code",
   "execution_count": 4,
   "id": "c38a0c77-8fc4-44ec-aa8b-4bb78a104224",
   "metadata": {},
   "outputs": [
    {
     "name": "stdout",
     "output_type": "stream",
     "text": [
      "<class 'pandas.core.frame.DataFrame'>\n",
      "RangeIndex: 24284 entries, 0 to 24283\n",
      "Data columns (total 13 columns):\n",
      " #   Column           Non-Null Count  Dtype  \n",
      "---  ------           --------------  -----  \n",
      " 0   index            24284 non-null  int64  \n",
      " 1   date_dblhead     24284 non-null  int64  \n",
      " 2   team_h           24284 non-null  object \n",
      " 3   team_v           24284 non-null  object \n",
      " 4   home_hitting     24284 non-null  int64  \n",
      " 5   runs             24284 non-null  int64  \n",
      " 6   OBP_162          24284 non-null  float64\n",
      " 7   SLG_162          24284 non-null  float64\n",
      " 8   Strt_WHIP_35     24284 non-null  float64\n",
      " 9   Strt_SO_perc_10  24284 non-null  float64\n",
      " 10  Bpen_WHIP_75     24284 non-null  float64\n",
      " 11  Bpen_SO_perc_75  24284 non-null  float64\n",
      " 12  Bpen_WHIP_35     24284 non-null  float64\n",
      "dtypes: float64(7), int64(4), object(2)\n",
      "memory usage: 2.4+ MB\n"
     ]
    }
   ],
   "source": [
    "df_runs.info()"
   ]
  },
  {
   "cell_type": "code",
   "execution_count": 5,
   "id": "f388564c-8a45-44e9-a08a-56b3f5369631",
   "metadata": {},
   "outputs": [
    {
     "data": {
      "text/html": [
       "<div>\n",
       "<style scoped>\n",
       "    .dataframe tbody tr th:only-of-type {\n",
       "        vertical-align: middle;\n",
       "    }\n",
       "\n",
       "    .dataframe tbody tr th {\n",
       "        vertical-align: top;\n",
       "    }\n",
       "\n",
       "    .dataframe thead th {\n",
       "        text-align: right;\n",
       "    }\n",
       "</style>\n",
       "<table border=\"1\" class=\"dataframe\">\n",
       "  <thead>\n",
       "    <tr style=\"text-align: right;\">\n",
       "      <th></th>\n",
       "      <th>index</th>\n",
       "      <th>date_dblhead</th>\n",
       "      <th>team_h</th>\n",
       "      <th>team_v</th>\n",
       "      <th>home_hitting</th>\n",
       "      <th>runs</th>\n",
       "      <th>OBP_162</th>\n",
       "      <th>SLG_162</th>\n",
       "      <th>Strt_WHIP_35</th>\n",
       "      <th>Strt_SO_perc_10</th>\n",
       "      <th>Bpen_WHIP_75</th>\n",
       "      <th>Bpen_SO_perc_75</th>\n",
       "      <th>Bpen_WHIP_35</th>\n",
       "    </tr>\n",
       "  </thead>\n",
       "  <tbody>\n",
       "    <tr>\n",
       "      <th>2894</th>\n",
       "      <td>2894</td>\n",
       "      <td>201605090</td>\n",
       "      <td>BOS</td>\n",
       "      <td>OAK</td>\n",
       "      <td>1</td>\n",
       "      <td>14</td>\n",
       "      <td>0.327880</td>\n",
       "      <td>0.430111</td>\n",
       "      <td>1.171053</td>\n",
       "      <td>0.195219</td>\n",
       "      <td>1.256228</td>\n",
       "      <td>0.204282</td>\n",
       "      <td>1.079019</td>\n",
       "    </tr>\n",
       "    <tr>\n",
       "      <th>13085</th>\n",
       "      <td>13085</td>\n",
       "      <td>201506150</td>\n",
       "      <td>ANA</td>\n",
       "      <td>ARI</td>\n",
       "      <td>0</td>\n",
       "      <td>7</td>\n",
       "      <td>0.304823</td>\n",
       "      <td>0.373391</td>\n",
       "      <td>1.246575</td>\n",
       "      <td>0.115942</td>\n",
       "      <td>1.263393</td>\n",
       "      <td>0.230519</td>\n",
       "      <td>1.217712</td>\n",
       "    </tr>\n",
       "    <tr>\n",
       "      <th>15829</th>\n",
       "      <td>15829</td>\n",
       "      <td>201607050</td>\n",
       "      <td>WAS</td>\n",
       "      <td>MIL</td>\n",
       "      <td>0</td>\n",
       "      <td>5</td>\n",
       "      <td>0.318220</td>\n",
       "      <td>0.394835</td>\n",
       "      <td>1.387755</td>\n",
       "      <td>0.272727</td>\n",
       "      <td>1.143307</td>\n",
       "      <td>0.272727</td>\n",
       "      <td>1.261589</td>\n",
       "    </tr>\n",
       "    <tr>\n",
       "      <th>3662</th>\n",
       "      <td>3662</td>\n",
       "      <td>201607040</td>\n",
       "      <td>MIN</td>\n",
       "      <td>OAK</td>\n",
       "      <td>1</td>\n",
       "      <td>1</td>\n",
       "      <td>0.306786</td>\n",
       "      <td>0.406504</td>\n",
       "      <td>1.450607</td>\n",
       "      <td>0.128205</td>\n",
       "      <td>1.349045</td>\n",
       "      <td>0.230129</td>\n",
       "      <td>1.385224</td>\n",
       "    </tr>\n",
       "    <tr>\n",
       "      <th>16642</th>\n",
       "      <td>16642</td>\n",
       "      <td>201609070</td>\n",
       "      <td>NYA</td>\n",
       "      <td>TOR</td>\n",
       "      <td>0</td>\n",
       "      <td>0</td>\n",
       "      <td>0.329603</td>\n",
       "      <td>0.443924</td>\n",
       "      <td>1.547619</td>\n",
       "      <td>0.175000</td>\n",
       "      <td>1.185286</td>\n",
       "      <td>0.276382</td>\n",
       "      <td>1.313559</td>\n",
       "    </tr>\n",
       "  </tbody>\n",
       "</table>\n",
       "</div>"
      ],
      "text/plain": [
       "       index  date_dblhead team_h team_v  home_hitting  runs   OBP_162  \\\n",
       "2894    2894     201605090    BOS    OAK             1    14  0.327880   \n",
       "13085  13085     201506150    ANA    ARI             0     7  0.304823   \n",
       "15829  15829     201607050    WAS    MIL             0     5  0.318220   \n",
       "3662    3662     201607040    MIN    OAK             1     1  0.306786   \n",
       "16642  16642     201609070    NYA    TOR             0     0  0.329603   \n",
       "\n",
       "        SLG_162  Strt_WHIP_35  Strt_SO_perc_10  Bpen_WHIP_75  Bpen_SO_perc_75  \\\n",
       "2894   0.430111      1.171053         0.195219      1.256228         0.204282   \n",
       "13085  0.373391      1.246575         0.115942      1.263393         0.230519   \n",
       "15829  0.394835      1.387755         0.272727      1.143307         0.272727   \n",
       "3662   0.406504      1.450607         0.128205      1.349045         0.230129   \n",
       "16642  0.443924      1.547619         0.175000      1.185286         0.276382   \n",
       "\n",
       "       Bpen_WHIP_35  \n",
       "2894       1.079019  \n",
       "13085      1.217712  \n",
       "15829      1.261589  \n",
       "3662       1.385224  \n",
       "16642      1.313559  "
      ]
     },
     "execution_count": 5,
     "metadata": {},
     "output_type": "execute_result"
    }
   ],
   "source": [
    "df_runs.sample(5, random_state=0)"
   ]
  },
  {
   "cell_type": "code",
   "execution_count": 6,
   "id": "92c98bb3-5be5-4866-a035-e4214092af68",
   "metadata": {},
   "outputs": [],
   "source": [
    "df_runs['runs_trunc'] = np.minimum(df_runs['runs'],16)\n",
    "df_runs['season']=df_runs.date_dblhead.apply(lambda x: int(str(x)[:4]))"
   ]
  },
  {
   "cell_type": "code",
   "execution_count": 7,
   "id": "99ad36ca-a035-4f00-a9f2-c06d99598c4f",
   "metadata": {},
   "outputs": [
    {
     "data": {
      "text/plain": [
       "2017    4860\n",
       "2015    4858\n",
       "2019    4858\n",
       "2016    4854\n",
       "2018    4854\n",
       "Name: season, dtype: int64"
      ]
     },
     "execution_count": 7,
     "metadata": {},
     "output_type": "execute_result"
    }
   ],
   "source": [
    "df_runs.season.value_counts()"
   ]
  },
  {
   "cell_type": "code",
   "execution_count": 8,
   "id": "a48186ca-9ee8-4486-ae51-67c0c2d3e58a",
   "metadata": {},
   "outputs": [],
   "source": [
    "df_train = df_runs[df_runs.season<=2017]\n",
    "df_valid = df_runs[df_runs.season==2018]\n",
    "df_test = df_runs[df_runs.season>=2019]"
   ]
  },
  {
   "cell_type": "markdown",
   "id": "39975a09-da3c-4ee7-99ba-0acc9de31ba5",
   "metadata": {},
   "source": [
    "## Begin Modeling"
   ]
  },
  {
   "cell_type": "code",
   "execution_count": null,
   "id": "dbffe074-a6dc-4c77-814a-8004e182141a",
   "metadata": {},
   "outputs": [],
   "source": []
  },
  {
   "cell_type": "code",
   "execution_count": 9,
   "id": "b125d6a8-28fc-45bd-b3cd-35214aa5259a",
   "metadata": {},
   "outputs": [],
   "source": [
    "feat_set = ['OBP_162',\n",
    " 'SLG_162',\n",
    " 'Strt_WHIP_35',\n",
    " 'Strt_SO_perc_10',\n",
    " 'Bpen_WHIP_75',\n",
    " 'Bpen_SO_perc_75',\n",
    " 'Bpen_WHIP_35']\n",
    "target = 'runs'"
   ]
  },
  {
   "cell_type": "code",
   "execution_count": null,
   "id": "418e4b6f-d125-4061-b477-03f29e4cc602",
   "metadata": {},
   "outputs": [],
   "source": []
  },
  {
   "cell_type": "code",
   "execution_count": 10,
   "id": "0aa760e9-9189-40cd-a46a-92cbaa9dd03c",
   "metadata": {
    "scrolled": true,
    "tags": []
   },
   "outputs": [],
   "source": [
    "# def try_features_runs(feat_set, max_depth=2):\n",
    "target = 'runs_trunc'\n",
    "X_train = df_train.loc[:,feat_set]\n",
    "X_valid = df_valid.loc[:,feat_set]\n",
    "X_test = df_test.loc[:,feat_set]\n",
    "\n",
    "y_train = df_train[target].to_numpy()\n",
    "y_valid = df_valid[target].to_numpy()\n",
    "y_test = df_test[target].to_numpy()"
   ]
  },
  {
   "cell_type": "markdown",
   "id": "0d92073f-6078-4d88-b8f8-2b96fc055d47",
   "metadata": {
    "tags": []
   },
   "source": [
    "For this problem, we know the \"bins\" we want.  So we can choose `binpt_method='fixed'` and specify the bins we want.\n",
    "\n",
    "When dealing with integer valued target variables, it is useful to have bins of width 1, so that the density = the probability.  It is also nice for plotting to have the bins centered at the integer values"
   ]
  },
  {
   "cell_type": "code",
   "execution_count": 11,
   "id": "3b2ef3e2-1310-4880-9486-0a4d4c030503",
   "metadata": {
    "tags": []
   },
   "outputs": [
    {
     "data": {
      "text/plain": [
       "array([-0.5,  0.5,  1.5,  2.5,  3.5,  4.5,  5.5,  6.5,  7.5,  8.5,  9.5,\n",
       "       10.5, 11.5, 12.5, 13.5, 14.5, 15.5, 16.5])"
      ]
     },
     "execution_count": 11,
     "metadata": {},
     "output_type": "execute_result"
    }
   ],
   "source": [
    "bpv2 = np.linspace(-.5,16.5,18)\n",
    "bpv2"
   ]
  },
  {
   "cell_type": "markdown",
   "id": "a595b809-c825-4fc9-8de8-eaf7b2db2ec9",
   "metadata": {
    "tags": []
   },
   "source": [
    "This gives us 17 bins, representing 0, 1, 2, ..., 16+ runs scored for that team"
   ]
  },
  {
   "cell_type": "code",
   "execution_count": 12,
   "id": "c45b5e4c-616f-4609-88a6-173755811a76",
   "metadata": {
    "scrolled": true,
    "tags": []
   },
   "outputs": [
    {
     "name": "stdout",
     "output_type": "stream",
     "text": [
      "i=0, eval_set_loss = 2.4490039762731746\n",
      "i=10, eval_set_loss = 2.4461476346461826\n",
      "i=20, eval_set_loss = 2.4441703123877976\n",
      "i=30, eval_set_loss = 2.442561412003207\n",
      "i=40, eval_set_loss = 2.4413205295364366\n",
      "i=50, eval_set_loss = 2.440680353700598\n",
      "i=60, eval_set_loss = 2.4404502068717147\n",
      "i=70, eval_set_loss = 2.440223817837822\n",
      "i=80, eval_set_loss = 2.4404008323653885\n",
      "i=90, eval_set_loss = 2.440507078575545\n",
      "i=100, eval_set_loss = 2.4407266462121475\n",
      "i=110, eval_set_loss = 2.440598732908706\n",
      "i=120, eval_set_loss = 2.440846893448357\n",
      "Stopping early: low pt was 5 steps ago\n"
     ]
    }
   ],
   "source": [
    "cr1 = stb.Coarsage(num_trees = 1000, learning_rate=.02, max_depth=4,\n",
    "                  binpt_method = 'fixed', \n",
    "               binpt_vec=bpv2)\n",
    "cr1.fit(X_train, y_train, eval_set=(X_valid, y_valid), early_stop_past_steps=5, eval_freq=10)"
   ]
  },
  {
   "cell_type": "code",
   "execution_count": 13,
   "id": "3de8ceac-f8b6-4fb9-9c2b-7dd199cee83c",
   "metadata": {},
   "outputs": [],
   "source": [
    "preds_test = cr1.predict_distributions(X_test)"
   ]
  },
  {
   "cell_type": "code",
   "execution_count": 14,
   "id": "907764e8-5f4b-4349-a1e8-0c0c2c808fa3",
   "metadata": {},
   "outputs": [
    {
     "data": {
      "text/plain": [
       "2.50026321021628"
      ]
     },
     "execution_count": 14,
     "metadata": {},
     "output_type": "execute_result"
    }
   ],
   "source": [
    "preds_test.log_loss(y_test)"
   ]
  },
  {
   "cell_type": "code",
   "execution_count": 15,
   "id": "0667309d-2c20-4f46-bbd4-b45b3cb85ded",
   "metadata": {},
   "outputs": [
    {
     "data": {
      "image/png": "[encoded data removed]",
      "text/plain": [
       "<Figure size 1080x1080 with 6 Axes>"
      ]
     },
     "metadata": {
      "needs_background": "light"
     },
     "output_type": "display_data"
    }
   ],
   "source": [
    "plt.figure(figsize=(15,15))\n",
    "for i in range(1,7):\n",
    "    plt.subplot(3,2,i)\n",
    "    preds_test[i].plot_density()\n",
    "    plt.ylim([0,.25])\n",
    "    plt.vlines(x=y_test[i], ymin=0,ymax=.2, color='k', linestyle='--')"
   ]
  },
  {
   "cell_type": "markdown",
   "id": "357a47dd-0db4-4453-beef-78915d5583a7",
   "metadata": {},
   "source": [
    "When using `binpt_method = 'fixed'` it will always use the exact subdivision it is given.  For a small number of bins, this generally makes sense.  However, if you had a larger number of bins (say 200), you might want to subdivide within the set of given binpts.  To do this, you must choose `binpt_method = 'fixed-rss'` and specify `num_coarse_bins`."
   ]
  },
  {
   "cell_type": "code",
   "execution_count": 16,
   "id": "bdc7560b-7422-4d90-9677-8fd9a3c8d2b7",
   "metadata": {
    "scrolled": true,
    "tags": []
   },
   "outputs": [
    {
     "name": "stdout",
     "output_type": "stream",
     "text": [
      "i=0, eval_set_loss = 2.4616511642661565\n",
      "i=10, eval_set_loss = 2.4563508708022597\n",
      "i=20, eval_set_loss = 2.4521156392641985\n",
      "i=30, eval_set_loss = 2.449566749882437\n",
      "i=40, eval_set_loss = 2.4474150789640037\n",
      "i=50, eval_set_loss = 2.4462788053246736\n",
      "i=60, eval_set_loss = 2.4455477953243627\n",
      "i=70, eval_set_loss = 2.4447636571056357\n",
      "i=80, eval_set_loss = 2.444554465637454\n",
      "i=90, eval_set_loss = 2.4442736652122607\n",
      "i=100, eval_set_loss = 2.4434168012405397\n",
      "i=110, eval_set_loss = 2.4433219581624117\n",
      "i=120, eval_set_loss = 2.4432129083927796\n",
      "i=130, eval_set_loss = 2.4431541742677365\n",
      "i=140, eval_set_loss = 2.443496927882747\n",
      "i=150, eval_set_loss = 2.4440558389050593\n",
      "i=160, eval_set_loss = 2.4440731343740403\n",
      "i=170, eval_set_loss = 2.4446327828509324\n",
      "i=180, eval_set_loss = 2.445040860344541\n",
      "Stopping early: low pt was 5 steps ago\n"
     ]
    }
   ],
   "source": [
    "cr2 = stb.Coarsage(num_trees = 1000, learning_rate=.02, max_depth=4,\n",
    "                  binpt_method = 'fixed-rss', num_coarse_bins=10,\n",
    "               binpt_vec=bpv2)\n",
    "cr2.fit(X_train, y_train, eval_set=(X_valid, y_valid), early_stop_past_steps=5, eval_freq=10)"
   ]
  },
  {
   "cell_type": "code",
   "execution_count": 17,
   "id": "9332b26d-e0a8-4565-a867-c3e5045fa069",
   "metadata": {},
   "outputs": [],
   "source": [
    "preds_test = cr2.predict_distributions(X_test)"
   ]
  },
  {
   "cell_type": "code",
   "execution_count": 18,
   "id": "a4c2c936-199f-4189-b176-eca1061eb4b9",
   "metadata": {},
   "outputs": [
    {
     "data": {
      "text/plain": [
       "2.5029181522181663"
      ]
     },
     "execution_count": 18,
     "metadata": {},
     "output_type": "execute_result"
    }
   ],
   "source": [
    "preds_test.log_loss(y_test)"
   ]
  },
  {
   "cell_type": "markdown",
   "id": "d5c6604b-9199-4063-8652-cf85b91e4788",
   "metadata": {},
   "source": [
    "It is *not* recommended to use `binpt_method='auto'` (the default) when you have integer-valued data (for a variety of reasons).  In some situations it may actually give better log-loss values, but it is effectively \"cheating\" (you can make log-loss as small as you want by making narrower intervals around the integer values)"
   ]
  },
  {
   "cell_type": "code",
   "execution_count": 19,
   "id": "4cbee4f2-beac-42d7-afac-37dadcf14728",
   "metadata": {
    "tags": []
   },
   "outputs": [
    {
     "ename": "SyntaxError",
     "evalue": "EOL while scanning string literal (2834320074.py, line 1)",
     "output_type": "error",
     "traceback": [
      "\u001b[0;36m  Input \u001b[0;32mIn [19]\u001b[0;36m\u001b[0m\n\u001b[0;31m    Let's look at some of the other parameters in Coarsage:\u001b[0m\n\u001b[0m                                                           ^\u001b[0m\n\u001b[0;31mSyntaxError\u001b[0m\u001b[0;31m:\u001b[0m EOL while scanning string literal\n"
     ]
    }
   ],
   "source": [
    "Let's look at some of the other parameters in Coarsage:"
   ]
  },
  {
   "cell_type": "code",
   "execution_count": null,
   "id": "da44e9ef-0ba7-4c4e-bf5c-a696416feabb",
   "metadata": {},
   "outputs": [],
   "source": [
    "stb.Coarsage?"
   ]
  },
  {
   "cell_type": "code",
   "execution_count": null,
   "id": "3bbda4d9-afec-4337-940b-ac004b0c70d8",
   "metadata": {},
   "outputs": [],
   "source": []
  },
  {
   "cell_type": "markdown",
   "id": "33ed9074-1931-4952-bb50-43c89e50e588",
   "metadata": {},
   "source": [
    "Next, let's revisit the Ames housing data"
   ]
  },
  {
   "cell_type": "code",
   "execution_count": null,
   "id": "4c7bb8cb-dfe8-48dd-9590-837348f2d967",
   "metadata": {
    "scrolled": true,
    "tags": []
   },
   "outputs": [],
   "source": [
    "df_house = pd.read_csv('../GBIP/data/Ames_Housing_Data.tsv', delimiter='\\t')\n",
    "df_house = df_house.loc[df_house['Gr Liv Area']<=4000,:]\n",
    "df_house['Garage Area'].fillna(0, inplace=True)\n",
    "df_house.info()"
   ]
  },
  {
   "cell_type": "code",
   "execution_count": null,
   "id": "2d13a985-f0ea-4298-9568-c8180f1f1188",
   "metadata": {},
   "outputs": [],
   "source": [
    "#df_house.columns = [x.replace(' ','_') for x in df_house.columns]"
   ]
  },
  {
   "cell_type": "code",
   "execution_count": null,
   "id": "7bcc79f0-aac8-40a2-90ae-ec073e938b86",
   "metadata": {},
   "outputs": [],
   "source": [
    "df_house.sample(5)"
   ]
  },
  {
   "cell_type": "code",
   "execution_count": null,
   "id": "dc35dd84-5868-4499-b230-b40503ab4b09",
   "metadata": {},
   "outputs": [],
   "source": []
  },
  {
   "cell_type": "code",
   "execution_count": null,
   "id": "d444f3d9-9484-4463-9ef6-c9d1005439b0",
   "metadata": {},
   "outputs": [],
   "source": [
    "feat = ['Lot Area','Overall Qual',\n",
    "       'Overall Cond', 'Year Built', 'Year Remod/Add', 'Gr Liv Area', \n",
    "        'Full Bath', 'Half Bath', 'Bedroom AbvGr',\n",
    "         'Garage Area', 'Fireplaces']"
   ]
  },
  {
   "cell_type": "code",
   "execution_count": null,
   "id": "6caa5d46-d8cd-453d-9842-8282367cf051",
   "metadata": {},
   "outputs": [],
   "source": []
  },
  {
   "cell_type": "code",
   "execution_count": null,
   "id": "e43aec4c-5694-4fa5-8d25-ba53d7a1fffd",
   "metadata": {},
   "outputs": [],
   "source": [
    "X = df_house.loc[:,feat]  # everything except Sale Price\n",
    "y = df_house.SalePrice.to_numpy()"
   ]
  },
  {
   "cell_type": "code",
   "execution_count": null,
   "id": "e568ce05-5cdd-4889-b3fa-7d9de9d81236",
   "metadata": {},
   "outputs": [],
   "source": [
    "X_train, X_test, y_train, y_test = train_test_split(X,y,test_size = 400, random_state=0)"
   ]
  },
  {
   "cell_type": "code",
   "execution_count": null,
   "id": "00d1fe41-54fb-48ac-b186-22d5ed0fe4d8",
   "metadata": {},
   "outputs": [],
   "source": []
  },
  {
   "cell_type": "code",
   "execution_count": null,
   "id": "cadea701-4d40-4b13-8a0e-e7de9f53e8ba",
   "metadata": {},
   "outputs": [],
   "source": []
  },
  {
   "cell_type": "code",
   "execution_count": null,
   "id": "fd688634-5e0c-45a1-9994-035c4e179733",
   "metadata": {
    "scrolled": true,
    "tags": []
   },
   "outputs": [],
   "source": [
    "cr3 = stb.Coarsage(num_trees=2000, learning_rate=.05, max_depth=8, num_coarse_bins=30)\n",
    "cr3.fit(X_train, y_train, eval_set=(X_test, y_test), early_stop_past_steps = 5)"
   ]
  },
  {
   "cell_type": "code",
   "execution_count": null,
   "id": "a0679190-601a-47a1-bb15-5539d3eb7b8b",
   "metadata": {},
   "outputs": [],
   "source": []
  },
  {
   "cell_type": "code",
   "execution_count": null,
   "id": "fa7eda5e-2955-42b5-af23-8d23953f6157",
   "metadata": {},
   "outputs": [],
   "source": [
    "cr3_preds = cr3.predict_distributions(X_test)\n",
    "cr3_preds.log_loss(y_test)"
   ]
  },
  {
   "cell_type": "code",
   "execution_count": null,
   "id": "e5911fa7-3b88-4af2-9f67-9f299580c154",
   "metadata": {
    "tags": []
   },
   "outputs": [],
   "source": [
    "i=0\n",
    "cr3_preds[i].plot_density()\n",
    "plt.vlines(x=y_test[i], ymin=0,ymax=.00002, color='k', linestyle='--')"
   ]
  },
  {
   "cell_type": "code",
   "execution_count": null,
   "id": "e40897ff-96fc-4ddc-b5d0-fc8566282937",
   "metadata": {},
   "outputs": [],
   "source": []
  },
  {
   "cell_type": "code",
   "execution_count": null,
   "id": "52328cdc-d4fb-4771-8b6a-ecb2729db4ad",
   "metadata": {
    "tags": []
   },
   "outputs": [],
   "source": [
    "plt.figure(figsize=(15,15))\n",
    "for i in range(1,7):\n",
    "    plt.subplot(3,2,i)\n",
    "    cr3_preds[i].plot_density()\n",
    "    plt.vlines(x=y_test[i], ymin=0,ymax=.00002, color='k', linestyle='--')"
   ]
  },
  {
   "cell_type": "markdown",
   "id": "3584d79f-4460-4db6-99b1-03972a515721",
   "metadata": {},
   "source": []
  },
  {
   "cell_type": "code",
   "execution_count": null,
   "id": "87a283b7-b4e8-49ca-b5fb-49b6c1831520",
   "metadata": {
    "tags": []
   },
   "outputs": [],
   "source": []
  },
  {
   "cell_type": "code",
   "execution_count": null,
   "id": "d0ca5e4f-3dbd-45c3-870c-b0bbb1598154",
   "metadata": {},
   "outputs": [],
   "source": []
  }
 ],
 "metadata": {
  "kernelspec": {
   "display_name": "Python 3 (ipykernel)",
   "language": "python",
   "name": "python3"
  },
  "language_info": {
   "codemirror_mode": {
    "name": "ipython",
    "version": 3
   },
   "file_extension": ".py",
   "mimetype": "text/x-python",
   "name": "python",
   "nbconvert_exporter": "python",
   "pygments_lexer": "ipython3",
   "version": "3.9.13"
  }
 },
 "nbformat": 4,
 "nbformat_minor": 5
}
