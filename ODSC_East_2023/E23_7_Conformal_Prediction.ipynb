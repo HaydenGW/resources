{
 "cells": [
  {
   "cell_type": "markdown",
   "id": "f4bec970-4fb9-4678-b975-fdce42d7b0a7",
   "metadata": {},
   "source": [
    "## Conformal Prediction \n",
    "Conformal prediction is a hot field of research.  It has garnered much attention due to its flexibility and the accompanying theoretical guarantees.  However, one must pay close attention to truly understand the nature of these guarantees.  In many cases, their practical utility is less than one might imagine.\n",
    "\n",
    "We will start by covering the basics behind the theory of conformal prediction, with a focus on \"split\" conformal prediction.  We will then demonstrate Conformalized Quantile Regression (CQR), which overcomes many of the drawbacks of the standard alternatives.  We will use the MAPIE package and explain what is going on \"under the hood\"."
   ]
  },
  {
   "cell_type": "markdown",
   "id": "f5695d28-a9e7-4dc8-84b4-76d2849aac27",
   "metadata": {},
   "source": [
    "<br>\n",
    "<br>\n",
    "<br>\n",
    "<br>\n",
    "<br>\n",
    "<br>\n",
    "<br>\n",
    "<br>\n",
    "<br>\n"
   ]
  },
  {
   "cell_type": "markdown",
   "id": "97460441-57d9-4e6f-a6db-97f971f2ab92",
   "metadata": {},
   "source": [
    "## Theory behind Conformal Prediction\n",
    "### Thought Experiment\n",
    "Suppose I have variables $Z_1,Z_2$ which are iid draws from some (continuous) distribution. (So, $P(Z_1 = Z_2) = 0$)\n",
    "\n",
    "What is $P(Z_2>Z_1)$?  What is $P(Z_2<Z_1)$?\n",
    "\n",
    "<br>\n",
    "\n",
    "\n",
    "\n",
    "Now suppose I have $Z_1, Z_2, Z_3$ iid variables.\n",
    "\n",
    "What is $P(Z_3<\\min(Z_1, Z_2))$?\n",
    "What is $P(Z_3>\\max(Z_1, Z_2))$?  \n",
    "\n",
    "What is $P(\\min(Z_1, Z_2) < Z_3 < \\max(Z_1, Z_2))$?"
   ]
  },
  {
   "cell_type": "markdown",
   "id": "0e8d8cb2-353e-4c70-b5e6-8f82945fb71c",
   "metadata": {},
   "source": [
    "<br>\n",
    "<br>\n",
    "<br>\n",
    "<br>\n",
    "<br>\n",
    "<br>\n",
    "<br>\n",
    "<br>\n",
    "<br>\n",
    "<br>\n",
    "<br>"
   ]
  },
  {
   "cell_type": "markdown",
   "id": "dd715428-7e88-482b-9c70-7e20f39ca9f7",
   "metadata": {},
   "source": [
    "### This generalizes...\n",
    "If I have $Z_1, Z_2, \\ldots, Z_{n+1}$ iid from any (continuous) distribution, then $Z_{n+1}$ is equally likely to be in any of the $(n+1)$ \"bins\" created by ordering $Z_1, \\ldots, Z_n$ from smallest to largest.\n",
    "\n",
    "In other words:\n",
    "- let $A_1$ be the smallest of $Z_1, Z_2, \\ldots, Z_n$\n",
    "- $A_2$ be second smallest, etc. \n",
    "- up to $A_n$ the largest.  \n",
    "\n",
    "Then $Z_{n+1}$ is equally likely to be in any of the $(n+1)$ intervals:\n",
    "\n",
    "$(-\\infty, A_1), (A_1, A_2), \\ldots, (A_{n-1}, A_n), (A_n, \\infty)$\n",
    "\n",
    "so we can conclude:\n",
    "\n",
    "$P(Z_{n+1} < A_k) = \\frac{k}{n+1}$\n",
    "\n",
    "(Could say something similar with discrete distributions, but gets more complicated with ties, etc... and have to be careful about $<, \\leq, =$)"
   ]
  },
  {
   "cell_type": "markdown",
   "id": "6bf9c901-baf8-4906-b364-789083aca1be",
   "metadata": {},
   "source": [
    "<br>\n",
    "<br>\n",
    "<br>\n"
   ]
  },
  {
   "cell_type": "markdown",
   "id": "5e2b2a73-3a90-4ba7-a97c-c16e53d13bc8",
   "metadata": {},
   "source": [
    "### Example\n",
    "Let $n=9$, I have 10 observations from some iid distribution $Z_1, Z_2, \\ldots, Z_{10}$:\n",
    "\n",
    "Let $A_8$ be the eight biggest one out of the first 9.\n",
    "\n",
    "$P(X_{10} < A_8) = .8$"
   ]
  },
  {
   "cell_type": "markdown",
   "id": "f1a29859-28ed-4ba6-ae21-333e798e14cc",
   "metadata": {},
   "source": [
    "<br>\n",
    "<br>\n",
    "<br>\n",
    "<br>\n",
    "<br>\n",
    "<br>\n",
    "<br>\n",
    "<br>\n",
    "<br>\n",
    "<br>\n",
    "<br>\n",
    "<br>\n",
    "<br>\n"
   ]
  },
  {
   "cell_type": "markdown",
   "id": "5c951622-add5-46a1-96af-f29b699fcc45",
   "metadata": {},
   "source": [
    "## KEY CAVEAT\n",
    "This is only true when we have *unconditional* probabilities:\n",
    "- i.e. BEFORE we know the values of any of the variables.  \n",
    "- Once I *know* the values $Z_1=3, Z_2=10, Z_3=3.001$, it is no longer true that $X_4$ is equally likely to be in each of the defined intervals.\n",
    "\n",
    "(This can bend your mind a little bit, but is the key to properly understanding the \"guarantees\" of conformal prediction)"
   ]
  },
  {
   "cell_type": "markdown",
   "id": "bc2c8982-9f9f-435c-8a4c-db79d3f8143d",
   "metadata": {},
   "source": [
    "<br>\n",
    "<br>\n",
    "<br>\n",
    "<br>\n",
    "<br>\n",
    "<br>\n",
    "<br>\n",
    "<br>\n"
   ]
  },
  {
   "cell_type": "markdown",
   "id": "68cc9611-dd9b-45fe-87d6-4de589e3de75",
   "metadata": {},
   "source": [
    "### Approach to Split Conformal Prediction (SCP)\n",
    "1) You get a training set $S_{tr} = (X_i, Y_i)$ from the probability distribution $P(X,Y)$ and build your model $M$ on it (assume $Y$ is numeric, continuous).  So now $M$ maps an \"$X$ value\" to a \"$Y$ value\".\n",
    "2) You get a calibration set $S_{ca} = (X_i, Y_i)$ from the same probability distribution. Let $z_i$ be the set of *calibration residuals* => $Z_i = |M(X_i) - Y_i|$ for the $(X_i, Y_i)$ in $S_{ca}$. Let $n$ be the size of the calibration set.\n",
    "3) These $Z_i$, $i=1,\\ldots,n$ will serve the same role of \"dividing up\" $[0, \\infty)$  into intervals.  Let $A_1$ be the smallest, $A_2$ be the second smallest, etc.\n",
    "4) Generate a new point $(X_0, Y_0)$ from $P(X,Y)$ and let $Z_0 = |M(X_0) - Y_i|$ (e.g. a point in the test set).  Let $Z_0 = |M(X_0) - Y_i|$ (the residual of this new point).  Suppose $n=99$ and we want 80\\% \"coverage\" for a prediction interval.  We know from before that:\n",
    "\n",
    "$P(Z_0 < A_{80})=.8$\n",
    "\n",
    "$P(|M(X_0)-Y_0| < A_{80}) =.8$\n",
    "\n",
    "$P(Y_0 - A_{80} < M(X_0) < Y_0 + A_{80}) = .8$\n",
    "\n",
    "Put another way, 80\\% of the time, your model prediction is within $A_{80}$ of the true answer, where $A_{80}$ is the 80th biggest error (out of 99) in your calibration set!\n",
    "\n",
    "Roughly speaking: Suppose $A_{80} = 12$.  Since in the past, 80\\% of your errors were less than 12, we can just add +/- 12 to (all) our predictions and the corresponding interval will contain the right answer 80\\% of the time!\n",
    "\n",
    "And it works for any model $M$, no matter how you created it!"
   ]
  },
  {
   "cell_type": "markdown",
   "id": "65cc1659-12ac-48fe-a496-14c113c0e3c2",
   "metadata": {},
   "source": [
    "<br>\n",
    "<br>\n",
    "<br>\n",
    "<br>\n",
    "<br>\n",
    "<br>\n",
    "<br>\n",
    "<br>\n"
   ]
  },
  {
   "cell_type": "markdown",
   "id": "723b1e60-6775-4611-8c6f-4b38a13cd9f8",
   "metadata": {},
   "source": [
    "#### Q: This sounds too good to be true!  What am I missing?\n",
    "\n",
    "The key caveat, is that this is \"on average\" across all $X$ values.  Specifically, we are using the same +/- value regardless of the value of $X$.  Mathematically speaking, the coverage is **not conditional on $X=x$**"
   ]
  },
  {
   "cell_type": "markdown",
   "id": "0e535701-5c3d-4056-b239-b1fe39cc5c1e",
   "metadata": {},
   "source": [
    "#### Q: Why does that matter?\n",
    "\n",
    "Suppose you have a house price prediction model.  Houses range in price from \\\\$100,000 to \\\\$20,000,000.  You use split conformal prediction to get 90\\% coverage and it gives you a +/- value of \\\\$90,000.  What will happen in practice?\n",
    "\n",
    "For a point prediction of 80,000 your prediction interval will be (-10K, 170K)\n",
    "\n",
    "For a point prediction of 15,000,000 your prediction interval will be (14.91M, 15.09M)\n",
    "\n",
    "Do you think you will have the same 90\\% coverage on both shacks and mansions?"
   ]
  },
  {
   "cell_type": "markdown",
   "id": "27e9fcde-f422-43d7-bb07-1f83caaf12a6",
   "metadata": {},
   "source": [
    "<br>\n",
    "<br>\n",
    "<br>\n",
    "<br>\n",
    "<br>\n",
    "<br>\n",
    "<br>\n",
    "<br>\n"
   ]
  },
  {
   "cell_type": "markdown",
   "id": "8c533457-b832-455a-a475-85a80fba79c2",
   "metadata": {},
   "source": [
    "### Additional Limitations\n",
    "Suppose your model makes predictions of \\\\$300,000 on two different condos.  For condo 1, many nearby condos have been sold between \\\\$295,000 and \\\\$305,000. For condo 2, similar units have been sold from \\\\$200,000 to \\\\$400,000.  \n",
    "\n",
    "Will SCP adapt its intervals to reflect higher confidence in condo 1?  No!  SCP only looks at the point prediction of the model, and the residuals across the entire calibration set (ignoring the effect of $X$ on the residuals).  It cannot learn the confidence from the data set (the way the probabilistic regression methods do)."
   ]
  },
  {
   "cell_type": "markdown",
   "id": "ba9d1086-fe68-4a8f-883f-0a34f8073f07",
   "metadata": {},
   "source": [
    "That said, Split Conformal Prediction is a simple way to get prediction intervals that (on average across all X values) give the desired coverage (and can be proven to do so)."
   ]
  },
  {
   "cell_type": "code",
   "execution_count": 1,
   "id": "58d66a5b-33be-4266-a532-c4b62ac1e980",
   "metadata": {
    "tags": []
   },
   "outputs": [],
   "source": [
    "import numpy as np\n",
    "import pandas as pd\n",
    "import matplotlib.pyplot as plt\n",
    "import lightgbm as lgbm\n",
    "from sklearn.base import RegressorMixin, clone"
   ]
  },
  {
   "cell_type": "code",
   "execution_count": 2,
   "id": "53eeab7b-fac4-4d7d-be71-df76eed72033",
   "metadata": {},
   "outputs": [],
   "source": [
    "random_state = 42"
   ]
  },
  {
   "cell_type": "code",
   "execution_count": null,
   "id": "f8084a33-eb54-4418-bbd4-2206cf731d77",
   "metadata": {},
   "outputs": [],
   "source": []
  },
  {
   "cell_type": "code",
   "execution_count": 3,
   "id": "cf1995cc-96a3-41f6-a4d0-a7894e1c8c4c",
   "metadata": {},
   "outputs": [],
   "source": [
    "# Load in data set and clean up the column names\n",
    "df_concrete = pd.read_csv(\"concr_mod.csv\")\n",
    "df_concrete.columns = ['cement', 'blast_furnace_slag', 'fly_ash', 'water', 'superplasticizer', 'coarse_agg', 'fine_agg', 'age_days','strength']"
   ]
  },
  {
   "cell_type": "code",
   "execution_count": null,
   "id": "42409b86-4a20-41e3-9b98-c629cf5f6b24",
   "metadata": {},
   "outputs": [],
   "source": []
  },
  {
   "cell_type": "code",
   "execution_count": 4,
   "id": "8a8eb256-e326-4ca5-98fb-e5e2aa7e2c75",
   "metadata": {},
   "outputs": [
    {
     "data": {
      "text/plain": [
       "0    122\n",
       "2    112\n",
       "4    111\n",
       "9    110\n",
       "7    104\n",
       "5    100\n",
       "6     97\n",
       "3     97\n",
       "8     94\n",
       "1     83\n",
       "dtype: int64"
      ]
     },
     "execution_count": 4,
     "metadata": {},
     "output_type": "execute_result"
    }
   ],
   "source": [
    "np.random.seed(random_state)\n",
    "foldnum = np.random.randint(0,10,df_concrete.shape[0])\n",
    "pd.Series(foldnum).value_counts()"
   ]
  },
  {
   "cell_type": "code",
   "execution_count": 5,
   "id": "808454dd-84fe-4fb6-8b1e-0bb144c7ed39",
   "metadata": {},
   "outputs": [],
   "source": [
    "# 50% train, 20% valid, 30% test\n",
    "dfc_train = df_concrete[foldnum<=4]\n",
    "dfc_valid = df_concrete[(foldnum>4) & (foldnum<=6)]\n",
    "dfc_test = df_concrete[foldnum>6]\n",
    "\n",
    "dfc_train_val = pd.concat((dfc_train, dfc_valid))"
   ]
  },
  {
   "cell_type": "code",
   "execution_count": 6,
   "id": "515641ae-1b01-4f47-86f8-e356753cd7c2",
   "metadata": {},
   "outputs": [],
   "source": [
    "features = df_concrete.columns[:-1].tolist()\n",
    "target = 'strength'\n",
    "X_train = dfc_train.loc[:,features]\n",
    "y_train = dfc_train[target].to_numpy()\n",
    "\n",
    "X_calib = dfc_valid.loc[:,features]\n",
    "y_calib = dfc_valid[target].to_numpy()\n",
    "\n",
    "X_test = dfc_test.loc[:,features]\n",
    "y_test = dfc_test[target].to_numpy()\n",
    "\n",
    "X_train_val = dfc_train_val.loc[:,features]\n",
    "y_train_val = dfc_train_val[target].to_numpy()\n"
   ]
  },
  {
   "cell_type": "code",
   "execution_count": 7,
   "id": "35c2627b-9ed6-4afd-97d1-663edf2274a4",
   "metadata": {
    "tags": []
   },
   "outputs": [],
   "source": [
    "lgbm1 = lgbm.LGBMRegressor(\n",
    "    max_depth=8, n_estimators=5000, learning_rate=.02,\n",
    "    random_state=random_state\n",
    ")"
   ]
  },
  {
   "cell_type": "code",
   "execution_count": 8,
   "id": "3cadbd48-eca7-4f2d-ae8c-1b5c2884ef75",
   "metadata": {
    "tags": []
   },
   "outputs": [
    {
     "name": "stdout",
     "output_type": "stream",
     "text": [
      "Training until validation scores don't improve for 50 rounds\n",
      "Early stopping, best iteration is:\n",
      "[1452]\tvalid_0's l2: 24.0151\n"
     ]
    },
    {
     "data": {
      "text/html": [
       "<style>#sk-container-id-1 {color: black;background-color: white;}#sk-container-id-1 pre{padding: 0;}#sk-container-id-1 div.sk-toggleable {background-color: white;}#sk-container-id-1 label.sk-toggleable__label {cursor: pointer;display: block;width: 100%;margin-bottom: 0;padding: 0.3em;box-sizing: border-box;text-align: center;}#sk-container-id-1 label.sk-toggleable__label-arrow:before {content: \"▸\";float: left;margin-right: 0.25em;color: #696969;}#sk-container-id-1 label.sk-toggleable__label-arrow:hover:before {color: black;}#sk-container-id-1 div.sk-estimator:hover label.sk-toggleable__label-arrow:before {color: black;}#sk-container-id-1 div.sk-toggleable__content {max-height: 0;max-width: 0;overflow: hidden;text-align: left;background-color: #f0f8ff;}#sk-container-id-1 div.sk-toggleable__content pre {margin: 0.2em;color: black;border-radius: 0.25em;background-color: #f0f8ff;}#sk-container-id-1 input.sk-toggleable__control:checked~div.sk-toggleable__content {max-height: 200px;max-width: 100%;overflow: auto;}#sk-container-id-1 input.sk-toggleable__control:checked~label.sk-toggleable__label-arrow:before {content: \"▾\";}#sk-container-id-1 div.sk-estimator input.sk-toggleable__control:checked~label.sk-toggleable__label {background-color: #d4ebff;}#sk-container-id-1 div.sk-label input.sk-toggleable__control:checked~label.sk-toggleable__label {background-color: #d4ebff;}#sk-container-id-1 input.sk-hidden--visually {border: 0;clip: rect(1px 1px 1px 1px);clip: rect(1px, 1px, 1px, 1px);height: 1px;margin: -1px;overflow: hidden;padding: 0;position: absolute;width: 1px;}#sk-container-id-1 div.sk-estimator {font-family: monospace;background-color: #f0f8ff;border: 1px dotted black;border-radius: 0.25em;box-sizing: border-box;margin-bottom: 0.5em;}#sk-container-id-1 div.sk-estimator:hover {background-color: #d4ebff;}#sk-container-id-1 div.sk-parallel-item::after {content: \"\";width: 100%;border-bottom: 1px solid gray;flex-grow: 1;}#sk-container-id-1 div.sk-label:hover label.sk-toggleable__label {background-color: #d4ebff;}#sk-container-id-1 div.sk-serial::before {content: \"\";position: absolute;border-left: 1px solid gray;box-sizing: border-box;top: 0;bottom: 0;left: 50%;z-index: 0;}#sk-container-id-1 div.sk-serial {display: flex;flex-direction: column;align-items: center;background-color: white;padding-right: 0.2em;padding-left: 0.2em;position: relative;}#sk-container-id-1 div.sk-item {position: relative;z-index: 1;}#sk-container-id-1 div.sk-parallel {display: flex;align-items: stretch;justify-content: center;background-color: white;position: relative;}#sk-container-id-1 div.sk-item::before, #sk-container-id-1 div.sk-parallel-item::before {content: \"\";position: absolute;border-left: 1px solid gray;box-sizing: border-box;top: 0;bottom: 0;left: 50%;z-index: -1;}#sk-container-id-1 div.sk-parallel-item {display: flex;flex-direction: column;z-index: 1;position: relative;background-color: white;}#sk-container-id-1 div.sk-parallel-item:first-child::after {align-self: flex-end;width: 50%;}#sk-container-id-1 div.sk-parallel-item:last-child::after {align-self: flex-start;width: 50%;}#sk-container-id-1 div.sk-parallel-item:only-child::after {width: 0;}#sk-container-id-1 div.sk-dashed-wrapped {border: 1px dashed gray;margin: 0 0.4em 0.5em 0.4em;box-sizing: border-box;padding-bottom: 0.4em;background-color: white;}#sk-container-id-1 div.sk-label label {font-family: monospace;font-weight: bold;display: inline-block;line-height: 1.2em;}#sk-container-id-1 div.sk-label-container {text-align: center;}#sk-container-id-1 div.sk-container {/* jupyter's `normalize.less` sets `[hidden] { display: none; }` but bootstrap.min.css set `[hidden] { display: none !important; }` so we also need the `!important` here to be able to override the default hidden behavior on the sphinx rendered scikit-learn.org. See: https://github.com/scikit-learn/scikit-learn/issues/21755 */display: inline-block !important;position: relative;}#sk-container-id-1 div.sk-text-repr-fallback {display: none;}</style><div id=\"sk-container-id-1\" class=\"sk-top-container\"><div class=\"sk-text-repr-fallback\"><pre>LGBMRegressor(learning_rate=0.02, max_depth=8, n_estimators=5000,\n",
       "              random_state=42)</pre><b>In a Jupyter environment, please rerun this cell to show the HTML representation or trust the notebook. <br />On GitHub, the HTML representation is unable to render, please try loading this page with nbviewer.org.</b></div><div class=\"sk-container\" hidden><div class=\"sk-item\"><div class=\"sk-estimator sk-toggleable\"><input class=\"sk-toggleable__control sk-hidden--visually\" id=\"sk-estimator-id-1\" type=\"checkbox\" checked><label for=\"sk-estimator-id-1\" class=\"sk-toggleable__label sk-toggleable__label-arrow\">LGBMRegressor</label><div class=\"sk-toggleable__content\"><pre>LGBMRegressor(learning_rate=0.02, max_depth=8, n_estimators=5000,\n",
       "              random_state=42)</pre></div></div></div></div></div>"
      ],
      "text/plain": [
       "LGBMRegressor(learning_rate=0.02, max_depth=8, n_estimators=5000,\n",
       "              random_state=42)"
      ]
     },
     "execution_count": 8,
     "metadata": {},
     "output_type": "execute_result"
    }
   ],
   "source": [
    "lgbm1.fit(X_train, y_train, eval_set=[(X_calib, y_calib)],\n",
    "                          callbacks=[lgbm.early_stopping(stopping_rounds=50)])"
   ]
  },
  {
   "cell_type": "code",
   "execution_count": 9,
   "id": "16c7f837-06da-4cf8-a8b2-fc1afa3d1f29",
   "metadata": {
    "tags": []
   },
   "outputs": [
    {
     "data": {
      "text/plain": [
       "array([61.92434573, 41.85444659, 40.02465142, 45.24391462])"
      ]
     },
     "execution_count": 9,
     "metadata": {},
     "output_type": "execute_result"
    }
   ],
   "source": [
    "calib_preds = lgbm1.predict(X_calib)\n",
    "calib_preds[:4]"
   ]
  },
  {
   "cell_type": "code",
   "execution_count": 10,
   "id": "c73e93c8-9489-4fda-afd9-49fd04bbf45b",
   "metadata": {
    "tags": []
   },
   "outputs": [],
   "source": [
    "num_pts_calib = len(y_calib)\n",
    "q_val=.8\n",
    "resids = np.abs(y_calib-calib_preds)\n",
    "sorted_resids = np.sort(resids)"
   ]
  },
  {
   "cell_type": "markdown",
   "id": "9f5181ea-5af4-4cbb-84c5-e88bf326d913",
   "metadata": {},
   "source": [
    "Recall, if we had 99 points, we want to use the 80th largest one (which means index 79 in python).\n",
    "\n",
    "Three sources of confusion:\n",
    "- $n$ vs $n+1$ (points vs intervals)\n",
    "- rounding up (to be conservative)\n",
    "- the pythonic 0-indexing\n",
    "\n",
    "Generally, for n points, we want the following calculation:\n",
    "\n",
    "$q * ((n+1)/ n) * n$ (rounded up) gives us the order statistic we want.\n"
   ]
  },
  {
   "cell_type": "code",
   "execution_count": 11,
   "id": "e7bacd3d-ad88-4311-b0d0-7f9f8599af9e",
   "metadata": {
    "tags": []
   },
   "outputs": [
    {
     "data": {
      "text/plain": [
       "(197, 158, 5.9525390262841)"
      ]
     },
     "execution_count": 11,
     "metadata": {},
     "output_type": "execute_result"
    }
   ],
   "source": [
    "index_to_use = int(np.ceil(q_val * (num_pts_calib +1))-1)\n",
    "adj = sorted_resids[index_to_use]\n",
    "num_pts_calib, index_to_use, adj"
   ]
  },
  {
   "cell_type": "markdown",
   "id": "38b934a4-a151-4934-9447-dea3d4e972d9",
   "metadata": {},
   "source": [
    "Let's try it out..."
   ]
  },
  {
   "cell_type": "code",
   "execution_count": 12,
   "id": "99a73802-86c3-4d33-b326-728c43c7cda5",
   "metadata": {
    "tags": []
   },
   "outputs": [],
   "source": [
    "point_preds_test = lgbm1.predict(X_test)"
   ]
  },
  {
   "cell_type": "code",
   "execution_count": 13,
   "id": "61511565-b693-4470-aecb-83620eef16c2",
   "metadata": {
    "tags": []
   },
   "outputs": [],
   "source": [
    "left_ep_scp = point_preds_test - adj\n",
    "right_ep_scp = point_preds_test + adj"
   ]
  },
  {
   "cell_type": "code",
   "execution_count": 14,
   "id": "99b59ea4-406c-4768-899d-9a8b928536c5",
   "metadata": {
    "tags": []
   },
   "outputs": [
    {
     "data": {
      "text/plain": [
       "array([[35.09485222, 46.99993027],\n",
       "       [41.60997457, 53.51505262],\n",
       "       [37.65223732, 49.55731537],\n",
       "       [25.37784611, 37.28292416]])"
      ]
     },
     "execution_count": 14,
     "metadata": {},
     "output_type": "execute_result"
    }
   ],
   "source": [
    "pis_test_scp = np.vstack((left_ep_scp, right_ep_scp)).T\n",
    "pis_test_scp[:4,:]"
   ]
  },
  {
   "cell_type": "code",
   "execution_count": 15,
   "id": "30128b8a-6447-4e59-9438-64a0913b47c6",
   "metadata": {
    "tags": []
   },
   "outputs": [
    {
     "data": {
      "text/plain": [
       "(0.814935064935065, 11.9050780525682)"
      ]
     },
     "execution_count": 15,
     "metadata": {},
     "output_type": "execute_result"
    }
   ],
   "source": [
    "coverage_res_scp = (y_test >= pis_test_scp[:,0]) & (y_test<=pis_test_scp[:,1])\n",
    "np.mean(coverage_res_scp), np.mean(pis_test_scp[:,1]-pis_test_scp[:,0])"
   ]
  },
  {
   "cell_type": "markdown",
   "id": "f789ded6-8274-4d79-bf70-0e4b719a9214",
   "metadata": {
    "tags": []
   },
   "source": [
    "We get the desired coverage, but below we see that this is not uniform"
   ]
  },
  {
   "cell_type": "code",
   "execution_count": 16,
   "id": "5fa64a19-cd9b-47c3-96f6-d50a668ee5f8",
   "metadata": {
    "tags": []
   },
   "outputs": [
    {
     "data": {
      "text/plain": [
       "(0.9230769230769231, 0.6296296296296297)"
      ]
     },
     "execution_count": 16,
     "metadata": {},
     "output_type": "execute_result"
    }
   ],
   "source": [
    "np.mean(coverage_res_scp[y_test<20]), np.mean(coverage_res_scp[y_test>=60])"
   ]
  },
  {
   "cell_type": "code",
   "execution_count": null,
   "id": "ae4ebac6-2116-441c-90ac-599d35c4b7df",
   "metadata": {
    "tags": []
   },
   "outputs": [],
   "source": []
  },
  {
   "cell_type": "markdown",
   "id": "df59f212-f292-4765-babb-9708e6ad2177",
   "metadata": {},
   "source": [
    "## **Q**: Is there any flavor of Conformal Prediction that can address these limitations?\n",
    "\n",
    "## **A**: Yes!  Enter Conformal Quantile Regression (CQR)"
   ]
  },
  {
   "cell_type": "markdown",
   "id": "256bb410-205d-4963-aee0-b6803ef894d7",
   "metadata": {},
   "source": [
    "<br>\n",
    "<br>\n",
    "<br>\n",
    "<br>\n",
    "<br>\n",
    "<br>\n",
    "<br>\n",
    "<br>"
   ]
  },
  {
   "cell_type": "markdown",
   "id": "2f10c337-7a6c-4e27-99d9-793c54a9625b",
   "metadata": {},
   "source": [
    "## Background on Quantile Regression\n",
    "Quantile Regression is a problem where you want to predict the quantile of a distribution.\n",
    "\n",
    "For example, you want to predict the .1 (10\\%) quantile, that means that you want to be \"too high\" 10\\% of the time and \"too low\" 90\\% of the time.\n",
    "\n",
    "In machine learning, this would be done by using a loss function:\n",
    "\n",
    "$L(y_t, y_p) = \\max\\{.1(y_p - y_t) + .9(y_t-y_p)\\}$\n",
    "\n",
    "More generally, for $\\alpha$ quantile:\n",
    "\n",
    "$L(y_t, y_p) = \\max\\{\\alpha(y_p - y_t) + (1-\\alpha)(y_t-y_p)\\}$"
   ]
  },
  {
   "cell_type": "code",
   "execution_count": null,
   "id": "ae1ec621-e84b-4900-9838-980505ab70c4",
   "metadata": {},
   "outputs": [],
   "source": [
    "\n"
   ]
  },
  {
   "cell_type": "code",
   "execution_count": 17,
   "id": "a6541887-376d-42da-befe-4edaaf666ce7",
   "metadata": {},
   "outputs": [],
   "source": [
    "def qlf(y_true, y_pred, alpha):\n",
    "    return(np.max([alpha*(y_true-y_pred), (1-alpha)*(y_pred-y_true)]))"
   ]
  },
  {
   "cell_type": "code",
   "execution_count": 18,
   "id": "9cee6a64-3013-4576-89f3-27e8707aa24d",
   "metadata": {},
   "outputs": [
    {
     "data": {
      "image/png": "[encoded data removed]",
      "text/plain": [
       "<Figure size 432x288 with 1 Axes>"
      ]
     },
     "metadata": {
      "needs_background": "light"
     },
     "output_type": "display_data"
    }
   ],
   "source": [
    "xvals = np.linspace(0,7,71)\n",
    "plt.plot(xvals, [qlf(5,x,.1) for x in xvals])\n",
    "plt.grid()\n",
    "plt.title('Quantile Loss Fn for alpha =.1');"
   ]
  },
  {
   "cell_type": "markdown",
   "id": "573e8d1a-f72c-4365-81ba-73df1d79aee5",
   "metadata": {},
   "source": [
    "## Idea - it is 9 times worse to be bigger than the true value than to be smaller than the true value (for $\\alpha = .1$)"
   ]
  },
  {
   "cell_type": "markdown",
   "id": "a8f6d636-2e81-49ef-95b2-c1a6277aa597",
   "metadata": {},
   "source": [
    "<br>\n",
    "<br>\n",
    "<br>\n",
    "<br>\n",
    "<br>\n",
    "<br>\n",
    "<br>\n",
    "<br>"
   ]
  },
  {
   "cell_type": "markdown",
   "id": "24b0d05f-2320-4a2f-a268-6e556ba2a1af",
   "metadata": {},
   "source": [
    "## Conformalized Quantile Regression - How it works\n",
    " - ### 1) Choose your *coverage* value $c$, \n",
    "  ##### e.g. I want to cover the true value 80\\% of the time => $c=.8$\n",
    " - ### 2) Train two quantile regression models:\n",
    " ##### one for the left endpoint ($\\alpha_{l} = \\frac{1-c}{2}$) (=.1 in this example)\n",
    " ##### one for the right endpoint ($\\alpha_{r} = 1-\\frac{1-c}{2} = 1-\\alpha_{l}$). (=.9 in this example) \n",
    " - ### 3) Use this \"naive\" model to make interval predictions on the calibration set.  Calculate the residuals $Z_i$ on the calibration set as the *distance to the predicted interval*.  \n",
    " ##### E.g. if you predict the interval $(20,50)$ and the answer is 15, the residual is 5, if the answer is 70, the residual is 20, if the answer is 40, the distance is 0.\n",
    " - ### 4) If your desired coverage is, say, .8, and you have 99 points in your calibration set, choose the 80th biggest residual ($A_{80}$) and widen your interval by that amount.\n",
    " - ### 5) In other words, when the \"naive\" QR model predicts $(b_l, b_r)$, update the prediction interval to be $(b_l-A_{80}, b_r + A_{80}$)\n",
    " - ### 6) By the same arguments as before, the (unconditional) probability that a prediction interval contains the true value is $c$ (.8 in this example)\n",
    " \n",
    " "
   ]
  },
  {
   "cell_type": "markdown",
   "id": "3f7545af-607d-46ea-ba8f-7f15066455e4",
   "metadata": {},
   "source": [
    "<br>\n",
    "<br>\n",
    "<br>\n"
   ]
  },
  {
   "cell_type": "markdown",
   "id": "cb20bc0d-0620-4151-9eb7-7c008b23f4f9",
   "metadata": {},
   "source": [
    "## Q: Why is this so much better than \"regular\" Conformal Prediction\n",
    "\n",
    "## A: Here, the initial intervals are of various sizes, and can reflect the \"signal\" in the data.  \n",
    "#### If the data suggests a narrower range for the outcome, the \"naive\" interval will be narrower\n",
    "#### (and conversely, for when the data shows a wide range)\n",
    "### Only the *correction* to the interval is \"one size fits all\""
   ]
  },
  {
   "cell_type": "code",
   "execution_count": null,
   "id": "4d246882-c1e7-40db-97a3-e1058f1e90c9",
   "metadata": {},
   "outputs": [],
   "source": []
  },
  {
   "cell_type": "code",
   "execution_count": null,
   "id": "de433cd1-c7d1-4317-a838-9c15445d0075",
   "metadata": {},
   "outputs": [],
   "source": []
  },
  {
   "cell_type": "code",
   "execution_count": 19,
   "id": "99bc6bb5-afe9-4f60-82b5-c5d5f0c0be73",
   "metadata": {},
   "outputs": [],
   "source": [
    "\n",
    "\n",
    "# from sklearn.base import RegressorMixin, clone"
   ]
  },
  {
   "cell_type": "code",
   "execution_count": 20,
   "id": "51b3ef59-32cc-4af0-95ab-0256e1920bb6",
   "metadata": {},
   "outputs": [
    {
     "name": "stdout",
     "output_type": "stream",
     "text": [
      "Training until validation scores don't improve for 50 rounds\n",
      "Early stopping, best iteration is:\n",
      "[4565]\tvalid_0's quantile: 1.94689\n"
     ]
    },
    {
     "data": {
      "text/html": [
       "<style>#sk-container-id-2 {color: black;background-color: white;}#sk-container-id-2 pre{padding: 0;}#sk-container-id-2 div.sk-toggleable {background-color: white;}#sk-container-id-2 label.sk-toggleable__label {cursor: pointer;display: block;width: 100%;margin-bottom: 0;padding: 0.3em;box-sizing: border-box;text-align: center;}#sk-container-id-2 label.sk-toggleable__label-arrow:before {content: \"▸\";float: left;margin-right: 0.25em;color: #696969;}#sk-container-id-2 label.sk-toggleable__label-arrow:hover:before {color: black;}#sk-container-id-2 div.sk-estimator:hover label.sk-toggleable__label-arrow:before {color: black;}#sk-container-id-2 div.sk-toggleable__content {max-height: 0;max-width: 0;overflow: hidden;text-align: left;background-color: #f0f8ff;}#sk-container-id-2 div.sk-toggleable__content pre {margin: 0.2em;color: black;border-radius: 0.25em;background-color: #f0f8ff;}#sk-container-id-2 input.sk-toggleable__control:checked~div.sk-toggleable__content {max-height: 200px;max-width: 100%;overflow: auto;}#sk-container-id-2 input.sk-toggleable__control:checked~label.sk-toggleable__label-arrow:before {content: \"▾\";}#sk-container-id-2 div.sk-estimator input.sk-toggleable__control:checked~label.sk-toggleable__label {background-color: #d4ebff;}#sk-container-id-2 div.sk-label input.sk-toggleable__control:checked~label.sk-toggleable__label {background-color: #d4ebff;}#sk-container-id-2 input.sk-hidden--visually {border: 0;clip: rect(1px 1px 1px 1px);clip: rect(1px, 1px, 1px, 1px);height: 1px;margin: -1px;overflow: hidden;padding: 0;position: absolute;width: 1px;}#sk-container-id-2 div.sk-estimator {font-family: monospace;background-color: #f0f8ff;border: 1px dotted black;border-radius: 0.25em;box-sizing: border-box;margin-bottom: 0.5em;}#sk-container-id-2 div.sk-estimator:hover {background-color: #d4ebff;}#sk-container-id-2 div.sk-parallel-item::after {content: \"\";width: 100%;border-bottom: 1px solid gray;flex-grow: 1;}#sk-container-id-2 div.sk-label:hover label.sk-toggleable__label {background-color: #d4ebff;}#sk-container-id-2 div.sk-serial::before {content: \"\";position: absolute;border-left: 1px solid gray;box-sizing: border-box;top: 0;bottom: 0;left: 50%;z-index: 0;}#sk-container-id-2 div.sk-serial {display: flex;flex-direction: column;align-items: center;background-color: white;padding-right: 0.2em;padding-left: 0.2em;position: relative;}#sk-container-id-2 div.sk-item {position: relative;z-index: 1;}#sk-container-id-2 div.sk-parallel {display: flex;align-items: stretch;justify-content: center;background-color: white;position: relative;}#sk-container-id-2 div.sk-item::before, #sk-container-id-2 div.sk-parallel-item::before {content: \"\";position: absolute;border-left: 1px solid gray;box-sizing: border-box;top: 0;bottom: 0;left: 50%;z-index: -1;}#sk-container-id-2 div.sk-parallel-item {display: flex;flex-direction: column;z-index: 1;position: relative;background-color: white;}#sk-container-id-2 div.sk-parallel-item:first-child::after {align-self: flex-end;width: 50%;}#sk-container-id-2 div.sk-parallel-item:last-child::after {align-self: flex-start;width: 50%;}#sk-container-id-2 div.sk-parallel-item:only-child::after {width: 0;}#sk-container-id-2 div.sk-dashed-wrapped {border: 1px dashed gray;margin: 0 0.4em 0.5em 0.4em;box-sizing: border-box;padding-bottom: 0.4em;background-color: white;}#sk-container-id-2 div.sk-label label {font-family: monospace;font-weight: bold;display: inline-block;line-height: 1.2em;}#sk-container-id-2 div.sk-label-container {text-align: center;}#sk-container-id-2 div.sk-container {/* jupyter's `normalize.less` sets `[hidden] { display: none; }` but bootstrap.min.css set `[hidden] { display: none !important; }` so we also need the `!important` here to be able to override the default hidden behavior on the sphinx rendered scikit-learn.org. See: https://github.com/scikit-learn/scikit-learn/issues/21755 */display: inline-block !important;position: relative;}#sk-container-id-2 div.sk-text-repr-fallback {display: none;}</style><div id=\"sk-container-id-2\" class=\"sk-top-container\"><div class=\"sk-text-repr-fallback\"><pre>LGBMRegressor(alpha=0.5, learning_rate=0.02, max_depth=8, n_estimators=5000,\n",
       "              objective=&#x27;quantile&#x27;, random_state=42)</pre><b>In a Jupyter environment, please rerun this cell to show the HTML representation or trust the notebook. <br />On GitHub, the HTML representation is unable to render, please try loading this page with nbviewer.org.</b></div><div class=\"sk-container\" hidden><div class=\"sk-item\"><div class=\"sk-estimator sk-toggleable\"><input class=\"sk-toggleable__control sk-hidden--visually\" id=\"sk-estimator-id-2\" type=\"checkbox\" checked><label for=\"sk-estimator-id-2\" class=\"sk-toggleable__label sk-toggleable__label-arrow\">LGBMRegressor</label><div class=\"sk-toggleable__content\"><pre>LGBMRegressor(alpha=0.5, learning_rate=0.02, max_depth=8, n_estimators=5000,\n",
       "              objective=&#x27;quantile&#x27;, random_state=42)</pre></div></div></div></div></div>"
      ],
      "text/plain": [
       "LGBMRegressor(alpha=0.5, learning_rate=0.02, max_depth=8, n_estimators=5000,\n",
       "              objective='quantile', random_state=42)"
      ]
     },
     "execution_count": 20,
     "metadata": {},
     "output_type": "execute_result"
    }
   ],
   "source": [
    "estimator = lgbm.LGBMRegressor(\n",
    "    max_depth=8, n_estimators=5000, learning_rate=.02,\n",
    "    objective='quantile',\n",
    "    alpha=0.5,\n",
    "    random_state=random_state\n",
    ")\n",
    "estimator.fit(X_train, y_train, eval_set=[(X_calib, y_calib)],\n",
    "                          callbacks=[lgbm.early_stopping(stopping_rounds=50)])\n",
    "estimator"
   ]
  },
  {
   "cell_type": "code",
   "execution_count": 21,
   "id": "c561657d-9918-4596-ada1-3b07aa5f4499",
   "metadata": {},
   "outputs": [],
   "source": [
    "estimator_left = clone(estimator)\n",
    "estimator_right = clone(estimator)"
   ]
  },
  {
   "cell_type": "code",
   "execution_count": 22,
   "id": "e13be0e3-15bf-4c84-9af1-435e39b19113",
   "metadata": {},
   "outputs": [
    {
     "data": {
      "text/html": [
       "<style>#sk-container-id-3 {color: black;background-color: white;}#sk-container-id-3 pre{padding: 0;}#sk-container-id-3 div.sk-toggleable {background-color: white;}#sk-container-id-3 label.sk-toggleable__label {cursor: pointer;display: block;width: 100%;margin-bottom: 0;padding: 0.3em;box-sizing: border-box;text-align: center;}#sk-container-id-3 label.sk-toggleable__label-arrow:before {content: \"▸\";float: left;margin-right: 0.25em;color: #696969;}#sk-container-id-3 label.sk-toggleable__label-arrow:hover:before {color: black;}#sk-container-id-3 div.sk-estimator:hover label.sk-toggleable__label-arrow:before {color: black;}#sk-container-id-3 div.sk-toggleable__content {max-height: 0;max-width: 0;overflow: hidden;text-align: left;background-color: #f0f8ff;}#sk-container-id-3 div.sk-toggleable__content pre {margin: 0.2em;color: black;border-radius: 0.25em;background-color: #f0f8ff;}#sk-container-id-3 input.sk-toggleable__control:checked~div.sk-toggleable__content {max-height: 200px;max-width: 100%;overflow: auto;}#sk-container-id-3 input.sk-toggleable__control:checked~label.sk-toggleable__label-arrow:before {content: \"▾\";}#sk-container-id-3 div.sk-estimator input.sk-toggleable__control:checked~label.sk-toggleable__label {background-color: #d4ebff;}#sk-container-id-3 div.sk-label input.sk-toggleable__control:checked~label.sk-toggleable__label {background-color: #d4ebff;}#sk-container-id-3 input.sk-hidden--visually {border: 0;clip: rect(1px 1px 1px 1px);clip: rect(1px, 1px, 1px, 1px);height: 1px;margin: -1px;overflow: hidden;padding: 0;position: absolute;width: 1px;}#sk-container-id-3 div.sk-estimator {font-family: monospace;background-color: #f0f8ff;border: 1px dotted black;border-radius: 0.25em;box-sizing: border-box;margin-bottom: 0.5em;}#sk-container-id-3 div.sk-estimator:hover {background-color: #d4ebff;}#sk-container-id-3 div.sk-parallel-item::after {content: \"\";width: 100%;border-bottom: 1px solid gray;flex-grow: 1;}#sk-container-id-3 div.sk-label:hover label.sk-toggleable__label {background-color: #d4ebff;}#sk-container-id-3 div.sk-serial::before {content: \"\";position: absolute;border-left: 1px solid gray;box-sizing: border-box;top: 0;bottom: 0;left: 50%;z-index: 0;}#sk-container-id-3 div.sk-serial {display: flex;flex-direction: column;align-items: center;background-color: white;padding-right: 0.2em;padding-left: 0.2em;position: relative;}#sk-container-id-3 div.sk-item {position: relative;z-index: 1;}#sk-container-id-3 div.sk-parallel {display: flex;align-items: stretch;justify-content: center;background-color: white;position: relative;}#sk-container-id-3 div.sk-item::before, #sk-container-id-3 div.sk-parallel-item::before {content: \"\";position: absolute;border-left: 1px solid gray;box-sizing: border-box;top: 0;bottom: 0;left: 50%;z-index: -1;}#sk-container-id-3 div.sk-parallel-item {display: flex;flex-direction: column;z-index: 1;position: relative;background-color: white;}#sk-container-id-3 div.sk-parallel-item:first-child::after {align-self: flex-end;width: 50%;}#sk-container-id-3 div.sk-parallel-item:last-child::after {align-self: flex-start;width: 50%;}#sk-container-id-3 div.sk-parallel-item:only-child::after {width: 0;}#sk-container-id-3 div.sk-dashed-wrapped {border: 1px dashed gray;margin: 0 0.4em 0.5em 0.4em;box-sizing: border-box;padding-bottom: 0.4em;background-color: white;}#sk-container-id-3 div.sk-label label {font-family: monospace;font-weight: bold;display: inline-block;line-height: 1.2em;}#sk-container-id-3 div.sk-label-container {text-align: center;}#sk-container-id-3 div.sk-container {/* jupyter's `normalize.less` sets `[hidden] { display: none; }` but bootstrap.min.css set `[hidden] { display: none !important; }` so we also need the `!important` here to be able to override the default hidden behavior on the sphinx rendered scikit-learn.org. See: https://github.com/scikit-learn/scikit-learn/issues/21755 */display: inline-block !important;position: relative;}#sk-container-id-3 div.sk-text-repr-fallback {display: none;}</style><div id=\"sk-container-id-3\" class=\"sk-top-container\"><div class=\"sk-text-repr-fallback\"><pre>LGBMRegressor(alpha=0.1, learning_rate=0.02, max_depth=8, n_estimators=5000,\n",
       "              objective=&#x27;quantile&#x27;, random_state=42)</pre><b>In a Jupyter environment, please rerun this cell to show the HTML representation or trust the notebook. <br />On GitHub, the HTML representation is unable to render, please try loading this page with nbviewer.org.</b></div><div class=\"sk-container\" hidden><div class=\"sk-item\"><div class=\"sk-estimator sk-toggleable\"><input class=\"sk-toggleable__control sk-hidden--visually\" id=\"sk-estimator-id-3\" type=\"checkbox\" checked><label for=\"sk-estimator-id-3\" class=\"sk-toggleable__label sk-toggleable__label-arrow\">LGBMRegressor</label><div class=\"sk-toggleable__content\"><pre>LGBMRegressor(alpha=0.1, learning_rate=0.02, max_depth=8, n_estimators=5000,\n",
       "              objective=&#x27;quantile&#x27;, random_state=42)</pre></div></div></div></div></div>"
      ],
      "text/plain": [
       "LGBMRegressor(alpha=0.1, learning_rate=0.02, max_depth=8, n_estimators=5000,\n",
       "              objective='quantile', random_state=42)"
      ]
     },
     "execution_count": 22,
     "metadata": {},
     "output_type": "execute_result"
    }
   ],
   "source": [
    "estimator_left.set_params(**{'alpha':.1})"
   ]
  },
  {
   "cell_type": "code",
   "execution_count": 23,
   "id": "142d0399-329d-442f-a4a7-8898f01f6f43",
   "metadata": {},
   "outputs": [
    {
     "data": {
      "text/html": [
       "<style>#sk-container-id-4 {color: black;background-color: white;}#sk-container-id-4 pre{padding: 0;}#sk-container-id-4 div.sk-toggleable {background-color: white;}#sk-container-id-4 label.sk-toggleable__label {cursor: pointer;display: block;width: 100%;margin-bottom: 0;padding: 0.3em;box-sizing: border-box;text-align: center;}#sk-container-id-4 label.sk-toggleable__label-arrow:before {content: \"▸\";float: left;margin-right: 0.25em;color: #696969;}#sk-container-id-4 label.sk-toggleable__label-arrow:hover:before {color: black;}#sk-container-id-4 div.sk-estimator:hover label.sk-toggleable__label-arrow:before {color: black;}#sk-container-id-4 div.sk-toggleable__content {max-height: 0;max-width: 0;overflow: hidden;text-align: left;background-color: #f0f8ff;}#sk-container-id-4 div.sk-toggleable__content pre {margin: 0.2em;color: black;border-radius: 0.25em;background-color: #f0f8ff;}#sk-container-id-4 input.sk-toggleable__control:checked~div.sk-toggleable__content {max-height: 200px;max-width: 100%;overflow: auto;}#sk-container-id-4 input.sk-toggleable__control:checked~label.sk-toggleable__label-arrow:before {content: \"▾\";}#sk-container-id-4 div.sk-estimator input.sk-toggleable__control:checked~label.sk-toggleable__label {background-color: #d4ebff;}#sk-container-id-4 div.sk-label input.sk-toggleable__control:checked~label.sk-toggleable__label {background-color: #d4ebff;}#sk-container-id-4 input.sk-hidden--visually {border: 0;clip: rect(1px 1px 1px 1px);clip: rect(1px, 1px, 1px, 1px);height: 1px;margin: -1px;overflow: hidden;padding: 0;position: absolute;width: 1px;}#sk-container-id-4 div.sk-estimator {font-family: monospace;background-color: #f0f8ff;border: 1px dotted black;border-radius: 0.25em;box-sizing: border-box;margin-bottom: 0.5em;}#sk-container-id-4 div.sk-estimator:hover {background-color: #d4ebff;}#sk-container-id-4 div.sk-parallel-item::after {content: \"\";width: 100%;border-bottom: 1px solid gray;flex-grow: 1;}#sk-container-id-4 div.sk-label:hover label.sk-toggleable__label {background-color: #d4ebff;}#sk-container-id-4 div.sk-serial::before {content: \"\";position: absolute;border-left: 1px solid gray;box-sizing: border-box;top: 0;bottom: 0;left: 50%;z-index: 0;}#sk-container-id-4 div.sk-serial {display: flex;flex-direction: column;align-items: center;background-color: white;padding-right: 0.2em;padding-left: 0.2em;position: relative;}#sk-container-id-4 div.sk-item {position: relative;z-index: 1;}#sk-container-id-4 div.sk-parallel {display: flex;align-items: stretch;justify-content: center;background-color: white;position: relative;}#sk-container-id-4 div.sk-item::before, #sk-container-id-4 div.sk-parallel-item::before {content: \"\";position: absolute;border-left: 1px solid gray;box-sizing: border-box;top: 0;bottom: 0;left: 50%;z-index: -1;}#sk-container-id-4 div.sk-parallel-item {display: flex;flex-direction: column;z-index: 1;position: relative;background-color: white;}#sk-container-id-4 div.sk-parallel-item:first-child::after {align-self: flex-end;width: 50%;}#sk-container-id-4 div.sk-parallel-item:last-child::after {align-self: flex-start;width: 50%;}#sk-container-id-4 div.sk-parallel-item:only-child::after {width: 0;}#sk-container-id-4 div.sk-dashed-wrapped {border: 1px dashed gray;margin: 0 0.4em 0.5em 0.4em;box-sizing: border-box;padding-bottom: 0.4em;background-color: white;}#sk-container-id-4 div.sk-label label {font-family: monospace;font-weight: bold;display: inline-block;line-height: 1.2em;}#sk-container-id-4 div.sk-label-container {text-align: center;}#sk-container-id-4 div.sk-container {/* jupyter's `normalize.less` sets `[hidden] { display: none; }` but bootstrap.min.css set `[hidden] { display: none !important; }` so we also need the `!important` here to be able to override the default hidden behavior on the sphinx rendered scikit-learn.org. See: https://github.com/scikit-learn/scikit-learn/issues/21755 */display: inline-block !important;position: relative;}#sk-container-id-4 div.sk-text-repr-fallback {display: none;}</style><div id=\"sk-container-id-4\" class=\"sk-top-container\"><div class=\"sk-text-repr-fallback\"><pre>LGBMRegressor(alpha=0.9, learning_rate=0.02, max_depth=8, n_estimators=5000,\n",
       "              objective=&#x27;quantile&#x27;, random_state=42)</pre><b>In a Jupyter environment, please rerun this cell to show the HTML representation or trust the notebook. <br />On GitHub, the HTML representation is unable to render, please try loading this page with nbviewer.org.</b></div><div class=\"sk-container\" hidden><div class=\"sk-item\"><div class=\"sk-estimator sk-toggleable\"><input class=\"sk-toggleable__control sk-hidden--visually\" id=\"sk-estimator-id-4\" type=\"checkbox\" checked><label for=\"sk-estimator-id-4\" class=\"sk-toggleable__label sk-toggleable__label-arrow\">LGBMRegressor</label><div class=\"sk-toggleable__content\"><pre>LGBMRegressor(alpha=0.9, learning_rate=0.02, max_depth=8, n_estimators=5000,\n",
       "              objective=&#x27;quantile&#x27;, random_state=42)</pre></div></div></div></div></div>"
      ],
      "text/plain": [
       "LGBMRegressor(alpha=0.9, learning_rate=0.02, max_depth=8, n_estimators=5000,\n",
       "              objective='quantile', random_state=42)"
      ]
     },
     "execution_count": 23,
     "metadata": {},
     "output_type": "execute_result"
    }
   ],
   "source": [
    "estimator_right.set_params(**{'alpha':.9})"
   ]
  },
  {
   "cell_type": "code",
   "execution_count": 24,
   "id": "676940ab-6601-4d8f-9466-5fbcc8296d4d",
   "metadata": {},
   "outputs": [
    {
     "name": "stdout",
     "output_type": "stream",
     "text": [
      "Training until validation scores don't improve for 50 rounds\n",
      "Early stopping, best iteration is:\n",
      "[1014]\tvalid_0's quantile: 0.987453\n",
      "Training until validation scores don't improve for 50 rounds\n",
      "Early stopping, best iteration is:\n",
      "[398]\tvalid_0's quantile: 1.26329\n"
     ]
    },
    {
     "data": {
      "text/html": [
       "<style>#sk-container-id-5 {color: black;background-color: white;}#sk-container-id-5 pre{padding: 0;}#sk-container-id-5 div.sk-toggleable {background-color: white;}#sk-container-id-5 label.sk-toggleable__label {cursor: pointer;display: block;width: 100%;margin-bottom: 0;padding: 0.3em;box-sizing: border-box;text-align: center;}#sk-container-id-5 label.sk-toggleable__label-arrow:before {content: \"▸\";float: left;margin-right: 0.25em;color: #696969;}#sk-container-id-5 label.sk-toggleable__label-arrow:hover:before {color: black;}#sk-container-id-5 div.sk-estimator:hover label.sk-toggleable__label-arrow:before {color: black;}#sk-container-id-5 div.sk-toggleable__content {max-height: 0;max-width: 0;overflow: hidden;text-align: left;background-color: #f0f8ff;}#sk-container-id-5 div.sk-toggleable__content pre {margin: 0.2em;color: black;border-radius: 0.25em;background-color: #f0f8ff;}#sk-container-id-5 input.sk-toggleable__control:checked~div.sk-toggleable__content {max-height: 200px;max-width: 100%;overflow: auto;}#sk-container-id-5 input.sk-toggleable__control:checked~label.sk-toggleable__label-arrow:before {content: \"▾\";}#sk-container-id-5 div.sk-estimator input.sk-toggleable__control:checked~label.sk-toggleable__label {background-color: #d4ebff;}#sk-container-id-5 div.sk-label input.sk-toggleable__control:checked~label.sk-toggleable__label {background-color: #d4ebff;}#sk-container-id-5 input.sk-hidden--visually {border: 0;clip: rect(1px 1px 1px 1px);clip: rect(1px, 1px, 1px, 1px);height: 1px;margin: -1px;overflow: hidden;padding: 0;position: absolute;width: 1px;}#sk-container-id-5 div.sk-estimator {font-family: monospace;background-color: #f0f8ff;border: 1px dotted black;border-radius: 0.25em;box-sizing: border-box;margin-bottom: 0.5em;}#sk-container-id-5 div.sk-estimator:hover {background-color: #d4ebff;}#sk-container-id-5 div.sk-parallel-item::after {content: \"\";width: 100%;border-bottom: 1px solid gray;flex-grow: 1;}#sk-container-id-5 div.sk-label:hover label.sk-toggleable__label {background-color: #d4ebff;}#sk-container-id-5 div.sk-serial::before {content: \"\";position: absolute;border-left: 1px solid gray;box-sizing: border-box;top: 0;bottom: 0;left: 50%;z-index: 0;}#sk-container-id-5 div.sk-serial {display: flex;flex-direction: column;align-items: center;background-color: white;padding-right: 0.2em;padding-left: 0.2em;position: relative;}#sk-container-id-5 div.sk-item {position: relative;z-index: 1;}#sk-container-id-5 div.sk-parallel {display: flex;align-items: stretch;justify-content: center;background-color: white;position: relative;}#sk-container-id-5 div.sk-item::before, #sk-container-id-5 div.sk-parallel-item::before {content: \"\";position: absolute;border-left: 1px solid gray;box-sizing: border-box;top: 0;bottom: 0;left: 50%;z-index: -1;}#sk-container-id-5 div.sk-parallel-item {display: flex;flex-direction: column;z-index: 1;position: relative;background-color: white;}#sk-container-id-5 div.sk-parallel-item:first-child::after {align-self: flex-end;width: 50%;}#sk-container-id-5 div.sk-parallel-item:last-child::after {align-self: flex-start;width: 50%;}#sk-container-id-5 div.sk-parallel-item:only-child::after {width: 0;}#sk-container-id-5 div.sk-dashed-wrapped {border: 1px dashed gray;margin: 0 0.4em 0.5em 0.4em;box-sizing: border-box;padding-bottom: 0.4em;background-color: white;}#sk-container-id-5 div.sk-label label {font-family: monospace;font-weight: bold;display: inline-block;line-height: 1.2em;}#sk-container-id-5 div.sk-label-container {text-align: center;}#sk-container-id-5 div.sk-container {/* jupyter's `normalize.less` sets `[hidden] { display: none; }` but bootstrap.min.css set `[hidden] { display: none !important; }` so we also need the `!important` here to be able to override the default hidden behavior on the sphinx rendered scikit-learn.org. See: https://github.com/scikit-learn/scikit-learn/issues/21755 */display: inline-block !important;position: relative;}#sk-container-id-5 div.sk-text-repr-fallback {display: none;}</style><div id=\"sk-container-id-5\" class=\"sk-top-container\"><div class=\"sk-text-repr-fallback\"><pre>LGBMRegressor(alpha=0.9, learning_rate=0.02, max_depth=8, n_estimators=5000,\n",
       "              objective=&#x27;quantile&#x27;, random_state=42)</pre><b>In a Jupyter environment, please rerun this cell to show the HTML representation or trust the notebook. <br />On GitHub, the HTML representation is unable to render, please try loading this page with nbviewer.org.</b></div><div class=\"sk-container\" hidden><div class=\"sk-item\"><div class=\"sk-estimator sk-toggleable\"><input class=\"sk-toggleable__control sk-hidden--visually\" id=\"sk-estimator-id-5\" type=\"checkbox\" checked><label for=\"sk-estimator-id-5\" class=\"sk-toggleable__label sk-toggleable__label-arrow\">LGBMRegressor</label><div class=\"sk-toggleable__content\"><pre>LGBMRegressor(alpha=0.9, learning_rate=0.02, max_depth=8, n_estimators=5000,\n",
       "              objective=&#x27;quantile&#x27;, random_state=42)</pre></div></div></div></div></div>"
      ],
      "text/plain": [
       "LGBMRegressor(alpha=0.9, learning_rate=0.02, max_depth=8, n_estimators=5000,\n",
       "              objective='quantile', random_state=42)"
      ]
     },
     "execution_count": 24,
     "metadata": {},
     "output_type": "execute_result"
    }
   ],
   "source": [
    "estimator_left.fit(X_train, y_train, eval_set=[(X_calib, y_calib)],\n",
    "                          callbacks=[lgbm.early_stopping(stopping_rounds=50)])\n",
    "estimator_right.fit(X_train, y_train, eval_set=[(X_calib, y_calib)],\n",
    "                          callbacks=[lgbm.early_stopping(stopping_rounds=50)])\n"
   ]
  },
  {
   "cell_type": "code",
   "execution_count": 25,
   "id": "0f4b30c3-fe2a-4dca-a5e1-fc24cf374224",
   "metadata": {},
   "outputs": [],
   "source": [
    "left_ep_test = estimator_left.predict(X_test)\n",
    "right_ep_test = estimator_right.predict(X_test)"
   ]
  },
  {
   "cell_type": "code",
   "execution_count": 26,
   "id": "a1884bc4-9107-4876-90a0-9557a55d8066",
   "metadata": {
    "tags": []
   },
   "outputs": [
    {
     "data": {
      "text/plain": [
       "(array([[39.24785358, 53.68110439],\n",
       "        [36.39710509, 50.00755054],\n",
       "        [34.51932355, 44.12268496],\n",
       "        [27.66575664, 30.8599686 ]]),\n",
       " array([40.26953526, 47.02984744, 45.85429086, 28.02168359]))"
      ]
     },
     "execution_count": 26,
     "metadata": {},
     "output_type": "execute_result"
    }
   ],
   "source": [
    "pis_test_naive = np.vstack((left_ep_test,right_ep_test)).T\n",
    "pis_test_naive[:4,:], y_test[:4]"
   ]
  },
  {
   "cell_type": "code",
   "execution_count": 27,
   "id": "86de9e30-e6e9-4e26-b899-88df54f35ce5",
   "metadata": {},
   "outputs": [
    {
     "data": {
      "text/plain": [
       "(0.5714285714285714, 10.512090620566225)"
      ]
     },
     "execution_count": 27,
     "metadata": {},
     "output_type": "execute_result"
    }
   ],
   "source": [
    "coverage_res_naive = (y_test >= pis_test_naive[:,0]) & (y_test<=pis_test_naive[:,1])\n",
    "np.mean(coverage_res_naive), np.mean(pis_test_naive[:,1]-pis_test_naive[:,0])"
   ]
  },
  {
   "cell_type": "markdown",
   "id": "ac733af0-30c1-4b90-96b7-c95f89633390",
   "metadata": {},
   "source": [
    "As you can see, these prediction intervals do not give the promised coverage.  We will now use the calibration set to \"correct\" these intervals"
   ]
  },
  {
   "cell_type": "code",
   "execution_count": 28,
   "id": "5aad8d42-1904-4cd5-9cbc-037e29d4300f",
   "metadata": {},
   "outputs": [],
   "source": [
    "def interval_residuals(intervals, values):\n",
    "    left_resid = np.maximum(intervals[:,0]-values,0)\n",
    "    right_resid = np.maximum(values-intervals[:,1],0)\n",
    "    return(left_resid+right_resid)"
   ]
  },
  {
   "cell_type": "code",
   "execution_count": 29,
   "id": "851f0691-6ae8-4d42-95d2-f1c51e75f8a0",
   "metadata": {},
   "outputs": [],
   "source": [
    "left_ep_calib = estimator_left.predict(X_calib)\n",
    "right_ep_calib = estimator_right.predict(X_calib)"
   ]
  },
  {
   "cell_type": "code",
   "execution_count": 30,
   "id": "13067453-4517-42fa-ae52-dd27582cba85",
   "metadata": {
    "tags": []
   },
   "outputs": [
    {
     "data": {
      "text/plain": [
       "(array([[57.41632908, 66.01770215],\n",
       "        [40.52255302, 41.71486098],\n",
       "        [38.99067064, 48.97467161],\n",
       "        [33.07778512, 45.30986777]]),\n",
       " array([79.98611076, 44.2960751 , 36.44776979, 47.81378165]))"
      ]
     },
     "execution_count": 30,
     "metadata": {},
     "output_type": "execute_result"
    }
   ],
   "source": [
    "pis_calib_naive = np.vstack((left_ep_calib,right_ep_calib)).T\n",
    "pis_calib_naive[:4,:], y_calib[:4]"
   ]
  },
  {
   "cell_type": "code",
   "execution_count": 31,
   "id": "f2981389-5927-4975-bc9d-d18c502689b1",
   "metadata": {
    "tags": []
   },
   "outputs": [],
   "source": [
    "ir_calib = interval_residuals(pis_calib_naive, y_calib)\n",
    "ir_sorted = np.sort(ir_calib)\n",
    "num_pts_calib = len(y_calib)\n",
    "q_val = .8\n"
   ]
  },
  {
   "cell_type": "code",
   "execution_count": null,
   "id": "ad0560ff-c10d-43b7-b8b8-e39e1979733b",
   "metadata": {
    "tags": []
   },
   "outputs": [],
   "source": []
  },
  {
   "cell_type": "code",
   "execution_count": 32,
   "id": "45ec7208-883a-4d7e-bce1-574e11191193",
   "metadata": {
    "tags": []
   },
   "outputs": [
    {
     "data": {
      "text/plain": [
       "2.0089824240783063"
      ]
     },
     "execution_count": 32,
     "metadata": {},
     "output_type": "execute_result"
    }
   ],
   "source": [
    "index_to_use = int(np.ceil(q_val * (num_pts_calib +1))-1)\n",
    "conformal_adj = ir_sorted[index_to_use]\n",
    "conformal_adj"
   ]
  },
  {
   "cell_type": "code",
   "execution_count": 33,
   "id": "786a8ead-8a43-437c-b5c2-ec41517a3a1c",
   "metadata": {
    "tags": []
   },
   "outputs": [],
   "source": [
    "pis_test_conformed = np.vstack((pis_test_naive[:,0]-conformal_adj, \n",
    "                                  pis_test_naive[:,1]+conformal_adj)).T"
   ]
  },
  {
   "cell_type": "code",
   "execution_count": 34,
   "id": "d31c4606-31b8-41ae-8a1c-19d3d51937e7",
   "metadata": {
    "tags": []
   },
   "outputs": [
    {
     "data": {
      "text/plain": [
       "array([[39.24785358, 53.68110439],\n",
       "       [36.39710509, 50.00755054],\n",
       "       [34.51932355, 44.12268496],\n",
       "       [27.66575664, 30.8599686 ]])"
      ]
     },
     "execution_count": 34,
     "metadata": {},
     "output_type": "execute_result"
    }
   ],
   "source": [
    "pis_test_naive[:4,:]"
   ]
  },
  {
   "cell_type": "code",
   "execution_count": 35,
   "id": "dbe25b4d-af3f-443f-91b5-8b1ff50dc839",
   "metadata": {
    "tags": []
   },
   "outputs": [
    {
     "data": {
      "text/plain": [
       "array([[37.23887115, 55.69008681],\n",
       "       [34.38812266, 52.01653296],\n",
       "       [32.51034112, 46.13166739],\n",
       "       [25.65677422, 32.86895102]])"
      ]
     },
     "execution_count": 35,
     "metadata": {},
     "output_type": "execute_result"
    }
   ],
   "source": [
    "pis_test_conformed[:4,:]"
   ]
  },
  {
   "cell_type": "code",
   "execution_count": 36,
   "id": "eea41b9a-6f92-4273-8ae9-4c03459c5dd8",
   "metadata": {},
   "outputs": [
    {
     "data": {
      "text/plain": [
       "(0.8116883116883117, 14.530055468722834)"
      ]
     },
     "execution_count": 36,
     "metadata": {},
     "output_type": "execute_result"
    }
   ],
   "source": [
    "\n",
    "coverage_res_cqr = (y_test >= pis_test_conformed[:,0]) & (y_test<=pis_test_conformed[:,1])\n",
    "interval_widths_cqr = pis_test_conformed[:,1]-pis_test_conformed[:,0]\n",
    "np.mean(coverage_res_cqr), np.mean(interval_widths_cqr)"
   ]
  },
  {
   "cell_type": "code",
   "execution_count": 37,
   "id": "e702fb84-6051-4357-aba5-46b1b601e736",
   "metadata": {
    "tags": []
   },
   "outputs": [
    {
     "data": {
      "text/plain": [
       "(0.7692307692307693, 0.5185185185185185)"
      ]
     },
     "execution_count": 37,
     "metadata": {},
     "output_type": "execute_result"
    }
   ],
   "source": [
    "np.mean(coverage_res_cqr[y_test<20]), np.mean(coverage_res_cqr[y_test>=60])"
   ]
  },
  {
   "cell_type": "code",
   "execution_count": 38,
   "id": "73f2d2e6-1821-476b-b8d8-5813002ed423",
   "metadata": {
    "tags": []
   },
   "outputs": [
    {
     "data": {
      "image/png": "[encoded data removed]",
      "text/plain": [
       "<Figure size 432x288 with 1 Axes>"
      ]
     },
     "metadata": {
      "needs_background": "light"
     },
     "output_type": "display_data"
    }
   ],
   "source": [
    "plt.hist(interval_widths_cqr, bins=np.linspace(0,35,36));"
   ]
  },
  {
   "cell_type": "code",
   "execution_count": 39,
   "id": "4661336b-509a-49f5-9752-6fe30ac08c12",
   "metadata": {
    "tags": []
   },
   "outputs": [
    {
     "data": {
      "image/png": "[encoded data removed]",
      "text/plain": [
       "<Figure size 432x288 with 1 Axes>"
      ]
     },
     "metadata": {
      "needs_background": "light"
     },
     "output_type": "display_data"
    }
   ],
   "source": [
    "plt.scatter(y_test, interval_widths_cqr, marker='.');"
   ]
  },
  {
   "cell_type": "code",
   "execution_count": null,
   "id": "b077a9a3-bf4a-431e-954c-f86f9f766222",
   "metadata": {},
   "outputs": [],
   "source": []
  },
  {
   "cell_type": "markdown",
   "id": "1b5e8bac-a40b-4264-8a35-7be5dbafaf2f",
   "metadata": {},
   "source": [
    "## MAPIE package\n",
    "The MAPIE package provides some tooling to make this a bit more seamless.  However, its standard usage requires you to use the same parameters (including `n_estimators`) for both quantile regressions.  (There is supposed to be a way to pass in the estimators directly, but I had trouble making it work).  They also force you to provide a point prediction method (which is unnecessary for CQR).  I suspect the package will improve as they get more feedback.\n",
    "\n",
    "Conformal prediction (as we have seen) is pretty easy to implement, so you can probably do it yourself.  We demonstrate MAPIE for CQR here as a reference"
   ]
  },
  {
   "cell_type": "code",
   "execution_count": 40,
   "id": "936c7e75-f4a0-4120-a724-29d40adb45ef",
   "metadata": {
    "tags": []
   },
   "outputs": [],
   "source": [
    "# from sklearn.model_selection import RandomizedSearchCV, train_test_split, KFold\n",
    "# from sklearn.datasets import fetch_california_housing\n",
    "# from scipy.stats import randint, uniform\n",
    "\n",
    "from mapie.metrics import (\n",
    "    regression_coverage_score,\n",
    "    regression_mean_width_score\n",
    "    )\n",
    "from mapie.regression import MapieRegressor\n",
    "from mapie.subsample import Subsample\n",
    "from mapie.quantile_regression import MapieQuantileRegressor\n"
   ]
  },
  {
   "cell_type": "code",
   "execution_count": 41,
   "id": "28717647-7d8b-4b96-acb6-cf4d501faa1e",
   "metadata": {},
   "outputs": [
    {
     "name": "stdout",
     "output_type": "stream",
     "text": [
      "Training until validation scores don't improve for 50 rounds\n",
      "Early stopping, best iteration is:\n",
      "[1720]\tvalid_0's quantile: 1.96701\n"
     ]
    },
    {
     "data": {
      "text/html": [
       "<style>#sk-container-id-6 {color: black;background-color: white;}#sk-container-id-6 pre{padding: 0;}#sk-container-id-6 div.sk-toggleable {background-color: white;}#sk-container-id-6 label.sk-toggleable__label {cursor: pointer;display: block;width: 100%;margin-bottom: 0;padding: 0.3em;box-sizing: border-box;text-align: center;}#sk-container-id-6 label.sk-toggleable__label-arrow:before {content: \"▸\";float: left;margin-right: 0.25em;color: #696969;}#sk-container-id-6 label.sk-toggleable__label-arrow:hover:before {color: black;}#sk-container-id-6 div.sk-estimator:hover label.sk-toggleable__label-arrow:before {color: black;}#sk-container-id-6 div.sk-toggleable__content {max-height: 0;max-width: 0;overflow: hidden;text-align: left;background-color: #f0f8ff;}#sk-container-id-6 div.sk-toggleable__content pre {margin: 0.2em;color: black;border-radius: 0.25em;background-color: #f0f8ff;}#sk-container-id-6 input.sk-toggleable__control:checked~div.sk-toggleable__content {max-height: 200px;max-width: 100%;overflow: auto;}#sk-container-id-6 input.sk-toggleable__control:checked~label.sk-toggleable__label-arrow:before {content: \"▾\";}#sk-container-id-6 div.sk-estimator input.sk-toggleable__control:checked~label.sk-toggleable__label {background-color: #d4ebff;}#sk-container-id-6 div.sk-label input.sk-toggleable__control:checked~label.sk-toggleable__label {background-color: #d4ebff;}#sk-container-id-6 input.sk-hidden--visually {border: 0;clip: rect(1px 1px 1px 1px);clip: rect(1px, 1px, 1px, 1px);height: 1px;margin: -1px;overflow: hidden;padding: 0;position: absolute;width: 1px;}#sk-container-id-6 div.sk-estimator {font-family: monospace;background-color: #f0f8ff;border: 1px dotted black;border-radius: 0.25em;box-sizing: border-box;margin-bottom: 0.5em;}#sk-container-id-6 div.sk-estimator:hover {background-color: #d4ebff;}#sk-container-id-6 div.sk-parallel-item::after {content: \"\";width: 100%;border-bottom: 1px solid gray;flex-grow: 1;}#sk-container-id-6 div.sk-label:hover label.sk-toggleable__label {background-color: #d4ebff;}#sk-container-id-6 div.sk-serial::before {content: \"\";position: absolute;border-left: 1px solid gray;box-sizing: border-box;top: 0;bottom: 0;left: 50%;z-index: 0;}#sk-container-id-6 div.sk-serial {display: flex;flex-direction: column;align-items: center;background-color: white;padding-right: 0.2em;padding-left: 0.2em;position: relative;}#sk-container-id-6 div.sk-item {position: relative;z-index: 1;}#sk-container-id-6 div.sk-parallel {display: flex;align-items: stretch;justify-content: center;background-color: white;position: relative;}#sk-container-id-6 div.sk-item::before, #sk-container-id-6 div.sk-parallel-item::before {content: \"\";position: absolute;border-left: 1px solid gray;box-sizing: border-box;top: 0;bottom: 0;left: 50%;z-index: -1;}#sk-container-id-6 div.sk-parallel-item {display: flex;flex-direction: column;z-index: 1;position: relative;background-color: white;}#sk-container-id-6 div.sk-parallel-item:first-child::after {align-self: flex-end;width: 50%;}#sk-container-id-6 div.sk-parallel-item:last-child::after {align-self: flex-start;width: 50%;}#sk-container-id-6 div.sk-parallel-item:only-child::after {width: 0;}#sk-container-id-6 div.sk-dashed-wrapped {border: 1px dashed gray;margin: 0 0.4em 0.5em 0.4em;box-sizing: border-box;padding-bottom: 0.4em;background-color: white;}#sk-container-id-6 div.sk-label label {font-family: monospace;font-weight: bold;display: inline-block;line-height: 1.2em;}#sk-container-id-6 div.sk-label-container {text-align: center;}#sk-container-id-6 div.sk-container {/* jupyter's `normalize.less` sets `[hidden] { display: none; }` but bootstrap.min.css set `[hidden] { display: none !important; }` so we also need the `!important` here to be able to override the default hidden behavior on the sphinx rendered scikit-learn.org. See: https://github.com/scikit-learn/scikit-learn/issues/21755 */display: inline-block !important;position: relative;}#sk-container-id-6 div.sk-text-repr-fallback {display: none;}</style><div id=\"sk-container-id-6\" class=\"sk-top-container\"><div class=\"sk-text-repr-fallback\"><pre>LGBMRegressor(alpha=0.5, learning_rate=0.02, max_depth=6, n_estimators=5000,\n",
       "              objective=&#x27;quantile&#x27;, random_state=42)</pre><b>In a Jupyter environment, please rerun this cell to show the HTML representation or trust the notebook. <br />On GitHub, the HTML representation is unable to render, please try loading this page with nbviewer.org.</b></div><div class=\"sk-container\" hidden><div class=\"sk-item\"><div class=\"sk-estimator sk-toggleable\"><input class=\"sk-toggleable__control sk-hidden--visually\" id=\"sk-estimator-id-6\" type=\"checkbox\" checked><label for=\"sk-estimator-id-6\" class=\"sk-toggleable__label sk-toggleable__label-arrow\">LGBMRegressor</label><div class=\"sk-toggleable__content\"><pre>LGBMRegressor(alpha=0.5, learning_rate=0.02, max_depth=6, n_estimators=5000,\n",
       "              objective=&#x27;quantile&#x27;, random_state=42)</pre></div></div></div></div></div>"
      ],
      "text/plain": [
       "LGBMRegressor(alpha=0.5, learning_rate=0.02, max_depth=6, n_estimators=5000,\n",
       "              objective='quantile', random_state=42)"
      ]
     },
     "execution_count": 41,
     "metadata": {},
     "output_type": "execute_result"
    }
   ],
   "source": [
    "base_estimator = lgbm.LGBMRegressor(\n",
    "    max_depth=6, n_estimators=5000, learning_rate=.02,\n",
    "    objective='quantile',\n",
    "    alpha=0.5,\n",
    "    random_state=random_state\n",
    ")\n",
    "base_estimator.fit(X_train, y_train, eval_set=[(X_calib, y_calib)],\n",
    "                          callbacks=[lgbm.early_stopping(stopping_rounds=50)])\n",
    "base_estimator"
   ]
  },
  {
   "cell_type": "code",
   "execution_count": 42,
   "id": "f179945f-b9e3-482d-bf69-610d44055b44",
   "metadata": {},
   "outputs": [],
   "source": [
    "# alpha = 1-coverage\n",
    "mapie_cqr = MapieQuantileRegressor(estimator=estimator,\n",
    "                                   method='quantile', alpha=.2)"
   ]
  },
  {
   "cell_type": "code",
   "execution_count": 43,
   "id": "e39935f5-3e88-4aaf-90ca-9d82f94a2720",
   "metadata": {},
   "outputs": [
    {
     "name": "stderr",
     "output_type": "stream",
     "text": [
      "/Users/brianlucena/.pyenv/versions/3.9.13/envs/ds3913/lib/python3.9/site-packages/mapie/utils.py:484: UserWarning: WARNING: The predictions of the quantile regression have issues.\n",
      "The upper quantile predictions are lower\n",
      "than the lower quantile predictions\n",
      "at some points.\n",
      "  warnings.warn(\n",
      "/Users/brianlucena/.pyenv/versions/3.9.13/envs/ds3913/lib/python3.9/site-packages/mapie/utils.py:502: UserWarning: WARNING: The predictions have issues.\n",
      "The upper predictions are lower thanthe lower predictions at some points.\n",
      "  warnings.warn(\n"
     ]
    }
   ],
   "source": [
    "mapie_cqr.fit(X_train, y_train, X_calib=X_calib, y_calib=y_calib)\n",
    "y_preds_mapie, y_pis_mapie = mapie_cqr.predict(X_test)"
   ]
  },
  {
   "cell_type": "code",
   "execution_count": 44,
   "id": "12f0b8b5-ce30-48a4-accd-a606853e9034",
   "metadata": {},
   "outputs": [
    {
     "data": {
      "text/plain": [
       "array([40.49323535, 46.87532782, 41.57919496, 29.80713371])"
      ]
     },
     "execution_count": 44,
     "metadata": {},
     "output_type": "execute_result"
    }
   ],
   "source": [
    "y_preds_mapie[:4]"
   ]
  },
  {
   "cell_type": "code",
   "execution_count": 45,
   "id": "77c0f0be-07fa-4370-a4d9-c05a72f999ce",
   "metadata": {
    "tags": []
   },
   "outputs": [
    {
     "data": {
      "text/plain": [
       "array([[[36.81421161],\n",
       "        [52.37373125]],\n",
       "\n",
       "       [[35.97281991],\n",
       "        [52.8519998 ]],\n",
       "\n",
       "       [[33.61244808],\n",
       "        [46.52274638]],\n",
       "\n",
       "       [[24.69915655],\n",
       "        [32.52504174]]])"
      ]
     },
     "execution_count": 45,
     "metadata": {},
     "output_type": "execute_result"
    }
   ],
   "source": [
    "y_pis_mapie[:4]"
   ]
  },
  {
   "cell_type": "code",
   "execution_count": 46,
   "id": "78ee5b17-bcd2-4ffb-828d-cba8076e873f",
   "metadata": {},
   "outputs": [
    {
     "data": {
      "text/plain": [
       "array([[36.81421161, 52.37373125],\n",
       "       [35.97281991, 52.8519998 ],\n",
       "       [33.61244808, 46.52274638],\n",
       "       [24.69915655, 32.52504174]])"
      ]
     },
     "execution_count": 46,
     "metadata": {},
     "output_type": "execute_result"
    }
   ],
   "source": [
    "y_pis_mapie = y_pis_mapie.reshape((len(y_test),2))\n",
    "y_pis_mapie[:4,:]"
   ]
  },
  {
   "cell_type": "code",
   "execution_count": 47,
   "id": "ecfa6c13-959d-4df2-92c5-2006278b5519",
   "metadata": {},
   "outputs": [
    {
     "data": {
      "text/plain": [
       "(0.8246753246753247, 13.755788597463663)"
      ]
     },
     "execution_count": 47,
     "metadata": {},
     "output_type": "execute_result"
    }
   ],
   "source": [
    "coverage_res_mapie = (y_test >= y_pis_mapie[:,0]) & (y_test<=y_pis_mapie[:,1])\n",
    "np.mean(coverage_res_mapie), np.mean(y_pis_mapie[:,1]-y_pis_mapie[:,0])"
   ]
  },
  {
   "cell_type": "code",
   "execution_count": 48,
   "id": "4ad1c877-cdca-4f0c-804d-694f6befa4fd",
   "metadata": {},
   "outputs": [],
   "source": [
    "est_left = clone(base_estimator)\n",
    "est_right = clone(base_estimator)"
   ]
  },
  {
   "cell_type": "code",
   "execution_count": 49,
   "id": "39fd1c8b-7369-4c5e-a97f-5b560fece96d",
   "metadata": {},
   "outputs": [
    {
     "data": {
      "text/html": [
       "<style>#sk-container-id-7 {color: black;background-color: white;}#sk-container-id-7 pre{padding: 0;}#sk-container-id-7 div.sk-toggleable {background-color: white;}#sk-container-id-7 label.sk-toggleable__label {cursor: pointer;display: block;width: 100%;margin-bottom: 0;padding: 0.3em;box-sizing: border-box;text-align: center;}#sk-container-id-7 label.sk-toggleable__label-arrow:before {content: \"▸\";float: left;margin-right: 0.25em;color: #696969;}#sk-container-id-7 label.sk-toggleable__label-arrow:hover:before {color: black;}#sk-container-id-7 div.sk-estimator:hover label.sk-toggleable__label-arrow:before {color: black;}#sk-container-id-7 div.sk-toggleable__content {max-height: 0;max-width: 0;overflow: hidden;text-align: left;background-color: #f0f8ff;}#sk-container-id-7 div.sk-toggleable__content pre {margin: 0.2em;color: black;border-radius: 0.25em;background-color: #f0f8ff;}#sk-container-id-7 input.sk-toggleable__control:checked~div.sk-toggleable__content {max-height: 200px;max-width: 100%;overflow: auto;}#sk-container-id-7 input.sk-toggleable__control:checked~label.sk-toggleable__label-arrow:before {content: \"▾\";}#sk-container-id-7 div.sk-estimator input.sk-toggleable__control:checked~label.sk-toggleable__label {background-color: #d4ebff;}#sk-container-id-7 div.sk-label input.sk-toggleable__control:checked~label.sk-toggleable__label {background-color: #d4ebff;}#sk-container-id-7 input.sk-hidden--visually {border: 0;clip: rect(1px 1px 1px 1px);clip: rect(1px, 1px, 1px, 1px);height: 1px;margin: -1px;overflow: hidden;padding: 0;position: absolute;width: 1px;}#sk-container-id-7 div.sk-estimator {font-family: monospace;background-color: #f0f8ff;border: 1px dotted black;border-radius: 0.25em;box-sizing: border-box;margin-bottom: 0.5em;}#sk-container-id-7 div.sk-estimator:hover {background-color: #d4ebff;}#sk-container-id-7 div.sk-parallel-item::after {content: \"\";width: 100%;border-bottom: 1px solid gray;flex-grow: 1;}#sk-container-id-7 div.sk-label:hover label.sk-toggleable__label {background-color: #d4ebff;}#sk-container-id-7 div.sk-serial::before {content: \"\";position: absolute;border-left: 1px solid gray;box-sizing: border-box;top: 0;bottom: 0;left: 50%;z-index: 0;}#sk-container-id-7 div.sk-serial {display: flex;flex-direction: column;align-items: center;background-color: white;padding-right: 0.2em;padding-left: 0.2em;position: relative;}#sk-container-id-7 div.sk-item {position: relative;z-index: 1;}#sk-container-id-7 div.sk-parallel {display: flex;align-items: stretch;justify-content: center;background-color: white;position: relative;}#sk-container-id-7 div.sk-item::before, #sk-container-id-7 div.sk-parallel-item::before {content: \"\";position: absolute;border-left: 1px solid gray;box-sizing: border-box;top: 0;bottom: 0;left: 50%;z-index: -1;}#sk-container-id-7 div.sk-parallel-item {display: flex;flex-direction: column;z-index: 1;position: relative;background-color: white;}#sk-container-id-7 div.sk-parallel-item:first-child::after {align-self: flex-end;width: 50%;}#sk-container-id-7 div.sk-parallel-item:last-child::after {align-self: flex-start;width: 50%;}#sk-container-id-7 div.sk-parallel-item:only-child::after {width: 0;}#sk-container-id-7 div.sk-dashed-wrapped {border: 1px dashed gray;margin: 0 0.4em 0.5em 0.4em;box-sizing: border-box;padding-bottom: 0.4em;background-color: white;}#sk-container-id-7 div.sk-label label {font-family: monospace;font-weight: bold;display: inline-block;line-height: 1.2em;}#sk-container-id-7 div.sk-label-container {text-align: center;}#sk-container-id-7 div.sk-container {/* jupyter's `normalize.less` sets `[hidden] { display: none; }` but bootstrap.min.css set `[hidden] { display: none !important; }` so we also need the `!important` here to be able to override the default hidden behavior on the sphinx rendered scikit-learn.org. See: https://github.com/scikit-learn/scikit-learn/issues/21755 */display: inline-block !important;position: relative;}#sk-container-id-7 div.sk-text-repr-fallback {display: none;}</style><div id=\"sk-container-id-7\" class=\"sk-top-container\"><div class=\"sk-text-repr-fallback\"><pre>LGBMRegressor(alpha=0.1, learning_rate=0.02, max_depth=6, n_estimators=5000,\n",
       "              objective=&#x27;quantile&#x27;, random_state=42)</pre><b>In a Jupyter environment, please rerun this cell to show the HTML representation or trust the notebook. <br />On GitHub, the HTML representation is unable to render, please try loading this page with nbviewer.org.</b></div><div class=\"sk-container\" hidden><div class=\"sk-item\"><div class=\"sk-estimator sk-toggleable\"><input class=\"sk-toggleable__control sk-hidden--visually\" id=\"sk-estimator-id-7\" type=\"checkbox\" checked><label for=\"sk-estimator-id-7\" class=\"sk-toggleable__label sk-toggleable__label-arrow\">LGBMRegressor</label><div class=\"sk-toggleable__content\"><pre>LGBMRegressor(alpha=0.1, learning_rate=0.02, max_depth=6, n_estimators=5000,\n",
       "              objective=&#x27;quantile&#x27;, random_state=42)</pre></div></div></div></div></div>"
      ],
      "text/plain": [
       "LGBMRegressor(alpha=0.1, learning_rate=0.02, max_depth=6, n_estimators=5000,\n",
       "              objective='quantile', random_state=42)"
      ]
     },
     "execution_count": 49,
     "metadata": {},
     "output_type": "execute_result"
    }
   ],
   "source": [
    "est_left.set_params(**{'alpha':.1})"
   ]
  },
  {
   "cell_type": "code",
   "execution_count": 50,
   "id": "47d5048a-f6ac-4430-9959-f9286b58f0dd",
   "metadata": {},
   "outputs": [
    {
     "data": {
      "text/html": [
       "<style>#sk-container-id-8 {color: black;background-color: white;}#sk-container-id-8 pre{padding: 0;}#sk-container-id-8 div.sk-toggleable {background-color: white;}#sk-container-id-8 label.sk-toggleable__label {cursor: pointer;display: block;width: 100%;margin-bottom: 0;padding: 0.3em;box-sizing: border-box;text-align: center;}#sk-container-id-8 label.sk-toggleable__label-arrow:before {content: \"▸\";float: left;margin-right: 0.25em;color: #696969;}#sk-container-id-8 label.sk-toggleable__label-arrow:hover:before {color: black;}#sk-container-id-8 div.sk-estimator:hover label.sk-toggleable__label-arrow:before {color: black;}#sk-container-id-8 div.sk-toggleable__content {max-height: 0;max-width: 0;overflow: hidden;text-align: left;background-color: #f0f8ff;}#sk-container-id-8 div.sk-toggleable__content pre {margin: 0.2em;color: black;border-radius: 0.25em;background-color: #f0f8ff;}#sk-container-id-8 input.sk-toggleable__control:checked~div.sk-toggleable__content {max-height: 200px;max-width: 100%;overflow: auto;}#sk-container-id-8 input.sk-toggleable__control:checked~label.sk-toggleable__label-arrow:before {content: \"▾\";}#sk-container-id-8 div.sk-estimator input.sk-toggleable__control:checked~label.sk-toggleable__label {background-color: #d4ebff;}#sk-container-id-8 div.sk-label input.sk-toggleable__control:checked~label.sk-toggleable__label {background-color: #d4ebff;}#sk-container-id-8 input.sk-hidden--visually {border: 0;clip: rect(1px 1px 1px 1px);clip: rect(1px, 1px, 1px, 1px);height: 1px;margin: -1px;overflow: hidden;padding: 0;position: absolute;width: 1px;}#sk-container-id-8 div.sk-estimator {font-family: monospace;background-color: #f0f8ff;border: 1px dotted black;border-radius: 0.25em;box-sizing: border-box;margin-bottom: 0.5em;}#sk-container-id-8 div.sk-estimator:hover {background-color: #d4ebff;}#sk-container-id-8 div.sk-parallel-item::after {content: \"\";width: 100%;border-bottom: 1px solid gray;flex-grow: 1;}#sk-container-id-8 div.sk-label:hover label.sk-toggleable__label {background-color: #d4ebff;}#sk-container-id-8 div.sk-serial::before {content: \"\";position: absolute;border-left: 1px solid gray;box-sizing: border-box;top: 0;bottom: 0;left: 50%;z-index: 0;}#sk-container-id-8 div.sk-serial {display: flex;flex-direction: column;align-items: center;background-color: white;padding-right: 0.2em;padding-left: 0.2em;position: relative;}#sk-container-id-8 div.sk-item {position: relative;z-index: 1;}#sk-container-id-8 div.sk-parallel {display: flex;align-items: stretch;justify-content: center;background-color: white;position: relative;}#sk-container-id-8 div.sk-item::before, #sk-container-id-8 div.sk-parallel-item::before {content: \"\";position: absolute;border-left: 1px solid gray;box-sizing: border-box;top: 0;bottom: 0;left: 50%;z-index: -1;}#sk-container-id-8 div.sk-parallel-item {display: flex;flex-direction: column;z-index: 1;position: relative;background-color: white;}#sk-container-id-8 div.sk-parallel-item:first-child::after {align-self: flex-end;width: 50%;}#sk-container-id-8 div.sk-parallel-item:last-child::after {align-self: flex-start;width: 50%;}#sk-container-id-8 div.sk-parallel-item:only-child::after {width: 0;}#sk-container-id-8 div.sk-dashed-wrapped {border: 1px dashed gray;margin: 0 0.4em 0.5em 0.4em;box-sizing: border-box;padding-bottom: 0.4em;background-color: white;}#sk-container-id-8 div.sk-label label {font-family: monospace;font-weight: bold;display: inline-block;line-height: 1.2em;}#sk-container-id-8 div.sk-label-container {text-align: center;}#sk-container-id-8 div.sk-container {/* jupyter's `normalize.less` sets `[hidden] { display: none; }` but bootstrap.min.css set `[hidden] { display: none !important; }` so we also need the `!important` here to be able to override the default hidden behavior on the sphinx rendered scikit-learn.org. See: https://github.com/scikit-learn/scikit-learn/issues/21755 */display: inline-block !important;position: relative;}#sk-container-id-8 div.sk-text-repr-fallback {display: none;}</style><div id=\"sk-container-id-8\" class=\"sk-top-container\"><div class=\"sk-text-repr-fallback\"><pre>LGBMRegressor(alpha=0.9, learning_rate=0.02, max_depth=6, n_estimators=5000,\n",
       "              objective=&#x27;quantile&#x27;, random_state=42)</pre><b>In a Jupyter environment, please rerun this cell to show the HTML representation or trust the notebook. <br />On GitHub, the HTML representation is unable to render, please try loading this page with nbviewer.org.</b></div><div class=\"sk-container\" hidden><div class=\"sk-item\"><div class=\"sk-estimator sk-toggleable\"><input class=\"sk-toggleable__control sk-hidden--visually\" id=\"sk-estimator-id-8\" type=\"checkbox\" checked><label for=\"sk-estimator-id-8\" class=\"sk-toggleable__label sk-toggleable__label-arrow\">LGBMRegressor</label><div class=\"sk-toggleable__content\"><pre>LGBMRegressor(alpha=0.9, learning_rate=0.02, max_depth=6, n_estimators=5000,\n",
       "              objective=&#x27;quantile&#x27;, random_state=42)</pre></div></div></div></div></div>"
      ],
      "text/plain": [
       "LGBMRegressor(alpha=0.9, learning_rate=0.02, max_depth=6, n_estimators=5000,\n",
       "              objective='quantile', random_state=42)"
      ]
     },
     "execution_count": 50,
     "metadata": {},
     "output_type": "execute_result"
    }
   ],
   "source": [
    "est_right.set_params(**{'alpha':.9})"
   ]
  },
  {
   "cell_type": "code",
   "execution_count": 51,
   "id": "79e69213-e35a-4d11-bd98-618944349224",
   "metadata": {},
   "outputs": [
    {
     "data": {
      "text/html": [
       "<style>#sk-container-id-9 {color: black;background-color: white;}#sk-container-id-9 pre{padding: 0;}#sk-container-id-9 div.sk-toggleable {background-color: white;}#sk-container-id-9 label.sk-toggleable__label {cursor: pointer;display: block;width: 100%;margin-bottom: 0;padding: 0.3em;box-sizing: border-box;text-align: center;}#sk-container-id-9 label.sk-toggleable__label-arrow:before {content: \"▸\";float: left;margin-right: 0.25em;color: #696969;}#sk-container-id-9 label.sk-toggleable__label-arrow:hover:before {color: black;}#sk-container-id-9 div.sk-estimator:hover label.sk-toggleable__label-arrow:before {color: black;}#sk-container-id-9 div.sk-toggleable__content {max-height: 0;max-width: 0;overflow: hidden;text-align: left;background-color: #f0f8ff;}#sk-container-id-9 div.sk-toggleable__content pre {margin: 0.2em;color: black;border-radius: 0.25em;background-color: #f0f8ff;}#sk-container-id-9 input.sk-toggleable__control:checked~div.sk-toggleable__content {max-height: 200px;max-width: 100%;overflow: auto;}#sk-container-id-9 input.sk-toggleable__control:checked~label.sk-toggleable__label-arrow:before {content: \"▾\";}#sk-container-id-9 div.sk-estimator input.sk-toggleable__control:checked~label.sk-toggleable__label {background-color: #d4ebff;}#sk-container-id-9 div.sk-label input.sk-toggleable__control:checked~label.sk-toggleable__label {background-color: #d4ebff;}#sk-container-id-9 input.sk-hidden--visually {border: 0;clip: rect(1px 1px 1px 1px);clip: rect(1px, 1px, 1px, 1px);height: 1px;margin: -1px;overflow: hidden;padding: 0;position: absolute;width: 1px;}#sk-container-id-9 div.sk-estimator {font-family: monospace;background-color: #f0f8ff;border: 1px dotted black;border-radius: 0.25em;box-sizing: border-box;margin-bottom: 0.5em;}#sk-container-id-9 div.sk-estimator:hover {background-color: #d4ebff;}#sk-container-id-9 div.sk-parallel-item::after {content: \"\";width: 100%;border-bottom: 1px solid gray;flex-grow: 1;}#sk-container-id-9 div.sk-label:hover label.sk-toggleable__label {background-color: #d4ebff;}#sk-container-id-9 div.sk-serial::before {content: \"\";position: absolute;border-left: 1px solid gray;box-sizing: border-box;top: 0;bottom: 0;left: 50%;z-index: 0;}#sk-container-id-9 div.sk-serial {display: flex;flex-direction: column;align-items: center;background-color: white;padding-right: 0.2em;padding-left: 0.2em;position: relative;}#sk-container-id-9 div.sk-item {position: relative;z-index: 1;}#sk-container-id-9 div.sk-parallel {display: flex;align-items: stretch;justify-content: center;background-color: white;position: relative;}#sk-container-id-9 div.sk-item::before, #sk-container-id-9 div.sk-parallel-item::before {content: \"\";position: absolute;border-left: 1px solid gray;box-sizing: border-box;top: 0;bottom: 0;left: 50%;z-index: -1;}#sk-container-id-9 div.sk-parallel-item {display: flex;flex-direction: column;z-index: 1;position: relative;background-color: white;}#sk-container-id-9 div.sk-parallel-item:first-child::after {align-self: flex-end;width: 50%;}#sk-container-id-9 div.sk-parallel-item:last-child::after {align-self: flex-start;width: 50%;}#sk-container-id-9 div.sk-parallel-item:only-child::after {width: 0;}#sk-container-id-9 div.sk-dashed-wrapped {border: 1px dashed gray;margin: 0 0.4em 0.5em 0.4em;box-sizing: border-box;padding-bottom: 0.4em;background-color: white;}#sk-container-id-9 div.sk-label label {font-family: monospace;font-weight: bold;display: inline-block;line-height: 1.2em;}#sk-container-id-9 div.sk-label-container {text-align: center;}#sk-container-id-9 div.sk-container {/* jupyter's `normalize.less` sets `[hidden] { display: none; }` but bootstrap.min.css set `[hidden] { display: none !important; }` so we also need the `!important` here to be able to override the default hidden behavior on the sphinx rendered scikit-learn.org. See: https://github.com/scikit-learn/scikit-learn/issues/21755 */display: inline-block !important;position: relative;}#sk-container-id-9 div.sk-text-repr-fallback {display: none;}</style><div id=\"sk-container-id-9\" class=\"sk-top-container\"><div class=\"sk-text-repr-fallback\"><pre>LGBMRegressor(alpha=0.9, learning_rate=0.02, max_depth=6, n_estimators=5000,\n",
       "              objective=&#x27;quantile&#x27;, random_state=42)</pre><b>In a Jupyter environment, please rerun this cell to show the HTML representation or trust the notebook. <br />On GitHub, the HTML representation is unable to render, please try loading this page with nbviewer.org.</b></div><div class=\"sk-container\" hidden><div class=\"sk-item\"><div class=\"sk-estimator sk-toggleable\"><input class=\"sk-toggleable__control sk-hidden--visually\" id=\"sk-estimator-id-9\" type=\"checkbox\" checked><label for=\"sk-estimator-id-9\" class=\"sk-toggleable__label sk-toggleable__label-arrow\">LGBMRegressor</label><div class=\"sk-toggleable__content\"><pre>LGBMRegressor(alpha=0.9, learning_rate=0.02, max_depth=6, n_estimators=5000,\n",
       "              objective=&#x27;quantile&#x27;, random_state=42)</pre></div></div></div></div></div>"
      ],
      "text/plain": [
       "LGBMRegressor(alpha=0.9, learning_rate=0.02, max_depth=6, n_estimators=5000,\n",
       "              objective='quantile', random_state=42)"
      ]
     },
     "execution_count": 51,
     "metadata": {},
     "output_type": "execute_result"
    }
   ],
   "source": [
    "est_left.fit(X_train, y_train) # no early stopping - use what base_estimator has\n",
    "est_right.fit(X_train, y_train) "
   ]
  },
  {
   "cell_type": "code",
   "execution_count": 52,
   "id": "b48afd00-3ea1-446e-a094-b18d3e41b7b0",
   "metadata": {},
   "outputs": [],
   "source": [
    "left_ep_test_pc = est_left.predict(X_test)\n",
    "right_ep_test_pc = est_right.predict(X_test)"
   ]
  },
  {
   "cell_type": "code",
   "execution_count": 53,
   "id": "d4ed40f3-8fc5-406a-84ec-22ce45070407",
   "metadata": {},
   "outputs": [],
   "source": [
    "pis_preconformal = np.vstack((left_ep_test_pc,right_ep_test_pc)).T"
   ]
  },
  {
   "cell_type": "code",
   "execution_count": 54,
   "id": "eb49133a-9da2-4eeb-9fe9-915dca0f175f",
   "metadata": {},
   "outputs": [
    {
     "data": {
      "text/plain": [
       "array([-2.99545949, -4.16622748, -3.2711696 , -1.93807947, -2.95614258,\n",
       "       -4.95604753, -3.03714181, -3.76300653, -2.91932085, -4.57022975])"
      ]
     },
     "execution_count": 54,
     "metadata": {},
     "output_type": "execute_result"
    }
   ],
   "source": [
    "(y_pis_mapie[:,0] - pis_preconformal[:,0])[:10]"
   ]
  },
  {
   "cell_type": "code",
   "execution_count": 55,
   "id": "468a6d09-4730-4f03-8f02-0664859d26c1",
   "metadata": {
    "tags": []
   },
   "outputs": [
    {
     "data": {
      "text/plain": [
       "array([1.95915723, 2.81726122, 3.71230112, 2.09554627, 2.31796434,\n",
       "       3.02997068, 2.50590108, 2.54245918, 1.97409385, 2.97846344])"
      ]
     },
     "execution_count": 55,
     "metadata": {},
     "output_type": "execute_result"
    }
   ],
   "source": [
    "(y_pis_mapie[:,1] - pis_preconformal[:,1])[:10]"
   ]
  },
  {
   "cell_type": "code",
   "execution_count": null,
   "id": "8ecc3333-0741-44d2-9388-66084ad5d6e6",
   "metadata": {},
   "outputs": [],
   "source": []
  }
 ],
 "metadata": {
  "kernelspec": {
   "display_name": "Python 3 (ipykernel)",
   "language": "python",
   "name": "python3"
  },
  "language_info": {
   "codemirror_mode": {
    "name": "ipython",
    "version": 3
   },
   "file_extension": ".py",
   "mimetype": "text/x-python",
   "name": "python",
   "nbconvert_exporter": "python",
   "pygments_lexer": "ipython3",
   "version": "3.9.13"
  }
 },
 "nbformat": 4,
 "nbformat_minor": 5
}
